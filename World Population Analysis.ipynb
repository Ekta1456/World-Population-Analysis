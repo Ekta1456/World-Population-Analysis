{
 "cells": [
  {
   "cell_type": "markdown",
   "metadata": {},
   "source": [
    "#  World Population Analysis\n",
    "At present world population is very increasing day by day. \n",
    "All nations are committed to achieving a higher standard of living for their people—adequate food, good health, literacy, education, and gainful employment. These are the goals of millions now living in privation. An important barrier to the achievement of these goals is the current rate of population growth. The present world population is likely to double in the next 35 years, producing a population of six billion by the year 2000. If the same rate of growth continues, there will be 12 billion people on earth in 70 years and over 25 billion by the year 2070. Such rapid population growth, which is out of proportion to present and prospective rates of increase in economic development, imposes a heavy burden on all efforts to improve human welfare. Moreover, since we live in an interconnected world, it is an international problem from which no one can escape.\n",
    "National Academies of Sciences, Engineering, and Medicine. 1963. The Growth of World Population: Analysis of the Problems and Recommendations for Research and Training. Washington, DC: The National Academies Press.\n",
    "\n",
    "we will collect the data from kaggle"
   ]
  },
  {
   "cell_type": "code",
   "execution_count": 1,
   "metadata": {},
   "outputs": [],
   "source": [
    "!pip install jovian opendatasets --upgrade --quiet"
   ]
  },
  {
   "cell_type": "markdown",
   "metadata": {},
   "source": [
    "Let's begin by downloading the data, and listing the files within the dataset."
   ]
  },
  {
   "cell_type": "markdown",
   "metadata": {},
   "source": [
    "##  Selecting a dataset"
   ]
  },
  {
   "cell_type": "code",
   "execution_count": 2,
   "metadata": {},
   "outputs": [],
   "source": [
    "# Change this\n",
    "dataset_url = 'https://www.kaggle.com/datasets/iamsouravbanerjee/world-population-dataset' "
   ]
  },
  {
   "cell_type": "code",
   "execution_count": 6,
   "metadata": {},
   "outputs": [
    {
     "name": "stdout",
     "output_type": "stream",
     "text": [
      "Skipping, found downloaded files in \"./world-population-dataset\" (use force=True to force download)\n"
     ]
    }
   ],
   "source": [
    "import opendatasets as od\n",
    "od.download(dataset_url)"
   ]
  },
  {
   "cell_type": "markdown",
   "metadata": {},
   "source": [
    "The dataset has been downloaded and extracted."
   ]
  },
  {
   "cell_type": "code",
   "execution_count": 7,
   "metadata": {},
   "outputs": [],
   "source": [
    "# Change this\n",
    "data_dir =  \"./world-population-dataset\""
   ]
  },
  {
   "cell_type": "code",
   "execution_count": 8,
   "metadata": {},
   "outputs": [
    {
     "data": {
      "text/plain": [
       "['world_population.csv']"
      ]
     },
     "execution_count": 8,
     "metadata": {},
     "output_type": "execute_result"
    }
   ],
   "source": [
    "import os\n",
    "os.listdir(data_dir)"
   ]
  },
  {
   "cell_type": "markdown",
   "metadata": {},
   "source": [
    "Let us save and upload our work to Jovian before continuing."
   ]
  },
  {
   "cell_type": "code",
   "execution_count": 9,
   "metadata": {},
   "outputs": [],
   "source": [
    "project_name = \"World population\" "
   ]
  },
  {
   "cell_type": "code",
   "execution_count": 10,
   "metadata": {},
   "outputs": [],
   "source": [
    "!pip install jovian --upgrade -q"
   ]
  },
  {
   "cell_type": "code",
   "execution_count": 11,
   "metadata": {},
   "outputs": [],
   "source": [
    "import jovian"
   ]
  },
  {
   "cell_type": "code",
   "execution_count": 12,
   "metadata": {},
   "outputs": [
    {
     "data": {
      "application/javascript": [
       "window.require && require([\"base/js/namespace\"],function(Jupyter){Jupyter.notebook.save_checkpoint()})"
      ],
      "text/plain": [
       "<IPython.core.display.Javascript object>"
      ]
     },
     "metadata": {},
     "output_type": "display_data"
    },
    {
     "name": "stdout",
     "output_type": "stream",
     "text": [
      "[jovian] Updating notebook \"eektafoudar/world-population\" on https://jovian.com\u001b[0m\n",
      "[jovian] Committed successfully! https://jovian.com/eektafoudar/world-population\u001b[0m\n"
     ]
    },
    {
     "data": {
      "text/plain": [
       "'https://jovian.com/eektafoudar/world-population'"
      ]
     },
     "execution_count": 12,
     "metadata": {},
     "output_type": "execute_result"
    }
   ],
   "source": [
    "jovian.commit(project=project_name)"
   ]
  },
  {
   "cell_type": "markdown",
   "metadata": {},
   "source": [
    "## Data Preparation and Cleaning\n",
    "\n",
    "Data cleaning and preparation is the process of preparing data for analysis. This includes identifying and removing errors, filling in missing values, and dealing with outliers. Data preparation can be a time-consuming process, but it is essential for ensuring that your data is accurate and ready for analysis.\n",
    "\n"
   ]
  },
  {
   "cell_type": "code",
   "execution_count": 13,
   "metadata": {},
   "outputs": [],
   "source": [
    "import pandas as pd"
   ]
  },
  {
   "cell_type": "code",
   "execution_count": 14,
   "metadata": {},
   "outputs": [],
   "source": [
    "world_pop = pd.read_csv(data_dir + '/world_population.csv')"
   ]
  },
  {
   "cell_type": "code",
   "execution_count": 15,
   "metadata": {},
   "outputs": [
    {
     "data": {
      "text/html": [
       "<div>\n",
       "<style scoped>\n",
       "    .dataframe tbody tr th:only-of-type {\n",
       "        vertical-align: middle;\n",
       "    }\n",
       "\n",
       "    .dataframe tbody tr th {\n",
       "        vertical-align: top;\n",
       "    }\n",
       "\n",
       "    .dataframe thead th {\n",
       "        text-align: right;\n",
       "    }\n",
       "</style>\n",
       "<table border=\"1\" class=\"dataframe\">\n",
       "  <thead>\n",
       "    <tr style=\"text-align: right;\">\n",
       "      <th></th>\n",
       "      <th>Rank</th>\n",
       "      <th>CCA3</th>\n",
       "      <th>Country/Territory</th>\n",
       "      <th>Capital</th>\n",
       "      <th>Continent</th>\n",
       "      <th>2022 Population</th>\n",
       "      <th>2020 Population</th>\n",
       "      <th>2015 Population</th>\n",
       "      <th>2010 Population</th>\n",
       "      <th>2000 Population</th>\n",
       "      <th>1990 Population</th>\n",
       "      <th>1980 Population</th>\n",
       "      <th>1970 Population</th>\n",
       "      <th>Area (km²)</th>\n",
       "      <th>Density (per km²)</th>\n",
       "      <th>Growth Rate</th>\n",
       "      <th>World Population Percentage</th>\n",
       "    </tr>\n",
       "  </thead>\n",
       "  <tbody>\n",
       "    <tr>\n",
       "      <th>0</th>\n",
       "      <td>36</td>\n",
       "      <td>AFG</td>\n",
       "      <td>Afghanistan</td>\n",
       "      <td>Kabul</td>\n",
       "      <td>Asia</td>\n",
       "      <td>41128771</td>\n",
       "      <td>38972230</td>\n",
       "      <td>33753499</td>\n",
       "      <td>28189672</td>\n",
       "      <td>19542982</td>\n",
       "      <td>10694796</td>\n",
       "      <td>12486631</td>\n",
       "      <td>10752971</td>\n",
       "      <td>652230</td>\n",
       "      <td>63.0587</td>\n",
       "      <td>1.0257</td>\n",
       "      <td>0.52</td>\n",
       "    </tr>\n",
       "    <tr>\n",
       "      <th>1</th>\n",
       "      <td>138</td>\n",
       "      <td>ALB</td>\n",
       "      <td>Albania</td>\n",
       "      <td>Tirana</td>\n",
       "      <td>Europe</td>\n",
       "      <td>2842321</td>\n",
       "      <td>2866849</td>\n",
       "      <td>2882481</td>\n",
       "      <td>2913399</td>\n",
       "      <td>3182021</td>\n",
       "      <td>3295066</td>\n",
       "      <td>2941651</td>\n",
       "      <td>2324731</td>\n",
       "      <td>28748</td>\n",
       "      <td>98.8702</td>\n",
       "      <td>0.9957</td>\n",
       "      <td>0.04</td>\n",
       "    </tr>\n",
       "    <tr>\n",
       "      <th>2</th>\n",
       "      <td>34</td>\n",
       "      <td>DZA</td>\n",
       "      <td>Algeria</td>\n",
       "      <td>Algiers</td>\n",
       "      <td>Africa</td>\n",
       "      <td>44903225</td>\n",
       "      <td>43451666</td>\n",
       "      <td>39543154</td>\n",
       "      <td>35856344</td>\n",
       "      <td>30774621</td>\n",
       "      <td>25518074</td>\n",
       "      <td>18739378</td>\n",
       "      <td>13795915</td>\n",
       "      <td>2381741</td>\n",
       "      <td>18.8531</td>\n",
       "      <td>1.0164</td>\n",
       "      <td>0.56</td>\n",
       "    </tr>\n",
       "    <tr>\n",
       "      <th>3</th>\n",
       "      <td>213</td>\n",
       "      <td>ASM</td>\n",
       "      <td>American Samoa</td>\n",
       "      <td>Pago Pago</td>\n",
       "      <td>Oceania</td>\n",
       "      <td>44273</td>\n",
       "      <td>46189</td>\n",
       "      <td>51368</td>\n",
       "      <td>54849</td>\n",
       "      <td>58230</td>\n",
       "      <td>47818</td>\n",
       "      <td>32886</td>\n",
       "      <td>27075</td>\n",
       "      <td>199</td>\n",
       "      <td>222.4774</td>\n",
       "      <td>0.9831</td>\n",
       "      <td>0.00</td>\n",
       "    </tr>\n",
       "    <tr>\n",
       "      <th>4</th>\n",
       "      <td>203</td>\n",
       "      <td>AND</td>\n",
       "      <td>Andorra</td>\n",
       "      <td>Andorra la Vella</td>\n",
       "      <td>Europe</td>\n",
       "      <td>79824</td>\n",
       "      <td>77700</td>\n",
       "      <td>71746</td>\n",
       "      <td>71519</td>\n",
       "      <td>66097</td>\n",
       "      <td>53569</td>\n",
       "      <td>35611</td>\n",
       "      <td>19860</td>\n",
       "      <td>468</td>\n",
       "      <td>170.5641</td>\n",
       "      <td>1.0100</td>\n",
       "      <td>0.00</td>\n",
       "    </tr>\n",
       "    <tr>\n",
       "      <th>...</th>\n",
       "      <td>...</td>\n",
       "      <td>...</td>\n",
       "      <td>...</td>\n",
       "      <td>...</td>\n",
       "      <td>...</td>\n",
       "      <td>...</td>\n",
       "      <td>...</td>\n",
       "      <td>...</td>\n",
       "      <td>...</td>\n",
       "      <td>...</td>\n",
       "      <td>...</td>\n",
       "      <td>...</td>\n",
       "      <td>...</td>\n",
       "      <td>...</td>\n",
       "      <td>...</td>\n",
       "      <td>...</td>\n",
       "      <td>...</td>\n",
       "    </tr>\n",
       "    <tr>\n",
       "      <th>229</th>\n",
       "      <td>226</td>\n",
       "      <td>WLF</td>\n",
       "      <td>Wallis and Futuna</td>\n",
       "      <td>Mata-Utu</td>\n",
       "      <td>Oceania</td>\n",
       "      <td>11572</td>\n",
       "      <td>11655</td>\n",
       "      <td>12182</td>\n",
       "      <td>13142</td>\n",
       "      <td>14723</td>\n",
       "      <td>13454</td>\n",
       "      <td>11315</td>\n",
       "      <td>9377</td>\n",
       "      <td>142</td>\n",
       "      <td>81.4930</td>\n",
       "      <td>0.9953</td>\n",
       "      <td>0.00</td>\n",
       "    </tr>\n",
       "    <tr>\n",
       "      <th>230</th>\n",
       "      <td>172</td>\n",
       "      <td>ESH</td>\n",
       "      <td>Western Sahara</td>\n",
       "      <td>El Aaiún</td>\n",
       "      <td>Africa</td>\n",
       "      <td>575986</td>\n",
       "      <td>556048</td>\n",
       "      <td>491824</td>\n",
       "      <td>413296</td>\n",
       "      <td>270375</td>\n",
       "      <td>178529</td>\n",
       "      <td>116775</td>\n",
       "      <td>76371</td>\n",
       "      <td>266000</td>\n",
       "      <td>2.1654</td>\n",
       "      <td>1.0184</td>\n",
       "      <td>0.01</td>\n",
       "    </tr>\n",
       "    <tr>\n",
       "      <th>231</th>\n",
       "      <td>46</td>\n",
       "      <td>YEM</td>\n",
       "      <td>Yemen</td>\n",
       "      <td>Sanaa</td>\n",
       "      <td>Asia</td>\n",
       "      <td>33696614</td>\n",
       "      <td>32284046</td>\n",
       "      <td>28516545</td>\n",
       "      <td>24743946</td>\n",
       "      <td>18628700</td>\n",
       "      <td>13375121</td>\n",
       "      <td>9204938</td>\n",
       "      <td>6843607</td>\n",
       "      <td>527968</td>\n",
       "      <td>63.8232</td>\n",
       "      <td>1.0217</td>\n",
       "      <td>0.42</td>\n",
       "    </tr>\n",
       "    <tr>\n",
       "      <th>232</th>\n",
       "      <td>63</td>\n",
       "      <td>ZMB</td>\n",
       "      <td>Zambia</td>\n",
       "      <td>Lusaka</td>\n",
       "      <td>Africa</td>\n",
       "      <td>20017675</td>\n",
       "      <td>18927715</td>\n",
       "      <td>16248230</td>\n",
       "      <td>13792086</td>\n",
       "      <td>9891136</td>\n",
       "      <td>7686401</td>\n",
       "      <td>5720438</td>\n",
       "      <td>4281671</td>\n",
       "      <td>752612</td>\n",
       "      <td>26.5976</td>\n",
       "      <td>1.0280</td>\n",
       "      <td>0.25</td>\n",
       "    </tr>\n",
       "    <tr>\n",
       "      <th>233</th>\n",
       "      <td>74</td>\n",
       "      <td>ZWE</td>\n",
       "      <td>Zimbabwe</td>\n",
       "      <td>Harare</td>\n",
       "      <td>Africa</td>\n",
       "      <td>16320537</td>\n",
       "      <td>15669666</td>\n",
       "      <td>14154937</td>\n",
       "      <td>12839771</td>\n",
       "      <td>11834676</td>\n",
       "      <td>10113893</td>\n",
       "      <td>7049926</td>\n",
       "      <td>5202918</td>\n",
       "      <td>390757</td>\n",
       "      <td>41.7665</td>\n",
       "      <td>1.0204</td>\n",
       "      <td>0.20</td>\n",
       "    </tr>\n",
       "  </tbody>\n",
       "</table>\n",
       "<p>234 rows × 17 columns</p>\n",
       "</div>"
      ],
      "text/plain": [
       "     Rank CCA3  Country/Territory           Capital Continent  \\\n",
       "0      36  AFG        Afghanistan             Kabul      Asia   \n",
       "1     138  ALB            Albania            Tirana    Europe   \n",
       "2      34  DZA            Algeria           Algiers    Africa   \n",
       "3     213  ASM     American Samoa         Pago Pago   Oceania   \n",
       "4     203  AND            Andorra  Andorra la Vella    Europe   \n",
       "..    ...  ...                ...               ...       ...   \n",
       "229   226  WLF  Wallis and Futuna          Mata-Utu   Oceania   \n",
       "230   172  ESH     Western Sahara          El Aaiún    Africa   \n",
       "231    46  YEM              Yemen             Sanaa      Asia   \n",
       "232    63  ZMB             Zambia            Lusaka    Africa   \n",
       "233    74  ZWE           Zimbabwe            Harare    Africa   \n",
       "\n",
       "     2022 Population  2020 Population  2015 Population  2010 Population  \\\n",
       "0           41128771         38972230         33753499         28189672   \n",
       "1            2842321          2866849          2882481          2913399   \n",
       "2           44903225         43451666         39543154         35856344   \n",
       "3              44273            46189            51368            54849   \n",
       "4              79824            77700            71746            71519   \n",
       "..               ...              ...              ...              ...   \n",
       "229            11572            11655            12182            13142   \n",
       "230           575986           556048           491824           413296   \n",
       "231         33696614         32284046         28516545         24743946   \n",
       "232         20017675         18927715         16248230         13792086   \n",
       "233         16320537         15669666         14154937         12839771   \n",
       "\n",
       "     2000 Population  1990 Population  1980 Population  1970 Population  \\\n",
       "0           19542982         10694796         12486631         10752971   \n",
       "1            3182021          3295066          2941651          2324731   \n",
       "2           30774621         25518074         18739378         13795915   \n",
       "3              58230            47818            32886            27075   \n",
       "4              66097            53569            35611            19860   \n",
       "..               ...              ...              ...              ...   \n",
       "229            14723            13454            11315             9377   \n",
       "230           270375           178529           116775            76371   \n",
       "231         18628700         13375121          9204938          6843607   \n",
       "232          9891136          7686401          5720438          4281671   \n",
       "233         11834676         10113893          7049926          5202918   \n",
       "\n",
       "     Area (km²)  Density (per km²)  Growth Rate  World Population Percentage  \n",
       "0        652230            63.0587       1.0257                         0.52  \n",
       "1         28748            98.8702       0.9957                         0.04  \n",
       "2       2381741            18.8531       1.0164                         0.56  \n",
       "3           199           222.4774       0.9831                         0.00  \n",
       "4           468           170.5641       1.0100                         0.00  \n",
       "..          ...                ...          ...                          ...  \n",
       "229         142            81.4930       0.9953                         0.00  \n",
       "230      266000             2.1654       1.0184                         0.01  \n",
       "231      527968            63.8232       1.0217                         0.42  \n",
       "232      752612            26.5976       1.0280                         0.25  \n",
       "233      390757            41.7665       1.0204                         0.20  \n",
       "\n",
       "[234 rows x 17 columns]"
      ]
     },
     "execution_count": 15,
     "metadata": {},
     "output_type": "execute_result"
    }
   ],
   "source": [
    "world_pop"
   ]
  },
  {
   "cell_type": "code",
   "execution_count": 16,
   "metadata": {},
   "outputs": [
    {
     "name": "stdout",
     "output_type": "stream",
     "text": [
      "<class 'pandas.core.frame.DataFrame'>\n",
      "RangeIndex: 234 entries, 0 to 233\n",
      "Data columns (total 17 columns):\n",
      " #   Column                       Non-Null Count  Dtype  \n",
      "---  ------                       --------------  -----  \n",
      " 0   Rank                         234 non-null    int64  \n",
      " 1   CCA3                         234 non-null    object \n",
      " 2   Country/Territory            234 non-null    object \n",
      " 3   Capital                      234 non-null    object \n",
      " 4   Continent                    234 non-null    object \n",
      " 5   2022 Population              234 non-null    int64  \n",
      " 6   2020 Population              234 non-null    int64  \n",
      " 7   2015 Population              234 non-null    int64  \n",
      " 8   2010 Population              234 non-null    int64  \n",
      " 9   2000 Population              234 non-null    int64  \n",
      " 10  1990 Population              234 non-null    int64  \n",
      " 11  1980 Population              234 non-null    int64  \n",
      " 12  1970 Population              234 non-null    int64  \n",
      " 13  Area (km²)                   234 non-null    int64  \n",
      " 14  Density (per km²)            234 non-null    float64\n",
      " 15  Growth Rate                  234 non-null    float64\n",
      " 16  World Population Percentage  234 non-null    float64\n",
      "dtypes: float64(3), int64(10), object(4)\n",
      "memory usage: 31.2+ KB\n"
     ]
    }
   ],
   "source": [
    "world_pop.info()"
   ]
  },
  {
   "cell_type": "code",
   "execution_count": 17,
   "metadata": {},
   "outputs": [
    {
     "data": {
      "text/html": [
       "<div>\n",
       "<style scoped>\n",
       "    .dataframe tbody tr th:only-of-type {\n",
       "        vertical-align: middle;\n",
       "    }\n",
       "\n",
       "    .dataframe tbody tr th {\n",
       "        vertical-align: top;\n",
       "    }\n",
       "\n",
       "    .dataframe thead th {\n",
       "        text-align: right;\n",
       "    }\n",
       "</style>\n",
       "<table border=\"1\" class=\"dataframe\">\n",
       "  <thead>\n",
       "    <tr style=\"text-align: right;\">\n",
       "      <th></th>\n",
       "      <th>Rank</th>\n",
       "      <th>2022 Population</th>\n",
       "      <th>2020 Population</th>\n",
       "      <th>2015 Population</th>\n",
       "      <th>2010 Population</th>\n",
       "      <th>2000 Population</th>\n",
       "      <th>1990 Population</th>\n",
       "      <th>1980 Population</th>\n",
       "      <th>1970 Population</th>\n",
       "      <th>Area (km²)</th>\n",
       "      <th>Density (per km²)</th>\n",
       "      <th>Growth Rate</th>\n",
       "      <th>World Population Percentage</th>\n",
       "    </tr>\n",
       "  </thead>\n",
       "  <tbody>\n",
       "    <tr>\n",
       "      <th>count</th>\n",
       "      <td>234.000000</td>\n",
       "      <td>2.340000e+02</td>\n",
       "      <td>2.340000e+02</td>\n",
       "      <td>2.340000e+02</td>\n",
       "      <td>2.340000e+02</td>\n",
       "      <td>2.340000e+02</td>\n",
       "      <td>2.340000e+02</td>\n",
       "      <td>2.340000e+02</td>\n",
       "      <td>2.340000e+02</td>\n",
       "      <td>2.340000e+02</td>\n",
       "      <td>234.000000</td>\n",
       "      <td>234.000000</td>\n",
       "      <td>234.000000</td>\n",
       "    </tr>\n",
       "    <tr>\n",
       "      <th>mean</th>\n",
       "      <td>117.500000</td>\n",
       "      <td>3.407441e+07</td>\n",
       "      <td>3.350107e+07</td>\n",
       "      <td>3.172996e+07</td>\n",
       "      <td>2.984524e+07</td>\n",
       "      <td>2.626947e+07</td>\n",
       "      <td>2.271022e+07</td>\n",
       "      <td>1.898462e+07</td>\n",
       "      <td>1.578691e+07</td>\n",
       "      <td>5.814494e+05</td>\n",
       "      <td>452.127044</td>\n",
       "      <td>1.009577</td>\n",
       "      <td>0.427051</td>\n",
       "    </tr>\n",
       "    <tr>\n",
       "      <th>std</th>\n",
       "      <td>67.694165</td>\n",
       "      <td>1.367664e+08</td>\n",
       "      <td>1.355899e+08</td>\n",
       "      <td>1.304050e+08</td>\n",
       "      <td>1.242185e+08</td>\n",
       "      <td>1.116982e+08</td>\n",
       "      <td>9.783217e+07</td>\n",
       "      <td>8.178519e+07</td>\n",
       "      <td>6.779509e+07</td>\n",
       "      <td>1.761841e+06</td>\n",
       "      <td>2066.121904</td>\n",
       "      <td>0.013385</td>\n",
       "      <td>1.714977</td>\n",
       "    </tr>\n",
       "    <tr>\n",
       "      <th>min</th>\n",
       "      <td>1.000000</td>\n",
       "      <td>5.100000e+02</td>\n",
       "      <td>5.200000e+02</td>\n",
       "      <td>5.640000e+02</td>\n",
       "      <td>5.960000e+02</td>\n",
       "      <td>6.510000e+02</td>\n",
       "      <td>7.000000e+02</td>\n",
       "      <td>7.330000e+02</td>\n",
       "      <td>7.520000e+02</td>\n",
       "      <td>1.000000e+00</td>\n",
       "      <td>0.026100</td>\n",
       "      <td>0.912000</td>\n",
       "      <td>0.000000</td>\n",
       "    </tr>\n",
       "    <tr>\n",
       "      <th>25%</th>\n",
       "      <td>59.250000</td>\n",
       "      <td>4.197385e+05</td>\n",
       "      <td>4.152845e+05</td>\n",
       "      <td>4.046760e+05</td>\n",
       "      <td>3.931490e+05</td>\n",
       "      <td>3.272420e+05</td>\n",
       "      <td>2.641158e+05</td>\n",
       "      <td>2.296142e+05</td>\n",
       "      <td>1.559970e+05</td>\n",
       "      <td>2.650000e+03</td>\n",
       "      <td>38.417875</td>\n",
       "      <td>1.001775</td>\n",
       "      <td>0.010000</td>\n",
       "    </tr>\n",
       "    <tr>\n",
       "      <th>50%</th>\n",
       "      <td>117.500000</td>\n",
       "      <td>5.559944e+06</td>\n",
       "      <td>5.493074e+06</td>\n",
       "      <td>5.307400e+06</td>\n",
       "      <td>4.942770e+06</td>\n",
       "      <td>4.292907e+06</td>\n",
       "      <td>3.825410e+06</td>\n",
       "      <td>3.141146e+06</td>\n",
       "      <td>2.604830e+06</td>\n",
       "      <td>8.119950e+04</td>\n",
       "      <td>95.346750</td>\n",
       "      <td>1.007900</td>\n",
       "      <td>0.070000</td>\n",
       "    </tr>\n",
       "    <tr>\n",
       "      <th>75%</th>\n",
       "      <td>175.750000</td>\n",
       "      <td>2.247650e+07</td>\n",
       "      <td>2.144798e+07</td>\n",
       "      <td>1.973085e+07</td>\n",
       "      <td>1.915957e+07</td>\n",
       "      <td>1.576230e+07</td>\n",
       "      <td>1.186923e+07</td>\n",
       "      <td>9.826054e+06</td>\n",
       "      <td>8.817329e+06</td>\n",
       "      <td>4.304258e+05</td>\n",
       "      <td>238.933250</td>\n",
       "      <td>1.016950</td>\n",
       "      <td>0.280000</td>\n",
       "    </tr>\n",
       "    <tr>\n",
       "      <th>max</th>\n",
       "      <td>234.000000</td>\n",
       "      <td>1.425887e+09</td>\n",
       "      <td>1.424930e+09</td>\n",
       "      <td>1.393715e+09</td>\n",
       "      <td>1.348191e+09</td>\n",
       "      <td>1.264099e+09</td>\n",
       "      <td>1.153704e+09</td>\n",
       "      <td>9.823725e+08</td>\n",
       "      <td>8.225344e+08</td>\n",
       "      <td>1.709824e+07</td>\n",
       "      <td>23172.266700</td>\n",
       "      <td>1.069100</td>\n",
       "      <td>17.880000</td>\n",
       "    </tr>\n",
       "  </tbody>\n",
       "</table>\n",
       "</div>"
      ],
      "text/plain": [
       "             Rank  2022 Population  2020 Population  2015 Population  \\\n",
       "count  234.000000     2.340000e+02     2.340000e+02     2.340000e+02   \n",
       "mean   117.500000     3.407441e+07     3.350107e+07     3.172996e+07   \n",
       "std     67.694165     1.367664e+08     1.355899e+08     1.304050e+08   \n",
       "min      1.000000     5.100000e+02     5.200000e+02     5.640000e+02   \n",
       "25%     59.250000     4.197385e+05     4.152845e+05     4.046760e+05   \n",
       "50%    117.500000     5.559944e+06     5.493074e+06     5.307400e+06   \n",
       "75%    175.750000     2.247650e+07     2.144798e+07     1.973085e+07   \n",
       "max    234.000000     1.425887e+09     1.424930e+09     1.393715e+09   \n",
       "\n",
       "       2010 Population  2000 Population  1990 Population  1980 Population  \\\n",
       "count     2.340000e+02     2.340000e+02     2.340000e+02     2.340000e+02   \n",
       "mean      2.984524e+07     2.626947e+07     2.271022e+07     1.898462e+07   \n",
       "std       1.242185e+08     1.116982e+08     9.783217e+07     8.178519e+07   \n",
       "min       5.960000e+02     6.510000e+02     7.000000e+02     7.330000e+02   \n",
       "25%       3.931490e+05     3.272420e+05     2.641158e+05     2.296142e+05   \n",
       "50%       4.942770e+06     4.292907e+06     3.825410e+06     3.141146e+06   \n",
       "75%       1.915957e+07     1.576230e+07     1.186923e+07     9.826054e+06   \n",
       "max       1.348191e+09     1.264099e+09     1.153704e+09     9.823725e+08   \n",
       "\n",
       "       1970 Population    Area (km²)  Density (per km²)  Growth Rate  \\\n",
       "count     2.340000e+02  2.340000e+02         234.000000   234.000000   \n",
       "mean      1.578691e+07  5.814494e+05         452.127044     1.009577   \n",
       "std       6.779509e+07  1.761841e+06        2066.121904     0.013385   \n",
       "min       7.520000e+02  1.000000e+00           0.026100     0.912000   \n",
       "25%       1.559970e+05  2.650000e+03          38.417875     1.001775   \n",
       "50%       2.604830e+06  8.119950e+04          95.346750     1.007900   \n",
       "75%       8.817329e+06  4.304258e+05         238.933250     1.016950   \n",
       "max       8.225344e+08  1.709824e+07       23172.266700     1.069100   \n",
       "\n",
       "       World Population Percentage  \n",
       "count                   234.000000  \n",
       "mean                      0.427051  \n",
       "std                       1.714977  \n",
       "min                       0.000000  \n",
       "25%                       0.010000  \n",
       "50%                       0.070000  \n",
       "75%                       0.280000  \n",
       "max                      17.880000  "
      ]
     },
     "execution_count": 17,
     "metadata": {},
     "output_type": "execute_result"
    }
   ],
   "source": [
    "world_pop.describe()"
   ]
  },
  {
   "cell_type": "code",
   "execution_count": 18,
   "metadata": {},
   "outputs": [
    {
     "data": {
      "text/plain": [
       "Rank                           0\n",
       "CCA3                           0\n",
       "Country/Territory              0\n",
       "Capital                        0\n",
       "Continent                      0\n",
       "2022 Population                0\n",
       "2020 Population                0\n",
       "2015 Population                0\n",
       "2010 Population                0\n",
       "2000 Population                0\n",
       "1990 Population                0\n",
       "1980 Population                0\n",
       "1970 Population                0\n",
       "Area (km²)                     0\n",
       "Density (per km²)              0\n",
       "Growth Rate                    0\n",
       "World Population Percentage    0\n",
       "dtype: int64"
      ]
     },
     "execution_count": 18,
     "metadata": {},
     "output_type": "execute_result"
    }
   ],
   "source": [
    "world_pop.isnull().sum()"
   ]
  },
  {
   "cell_type": "code",
   "execution_count": 19,
   "metadata": {},
   "outputs": [
    {
     "data": {
      "text/plain": [
       "234"
      ]
     },
     "execution_count": 19,
     "metadata": {},
     "output_type": "execute_result"
    }
   ],
   "source": [
    "world_pop.shape[0]"
   ]
  },
  {
   "cell_type": "code",
   "execution_count": 20,
   "metadata": {},
   "outputs": [
    {
     "data": {
      "text/plain": [
       "Index(['Rank', 'CCA3', 'Country/Territory', 'Capital', 'Continent',\n",
       "       '2022 Population', '2020 Population', '2015 Population',\n",
       "       '2010 Population', '2000 Population', '1990 Population',\n",
       "       '1980 Population', '1970 Population', 'Area (km²)', 'Density (per km²)',\n",
       "       'Growth Rate', 'World Population Percentage'],\n",
       "      dtype='object')"
      ]
     },
     "execution_count": 20,
     "metadata": {},
     "output_type": "execute_result"
    }
   ],
   "source": [
    "world_pop.columns"
   ]
  },
  {
   "cell_type": "code",
   "execution_count": 21,
   "metadata": {},
   "outputs": [
    {
     "data": {
      "text/plain": [
       "pandas.core.frame.DataFrame"
      ]
     },
     "execution_count": 21,
     "metadata": {},
     "output_type": "execute_result"
    }
   ],
   "source": [
    "type(world_pop)"
   ]
  },
  {
   "cell_type": "code",
   "execution_count": 22,
   "metadata": {},
   "outputs": [
    {
     "data": {
      "text/plain": [
       "17"
      ]
     },
     "execution_count": 22,
     "metadata": {},
     "output_type": "execute_result"
    }
   ],
   "source": [
    "len(world_pop.columns)"
   ]
  },
  {
   "cell_type": "code",
   "execution_count": 23,
   "metadata": {},
   "outputs": [
    {
     "data": {
      "text/plain": [
       "array(['Afghanistan', 'Albania', 'Algeria', 'American Samoa', 'Andorra',\n",
       "       'Angola', 'Anguilla', 'Antigua and Barbuda', 'Argentina',\n",
       "       'Armenia', 'Aruba', 'Australia', 'Austria', 'Azerbaijan',\n",
       "       'Bahamas', 'Bahrain', 'Bangladesh', 'Barbados', 'Belarus',\n",
       "       'Belgium', 'Belize', 'Benin', 'Bermuda', 'Bhutan', 'Bolivia',\n",
       "       'Bosnia and Herzegovina', 'Botswana', 'Brazil',\n",
       "       'British Virgin Islands', 'Brunei', 'Bulgaria', 'Burkina Faso',\n",
       "       'Burundi', 'Cambodia', 'Cameroon', 'Canada', 'Cape Verde',\n",
       "       'Cayman Islands', 'Central African Republic', 'Chad', 'Chile',\n",
       "       'China', 'Colombia', 'Comoros', 'Cook Islands', 'Costa Rica',\n",
       "       'Croatia', 'Cuba', 'Curacao', 'Cyprus', 'Czech Republic',\n",
       "       'Denmark', 'Djibouti', 'Dominica', 'Dominican Republic',\n",
       "       'DR Congo', 'Ecuador', 'Egypt', 'El Salvador', 'Equatorial Guinea',\n",
       "       'Eritrea', 'Estonia', 'Eswatini', 'Ethiopia', 'Falkland Islands',\n",
       "       'Faroe Islands', 'Fiji', 'Finland', 'France', 'French Guiana',\n",
       "       'French Polynesia', 'Gabon', 'Gambia', 'Georgia', 'Germany',\n",
       "       'Ghana', 'Gibraltar', 'Greece', 'Greenland', 'Grenada',\n",
       "       'Guadeloupe', 'Guam', 'Guatemala', 'Guernsey', 'Guinea',\n",
       "       'Guinea-Bissau', 'Guyana', 'Haiti', 'Honduras', 'Hong Kong',\n",
       "       'Hungary', 'Iceland', 'India', 'Indonesia', 'Iran', 'Iraq',\n",
       "       'Ireland', 'Isle of Man', 'Israel', 'Italy', 'Ivory Coast',\n",
       "       'Jamaica', 'Japan', 'Jersey', 'Jordan', 'Kazakhstan', 'Kenya',\n",
       "       'Kiribati', 'Kuwait', 'Kyrgyzstan', 'Laos', 'Latvia', 'Lebanon',\n",
       "       'Lesotho', 'Liberia', 'Libya', 'Liechtenstein', 'Lithuania',\n",
       "       'Luxembourg', 'Macau', 'Madagascar', 'Malawi', 'Malaysia',\n",
       "       'Maldives', 'Mali', 'Malta', 'Marshall Islands', 'Martinique',\n",
       "       'Mauritania', 'Mauritius', 'Mayotte', 'Mexico', 'Micronesia',\n",
       "       'Moldova', 'Monaco', 'Mongolia', 'Montenegro', 'Montserrat',\n",
       "       'Morocco', 'Mozambique', 'Myanmar', 'Namibia', 'Nauru', 'Nepal',\n",
       "       'Netherlands', 'New Caledonia', 'New Zealand', 'Nicaragua',\n",
       "       'Niger', 'Nigeria', 'Niue', 'North Korea', 'North Macedonia',\n",
       "       'Northern Mariana Islands', 'Norway', 'Oman', 'Pakistan', 'Palau',\n",
       "       'Palestine', 'Panama', 'Papua New Guinea', 'Paraguay', 'Peru',\n",
       "       'Philippines', 'Poland', 'Portugal', 'Puerto Rico', 'Qatar',\n",
       "       'Republic of the Congo', 'Reunion', 'Romania', 'Russia', 'Rwanda',\n",
       "       'Saint Barthelemy', 'Saint Kitts and Nevis', 'Saint Lucia',\n",
       "       'Saint Martin', 'Saint Pierre and Miquelon',\n",
       "       'Saint Vincent and the Grenadines', 'Samoa', 'San Marino',\n",
       "       'Sao Tome and Principe', 'Saudi Arabia', 'Senegal', 'Serbia',\n",
       "       'Seychelles', 'Sierra Leone', 'Singapore', 'Sint Maarten',\n",
       "       'Slovakia', 'Slovenia', 'Solomon Islands', 'Somalia',\n",
       "       'South Africa', 'South Korea', 'South Sudan', 'Spain', 'Sri Lanka',\n",
       "       'Sudan', 'Suriname', 'Sweden', 'Switzerland', 'Syria', 'Taiwan',\n",
       "       'Tajikistan', 'Tanzania', 'Thailand', 'Timor-Leste', 'Togo',\n",
       "       'Tokelau', 'Tonga', 'Trinidad and Tobago', 'Tunisia', 'Turkey',\n",
       "       'Turkmenistan', 'Turks and Caicos Islands', 'Tuvalu', 'Uganda',\n",
       "       'Ukraine', 'United Arab Emirates', 'United Kingdom',\n",
       "       'United States', 'United States Virgin Islands', 'Uruguay',\n",
       "       'Uzbekistan', 'Vanuatu', 'Vatican City', 'Venezuela', 'Vietnam',\n",
       "       'Wallis and Futuna', 'Western Sahara', 'Yemen', 'Zambia',\n",
       "       'Zimbabwe'], dtype=object)"
      ]
     },
     "execution_count": 23,
     "metadata": {},
     "output_type": "execute_result"
    }
   ],
   "source": [
    "world_pop['Country/Territory'].unique()"
   ]
  },
  {
   "cell_type": "markdown",
   "metadata": {},
   "source": [
    "## Highest population year"
   ]
  },
  {
   "cell_type": "code",
   "execution_count": 24,
   "metadata": {},
   "outputs": [
    {
     "data": {
      "text/html": [
       "<div>\n",
       "<style scoped>\n",
       "    .dataframe tbody tr th:only-of-type {\n",
       "        vertical-align: middle;\n",
       "    }\n",
       "\n",
       "    .dataframe tbody tr th {\n",
       "        vertical-align: top;\n",
       "    }\n",
       "\n",
       "    .dataframe thead th {\n",
       "        text-align: right;\n",
       "    }\n",
       "</style>\n",
       "<table border=\"1\" class=\"dataframe\">\n",
       "  <thead>\n",
       "    <tr style=\"text-align: right;\">\n",
       "      <th></th>\n",
       "      <th>index</th>\n",
       "      <th>rating</th>\n",
       "    </tr>\n",
       "  </thead>\n",
       "  <tbody>\n",
       "    <tr>\n",
       "      <th>0</th>\n",
       "      <td>1970 Population</td>\n",
       "      <td>3694136661</td>\n",
       "    </tr>\n",
       "    <tr>\n",
       "      <th>1</th>\n",
       "      <td>1980 Population</td>\n",
       "      <td>4442400371</td>\n",
       "    </tr>\n",
       "    <tr>\n",
       "      <th>2</th>\n",
       "      <td>1990 Population</td>\n",
       "      <td>5314191665</td>\n",
       "    </tr>\n",
       "    <tr>\n",
       "      <th>3</th>\n",
       "      <td>2000 Population</td>\n",
       "      <td>6147055703</td>\n",
       "    </tr>\n",
       "    <tr>\n",
       "      <th>4</th>\n",
       "      <td>2010 Population</td>\n",
       "      <td>6983784998</td>\n",
       "    </tr>\n",
       "    <tr>\n",
       "      <th>5</th>\n",
       "      <td>2015 Population</td>\n",
       "      <td>7424809761</td>\n",
       "    </tr>\n",
       "    <tr>\n",
       "      <th>6</th>\n",
       "      <td>2020 Population</td>\n",
       "      <td>7839250603</td>\n",
       "    </tr>\n",
       "    <tr>\n",
       "      <th>7</th>\n",
       "      <td>2022 Population</td>\n",
       "      <td>7973413042</td>\n",
       "    </tr>\n",
       "  </tbody>\n",
       "</table>\n",
       "</div>"
      ],
      "text/plain": [
       "             index      rating\n",
       "0  1970 Population  3694136661\n",
       "1  1980 Population  4442400371\n",
       "2  1990 Population  5314191665\n",
       "3  2000 Population  6147055703\n",
       "4  2010 Population  6983784998\n",
       "5  2015 Population  7424809761\n",
       "6  2020 Population  7839250603\n",
       "7  2022 Population  7973413042"
      ]
     },
     "execution_count": 24,
     "metadata": {},
     "output_type": "execute_result"
    }
   ],
   "source": [
    "population = world_pop[['1970 Population','1980 Population','1990 Population','2000 Population','2010 Population','2015 Population' , '2020 Population' , '2022 Population']].sum().reset_index().rename(columns={0:'rating'})\n",
    "population"
   ]
  },
  {
   "cell_type": "markdown",
   "metadata": {},
   "source": [
    "## Highest  population countries"
   ]
  },
  {
   "cell_type": "code",
   "execution_count": 25,
   "metadata": {},
   "outputs": [
    {
     "data": {
      "text/html": [
       "<div>\n",
       "<style scoped>\n",
       "    .dataframe tbody tr th:only-of-type {\n",
       "        vertical-align: middle;\n",
       "    }\n",
       "\n",
       "    .dataframe tbody tr th {\n",
       "        vertical-align: top;\n",
       "    }\n",
       "\n",
       "    .dataframe thead th {\n",
       "        text-align: right;\n",
       "    }\n",
       "</style>\n",
       "<table border=\"1\" class=\"dataframe\">\n",
       "  <thead>\n",
       "    <tr style=\"text-align: right;\">\n",
       "      <th></th>\n",
       "      <th>Rank</th>\n",
       "      <th>CCA3</th>\n",
       "      <th>Country/Territory</th>\n",
       "      <th>Capital</th>\n",
       "      <th>Continent</th>\n",
       "      <th>2022 Population</th>\n",
       "      <th>2020 Population</th>\n",
       "      <th>2015 Population</th>\n",
       "      <th>2010 Population</th>\n",
       "      <th>2000 Population</th>\n",
       "      <th>1990 Population</th>\n",
       "      <th>1980 Population</th>\n",
       "      <th>1970 Population</th>\n",
       "      <th>Area (km²)</th>\n",
       "      <th>Density (per km²)</th>\n",
       "      <th>Growth Rate</th>\n",
       "      <th>World Population Percentage</th>\n",
       "    </tr>\n",
       "  </thead>\n",
       "  <tbody>\n",
       "    <tr>\n",
       "      <th>41</th>\n",
       "      <td>1</td>\n",
       "      <td>CHN</td>\n",
       "      <td>China</td>\n",
       "      <td>Beijing</td>\n",
       "      <td>Asia</td>\n",
       "      <td>1425887337</td>\n",
       "      <td>1424929781</td>\n",
       "      <td>1393715448</td>\n",
       "      <td>1348191368</td>\n",
       "      <td>1264099069</td>\n",
       "      <td>1153704252</td>\n",
       "      <td>982372466</td>\n",
       "      <td>822534450</td>\n",
       "      <td>9706961</td>\n",
       "      <td>146.8933</td>\n",
       "      <td>1.0000</td>\n",
       "      <td>17.88</td>\n",
       "    </tr>\n",
       "    <tr>\n",
       "      <th>92</th>\n",
       "      <td>2</td>\n",
       "      <td>IND</td>\n",
       "      <td>India</td>\n",
       "      <td>New Delhi</td>\n",
       "      <td>Asia</td>\n",
       "      <td>1417173173</td>\n",
       "      <td>1396387127</td>\n",
       "      <td>1322866505</td>\n",
       "      <td>1240613620</td>\n",
       "      <td>1059633675</td>\n",
       "      <td>870452165</td>\n",
       "      <td>696828385</td>\n",
       "      <td>557501301</td>\n",
       "      <td>3287590</td>\n",
       "      <td>431.0675</td>\n",
       "      <td>1.0068</td>\n",
       "      <td>17.77</td>\n",
       "    </tr>\n",
       "    <tr>\n",
       "      <th>221</th>\n",
       "      <td>3</td>\n",
       "      <td>USA</td>\n",
       "      <td>United States</td>\n",
       "      <td>Washington, D.C.</td>\n",
       "      <td>North America</td>\n",
       "      <td>338289857</td>\n",
       "      <td>335942003</td>\n",
       "      <td>324607776</td>\n",
       "      <td>311182845</td>\n",
       "      <td>282398554</td>\n",
       "      <td>248083732</td>\n",
       "      <td>223140018</td>\n",
       "      <td>200328340</td>\n",
       "      <td>9372610</td>\n",
       "      <td>36.0935</td>\n",
       "      <td>1.0038</td>\n",
       "      <td>4.24</td>\n",
       "    </tr>\n",
       "    <tr>\n",
       "      <th>93</th>\n",
       "      <td>4</td>\n",
       "      <td>IDN</td>\n",
       "      <td>Indonesia</td>\n",
       "      <td>Jakarta</td>\n",
       "      <td>Asia</td>\n",
       "      <td>275501339</td>\n",
       "      <td>271857970</td>\n",
       "      <td>259091970</td>\n",
       "      <td>244016173</td>\n",
       "      <td>214072421</td>\n",
       "      <td>182159874</td>\n",
       "      <td>148177096</td>\n",
       "      <td>115228394</td>\n",
       "      <td>1904569</td>\n",
       "      <td>144.6529</td>\n",
       "      <td>1.0064</td>\n",
       "      <td>3.45</td>\n",
       "    </tr>\n",
       "    <tr>\n",
       "      <th>156</th>\n",
       "      <td>5</td>\n",
       "      <td>PAK</td>\n",
       "      <td>Pakistan</td>\n",
       "      <td>Islamabad</td>\n",
       "      <td>Asia</td>\n",
       "      <td>235824862</td>\n",
       "      <td>227196741</td>\n",
       "      <td>210969298</td>\n",
       "      <td>194454498</td>\n",
       "      <td>154369924</td>\n",
       "      <td>115414069</td>\n",
       "      <td>80624057</td>\n",
       "      <td>59290872</td>\n",
       "      <td>881912</td>\n",
       "      <td>267.4018</td>\n",
       "      <td>1.0191</td>\n",
       "      <td>2.96</td>\n",
       "    </tr>\n",
       "    <tr>\n",
       "      <th>149</th>\n",
       "      <td>6</td>\n",
       "      <td>NGA</td>\n",
       "      <td>Nigeria</td>\n",
       "      <td>Abuja</td>\n",
       "      <td>Africa</td>\n",
       "      <td>218541212</td>\n",
       "      <td>208327405</td>\n",
       "      <td>183995785</td>\n",
       "      <td>160952853</td>\n",
       "      <td>122851984</td>\n",
       "      <td>95214257</td>\n",
       "      <td>72951439</td>\n",
       "      <td>55569264</td>\n",
       "      <td>923768</td>\n",
       "      <td>236.5759</td>\n",
       "      <td>1.0241</td>\n",
       "      <td>2.74</td>\n",
       "    </tr>\n",
       "    <tr>\n",
       "      <th>27</th>\n",
       "      <td>7</td>\n",
       "      <td>BRA</td>\n",
       "      <td>Brazil</td>\n",
       "      <td>Brasilia</td>\n",
       "      <td>South America</td>\n",
       "      <td>215313498</td>\n",
       "      <td>213196304</td>\n",
       "      <td>205188205</td>\n",
       "      <td>196353492</td>\n",
       "      <td>175873720</td>\n",
       "      <td>150706446</td>\n",
       "      <td>122288383</td>\n",
       "      <td>96369875</td>\n",
       "      <td>8515767</td>\n",
       "      <td>25.2841</td>\n",
       "      <td>1.0046</td>\n",
       "      <td>2.70</td>\n",
       "    </tr>\n",
       "    <tr>\n",
       "      <th>16</th>\n",
       "      <td>8</td>\n",
       "      <td>BGD</td>\n",
       "      <td>Bangladesh</td>\n",
       "      <td>Dhaka</td>\n",
       "      <td>Asia</td>\n",
       "      <td>171186372</td>\n",
       "      <td>167420951</td>\n",
       "      <td>157830000</td>\n",
       "      <td>148391139</td>\n",
       "      <td>129193327</td>\n",
       "      <td>107147651</td>\n",
       "      <td>83929765</td>\n",
       "      <td>67541860</td>\n",
       "      <td>147570</td>\n",
       "      <td>1160.0350</td>\n",
       "      <td>1.0108</td>\n",
       "      <td>2.15</td>\n",
       "    </tr>\n",
       "    <tr>\n",
       "      <th>171</th>\n",
       "      <td>9</td>\n",
       "      <td>RUS</td>\n",
       "      <td>Russia</td>\n",
       "      <td>Moscow</td>\n",
       "      <td>Europe</td>\n",
       "      <td>144713314</td>\n",
       "      <td>145617329</td>\n",
       "      <td>144668389</td>\n",
       "      <td>143242599</td>\n",
       "      <td>146844839</td>\n",
       "      <td>148005704</td>\n",
       "      <td>138257420</td>\n",
       "      <td>130093010</td>\n",
       "      <td>17098242</td>\n",
       "      <td>8.4636</td>\n",
       "      <td>0.9973</td>\n",
       "      <td>1.81</td>\n",
       "    </tr>\n",
       "    <tr>\n",
       "      <th>131</th>\n",
       "      <td>10</td>\n",
       "      <td>MEX</td>\n",
       "      <td>Mexico</td>\n",
       "      <td>Mexico City</td>\n",
       "      <td>North America</td>\n",
       "      <td>127504125</td>\n",
       "      <td>125998302</td>\n",
       "      <td>120149897</td>\n",
       "      <td>112532401</td>\n",
       "      <td>97873442</td>\n",
       "      <td>81720428</td>\n",
       "      <td>67705186</td>\n",
       "      <td>50289306</td>\n",
       "      <td>1964375</td>\n",
       "      <td>64.9082</td>\n",
       "      <td>1.0063</td>\n",
       "      <td>1.60</td>\n",
       "    </tr>\n",
       "    <tr>\n",
       "      <th>102</th>\n",
       "      <td>11</td>\n",
       "      <td>JPN</td>\n",
       "      <td>Japan</td>\n",
       "      <td>Tokyo</td>\n",
       "      <td>Asia</td>\n",
       "      <td>123951692</td>\n",
       "      <td>125244761</td>\n",
       "      <td>127250933</td>\n",
       "      <td>128105431</td>\n",
       "      <td>126803861</td>\n",
       "      <td>123686321</td>\n",
       "      <td>117624196</td>\n",
       "      <td>105416839</td>\n",
       "      <td>377930</td>\n",
       "      <td>327.9753</td>\n",
       "      <td>0.9947</td>\n",
       "      <td>1.55</td>\n",
       "    </tr>\n",
       "    <tr>\n",
       "      <th>63</th>\n",
       "      <td>12</td>\n",
       "      <td>ETH</td>\n",
       "      <td>Ethiopia</td>\n",
       "      <td>Addis Ababa</td>\n",
       "      <td>Africa</td>\n",
       "      <td>123379924</td>\n",
       "      <td>117190911</td>\n",
       "      <td>102471895</td>\n",
       "      <td>89237791</td>\n",
       "      <td>67031867</td>\n",
       "      <td>47878073</td>\n",
       "      <td>34945469</td>\n",
       "      <td>28308246</td>\n",
       "      <td>1104300</td>\n",
       "      <td>111.7268</td>\n",
       "      <td>1.0257</td>\n",
       "      <td>1.55</td>\n",
       "    </tr>\n",
       "    <tr>\n",
       "      <th>163</th>\n",
       "      <td>13</td>\n",
       "      <td>PHL</td>\n",
       "      <td>Philippines</td>\n",
       "      <td>Manila</td>\n",
       "      <td>Asia</td>\n",
       "      <td>115559009</td>\n",
       "      <td>112190977</td>\n",
       "      <td>103031365</td>\n",
       "      <td>94636700</td>\n",
       "      <td>77958223</td>\n",
       "      <td>61558898</td>\n",
       "      <td>48419546</td>\n",
       "      <td>37435586</td>\n",
       "      <td>342353</td>\n",
       "      <td>337.5434</td>\n",
       "      <td>1.0147</td>\n",
       "      <td>1.45</td>\n",
       "    </tr>\n",
       "    <tr>\n",
       "      <th>57</th>\n",
       "      <td>14</td>\n",
       "      <td>EGY</td>\n",
       "      <td>Egypt</td>\n",
       "      <td>Cairo</td>\n",
       "      <td>Africa</td>\n",
       "      <td>110990103</td>\n",
       "      <td>107465134</td>\n",
       "      <td>97723799</td>\n",
       "      <td>87252413</td>\n",
       "      <td>71371371</td>\n",
       "      <td>57214630</td>\n",
       "      <td>43748556</td>\n",
       "      <td>34781986</td>\n",
       "      <td>1002450</td>\n",
       "      <td>110.7188</td>\n",
       "      <td>1.0158</td>\n",
       "      <td>1.39</td>\n",
       "    </tr>\n",
       "    <tr>\n",
       "      <th>55</th>\n",
       "      <td>15</td>\n",
       "      <td>COD</td>\n",
       "      <td>DR Congo</td>\n",
       "      <td>Kinshasa</td>\n",
       "      <td>Africa</td>\n",
       "      <td>99010212</td>\n",
       "      <td>92853164</td>\n",
       "      <td>78656904</td>\n",
       "      <td>66391257</td>\n",
       "      <td>48616317</td>\n",
       "      <td>35987541</td>\n",
       "      <td>26708686</td>\n",
       "      <td>20151733</td>\n",
       "      <td>2344858</td>\n",
       "      <td>42.2244</td>\n",
       "      <td>1.0325</td>\n",
       "      <td>1.24</td>\n",
       "    </tr>\n",
       "  </tbody>\n",
       "</table>\n",
       "</div>"
      ],
      "text/plain": [
       "     Rank CCA3 Country/Territory           Capital      Continent  \\\n",
       "41      1  CHN             China           Beijing           Asia   \n",
       "92      2  IND             India         New Delhi           Asia   \n",
       "221     3  USA     United States  Washington, D.C.  North America   \n",
       "93      4  IDN         Indonesia           Jakarta           Asia   \n",
       "156     5  PAK          Pakistan         Islamabad           Asia   \n",
       "149     6  NGA           Nigeria             Abuja         Africa   \n",
       "27      7  BRA            Brazil          Brasilia  South America   \n",
       "16      8  BGD        Bangladesh             Dhaka           Asia   \n",
       "171     9  RUS            Russia            Moscow         Europe   \n",
       "131    10  MEX            Mexico       Mexico City  North America   \n",
       "102    11  JPN             Japan             Tokyo           Asia   \n",
       "63     12  ETH          Ethiopia       Addis Ababa         Africa   \n",
       "163    13  PHL       Philippines            Manila           Asia   \n",
       "57     14  EGY             Egypt             Cairo         Africa   \n",
       "55     15  COD          DR Congo          Kinshasa         Africa   \n",
       "\n",
       "     2022 Population  2020 Population  2015 Population  2010 Population  \\\n",
       "41        1425887337       1424929781       1393715448       1348191368   \n",
       "92        1417173173       1396387127       1322866505       1240613620   \n",
       "221        338289857        335942003        324607776        311182845   \n",
       "93         275501339        271857970        259091970        244016173   \n",
       "156        235824862        227196741        210969298        194454498   \n",
       "149        218541212        208327405        183995785        160952853   \n",
       "27         215313498        213196304        205188205        196353492   \n",
       "16         171186372        167420951        157830000        148391139   \n",
       "171        144713314        145617329        144668389        143242599   \n",
       "131        127504125        125998302        120149897        112532401   \n",
       "102        123951692        125244761        127250933        128105431   \n",
       "63         123379924        117190911        102471895         89237791   \n",
       "163        115559009        112190977        103031365         94636700   \n",
       "57         110990103        107465134         97723799         87252413   \n",
       "55          99010212         92853164         78656904         66391257   \n",
       "\n",
       "     2000 Population  1990 Population  1980 Population  1970 Population  \\\n",
       "41        1264099069       1153704252        982372466        822534450   \n",
       "92        1059633675        870452165        696828385        557501301   \n",
       "221        282398554        248083732        223140018        200328340   \n",
       "93         214072421        182159874        148177096        115228394   \n",
       "156        154369924        115414069         80624057         59290872   \n",
       "149        122851984         95214257         72951439         55569264   \n",
       "27         175873720        150706446        122288383         96369875   \n",
       "16         129193327        107147651         83929765         67541860   \n",
       "171        146844839        148005704        138257420        130093010   \n",
       "131         97873442         81720428         67705186         50289306   \n",
       "102        126803861        123686321        117624196        105416839   \n",
       "63          67031867         47878073         34945469         28308246   \n",
       "163         77958223         61558898         48419546         37435586   \n",
       "57          71371371         57214630         43748556         34781986   \n",
       "55          48616317         35987541         26708686         20151733   \n",
       "\n",
       "     Area (km²)  Density (per km²)  Growth Rate  World Population Percentage  \n",
       "41      9706961           146.8933       1.0000                        17.88  \n",
       "92      3287590           431.0675       1.0068                        17.77  \n",
       "221     9372610            36.0935       1.0038                         4.24  \n",
       "93      1904569           144.6529       1.0064                         3.45  \n",
       "156      881912           267.4018       1.0191                         2.96  \n",
       "149      923768           236.5759       1.0241                         2.74  \n",
       "27      8515767            25.2841       1.0046                         2.70  \n",
       "16       147570          1160.0350       1.0108                         2.15  \n",
       "171    17098242             8.4636       0.9973                         1.81  \n",
       "131     1964375            64.9082       1.0063                         1.60  \n",
       "102      377930           327.9753       0.9947                         1.55  \n",
       "63      1104300           111.7268       1.0257                         1.55  \n",
       "163      342353           337.5434       1.0147                         1.45  \n",
       "57      1002450           110.7188       1.0158                         1.39  \n",
       "55      2344858            42.2244       1.0325                         1.24  "
      ]
     },
     "execution_count": 25,
     "metadata": {},
     "output_type": "execute_result"
    }
   ],
   "source": [
    "top_15_ranks = world_pop.sort_values(by='Rank', ascending=True).head(15)\n",
    "top_15_ranks"
   ]
  },
  {
   "cell_type": "code",
   "execution_count": 26,
   "metadata": {},
   "outputs": [],
   "source": [
    "import jovian"
   ]
  },
  {
   "cell_type": "code",
   "execution_count": 27,
   "metadata": {},
   "outputs": [
    {
     "data": {
      "application/javascript": [
       "window.require && require([\"base/js/namespace\"],function(Jupyter){Jupyter.notebook.save_checkpoint()})"
      ],
      "text/plain": [
       "<IPython.core.display.Javascript object>"
      ]
     },
     "metadata": {},
     "output_type": "display_data"
    },
    {
     "name": "stdout",
     "output_type": "stream",
     "text": [
      "[jovian] Updating notebook \"eektafoudar/world-population\" on https://jovian.com\u001b[0m\n",
      "[jovian] Committed successfully! https://jovian.com/eektafoudar/world-population\u001b[0m\n"
     ]
    },
    {
     "data": {
      "text/plain": [
       "'https://jovian.com/eektafoudar/world-population'"
      ]
     },
     "execution_count": 27,
     "metadata": {},
     "output_type": "execute_result"
    }
   ],
   "source": [
    "jovian.commit()"
   ]
  },
  {
   "cell_type": "markdown",
   "metadata": {},
   "source": [
    "## Exploratory Analysis and Visualization\n",
    "\n",
    "We will analysis that which state having the highest population and also analysis that population according to the density of that area and its growth rate\n",
    "\n"
   ]
  },
  {
   "cell_type": "markdown",
   "metadata": {},
   "source": [
    "Let's begin by importing`matplotlib.pyplot` and `seaborn`."
   ]
  },
  {
   "cell_type": "code",
   "execution_count": 28,
   "metadata": {},
   "outputs": [],
   "source": [
    "import seaborn as sns\n",
    "import matplotlib\n",
    "import matplotlib.pyplot as plt\n",
    "%matplotlib inline\n",
    "\n",
    "sns.set_style('darkgrid')\n",
    "matplotlib.rcParams['font.size'] = 14\n",
    "matplotlib.rcParams['figure.figsize'] = (12, 6)\n",
    "matplotlib.rcParams['figure.facecolor'] = '#00000000'"
   ]
  },
  {
   "cell_type": "code",
   "execution_count": 29,
   "metadata": {},
   "outputs": [
    {
     "data": {
      "text/html": [
       "<div>\n",
       "<style scoped>\n",
       "    .dataframe tbody tr th:only-of-type {\n",
       "        vertical-align: middle;\n",
       "    }\n",
       "\n",
       "    .dataframe tbody tr th {\n",
       "        vertical-align: top;\n",
       "    }\n",
       "\n",
       "    .dataframe thead th {\n",
       "        text-align: right;\n",
       "    }\n",
       "</style>\n",
       "<table border=\"1\" class=\"dataframe\">\n",
       "  <thead>\n",
       "    <tr style=\"text-align: right;\">\n",
       "      <th></th>\n",
       "      <th>index</th>\n",
       "      <th>rating</th>\n",
       "    </tr>\n",
       "  </thead>\n",
       "  <tbody>\n",
       "    <tr>\n",
       "      <th>0</th>\n",
       "      <td>1970 Population</td>\n",
       "      <td>3694136661</td>\n",
       "    </tr>\n",
       "    <tr>\n",
       "      <th>1</th>\n",
       "      <td>1980 Population</td>\n",
       "      <td>4442400371</td>\n",
       "    </tr>\n",
       "    <tr>\n",
       "      <th>2</th>\n",
       "      <td>1990 Population</td>\n",
       "      <td>5314191665</td>\n",
       "    </tr>\n",
       "    <tr>\n",
       "      <th>3</th>\n",
       "      <td>2000 Population</td>\n",
       "      <td>6147055703</td>\n",
       "    </tr>\n",
       "    <tr>\n",
       "      <th>4</th>\n",
       "      <td>2010 Population</td>\n",
       "      <td>6983784998</td>\n",
       "    </tr>\n",
       "    <tr>\n",
       "      <th>5</th>\n",
       "      <td>2015 Population</td>\n",
       "      <td>7424809761</td>\n",
       "    </tr>\n",
       "    <tr>\n",
       "      <th>6</th>\n",
       "      <td>2020 Population</td>\n",
       "      <td>7839250603</td>\n",
       "    </tr>\n",
       "    <tr>\n",
       "      <th>7</th>\n",
       "      <td>2022 Population</td>\n",
       "      <td>7973413042</td>\n",
       "    </tr>\n",
       "  </tbody>\n",
       "</table>\n",
       "</div>"
      ],
      "text/plain": [
       "             index      rating\n",
       "0  1970 Population  3694136661\n",
       "1  1980 Population  4442400371\n",
       "2  1990 Population  5314191665\n",
       "3  2000 Population  6147055703\n",
       "4  2010 Population  6983784998\n",
       "5  2015 Population  7424809761\n",
       "6  2020 Population  7839250603\n",
       "7  2022 Population  7973413042"
      ]
     },
     "execution_count": 29,
     "metadata": {},
     "output_type": "execute_result"
    }
   ],
   "source": [
    "population"
   ]
  },
  {
   "cell_type": "code",
   "execution_count": 30,
   "metadata": {},
   "outputs": [
    {
     "data": {
      "image/png": "[encoded data removed]",
      "text/plain": [
       "<Figure size 1296x432 with 1 Axes>"
      ]
     },
     "metadata": {
      "needs_background": "light"
     },
     "output_type": "display_data"
    }
   ],
   "source": [
    "matplotlib.rcParams['figure.figsize'] = (18, 6)\n",
    "plt.title('Population')\n",
    "sns.barplot(x='index',\n",
    "           y='rating',\n",
    "           data=population);"
   ]
  },
  {
   "cell_type": "markdown",
   "metadata": {},
   "source": [
    "### By seeing the graph we can say that population is increasing year by year but in 2020 and 2022 the population is increases little bit so we can say that population will control in next 10 years"
   ]
  },
  {
   "cell_type": "code",
   "execution_count": 31,
   "metadata": {},
   "outputs": [
    {
     "data": {
      "text/plain": [
       "array([57, 50, 50, 40, 23, 14])"
      ]
     },
     "execution_count": 31,
     "metadata": {},
     "output_type": "execute_result"
    }
   ],
   "source": [
    "continent_value = world_pop.Continent.value_counts().values\n",
    "continent_value"
   ]
  },
  {
   "cell_type": "code",
   "execution_count": 32,
   "metadata": {},
   "outputs": [
    {
     "data": {
      "text/plain": [
       "Index(['Africa', 'Asia', 'Europe', 'North America', 'Oceania',\n",
       "       'South America'],\n",
       "      dtype='object')"
      ]
     },
     "execution_count": 32,
     "metadata": {},
     "output_type": "execute_result"
    }
   ],
   "source": [
    "continent_index =  world_pop.Continent.value_counts().index\n",
    "continent_index"
   ]
  },
  {
   "cell_type": "code",
   "execution_count": 33,
   "metadata": {},
   "outputs": [
    {
     "data": {
      "image/png": "[encoded data removed]",
      "text/plain": [
       "<Figure size 1296x432 with 1 Axes>"
      ]
     },
     "metadata": {},
     "output_type": "display_data"
    }
   ],
   "source": [
    "plt.title('Continents')\n",
    "plt.pie(continent_value , labels=continent_index , autopct='%1.2f%%');"
   ]
  },
  {
   "cell_type": "markdown",
   "metadata": {},
   "source": [
    "### Pie charts show the size of continets (called wedge) in one data series, proportional to the sum of the items\n",
    "### The area of slices of the pie represents the percentage of the parts of the continenets."
   ]
  },
  {
   "cell_type": "code",
   "execution_count": 34,
   "metadata": {},
   "outputs": [
    {
     "data": {
      "text/html": [
       "<div>\n",
       "<style scoped>\n",
       "    .dataframe tbody tr th:only-of-type {\n",
       "        vertical-align: middle;\n",
       "    }\n",
       "\n",
       "    .dataframe tbody tr th {\n",
       "        vertical-align: top;\n",
       "    }\n",
       "\n",
       "    .dataframe thead th {\n",
       "        text-align: right;\n",
       "    }\n",
       "</style>\n",
       "<table border=\"1\" class=\"dataframe\">\n",
       "  <thead>\n",
       "    <tr style=\"text-align: right;\">\n",
       "      <th></th>\n",
       "      <th>Rank</th>\n",
       "      <th>CCA3</th>\n",
       "      <th>Country/Territory</th>\n",
       "      <th>Capital</th>\n",
       "      <th>Continent</th>\n",
       "      <th>2022 Population</th>\n",
       "      <th>2020 Population</th>\n",
       "      <th>2015 Population</th>\n",
       "      <th>2010 Population</th>\n",
       "      <th>2000 Population</th>\n",
       "      <th>1990 Population</th>\n",
       "      <th>1980 Population</th>\n",
       "      <th>1970 Population</th>\n",
       "      <th>Area (km²)</th>\n",
       "      <th>Density (per km²)</th>\n",
       "      <th>Growth Rate</th>\n",
       "      <th>World Population Percentage</th>\n",
       "    </tr>\n",
       "  </thead>\n",
       "  <tbody>\n",
       "    <tr>\n",
       "      <th>41</th>\n",
       "      <td>1</td>\n",
       "      <td>CHN</td>\n",
       "      <td>China</td>\n",
       "      <td>Beijing</td>\n",
       "      <td>Asia</td>\n",
       "      <td>1425887337</td>\n",
       "      <td>1424929781</td>\n",
       "      <td>1393715448</td>\n",
       "      <td>1348191368</td>\n",
       "      <td>1264099069</td>\n",
       "      <td>1153704252</td>\n",
       "      <td>982372466</td>\n",
       "      <td>822534450</td>\n",
       "      <td>9706961</td>\n",
       "      <td>146.8933</td>\n",
       "      <td>1.0000</td>\n",
       "      <td>17.88</td>\n",
       "    </tr>\n",
       "    <tr>\n",
       "      <th>92</th>\n",
       "      <td>2</td>\n",
       "      <td>IND</td>\n",
       "      <td>India</td>\n",
       "      <td>New Delhi</td>\n",
       "      <td>Asia</td>\n",
       "      <td>1417173173</td>\n",
       "      <td>1396387127</td>\n",
       "      <td>1322866505</td>\n",
       "      <td>1240613620</td>\n",
       "      <td>1059633675</td>\n",
       "      <td>870452165</td>\n",
       "      <td>696828385</td>\n",
       "      <td>557501301</td>\n",
       "      <td>3287590</td>\n",
       "      <td>431.0675</td>\n",
       "      <td>1.0068</td>\n",
       "      <td>17.77</td>\n",
       "    </tr>\n",
       "    <tr>\n",
       "      <th>221</th>\n",
       "      <td>3</td>\n",
       "      <td>USA</td>\n",
       "      <td>United States</td>\n",
       "      <td>Washington, D.C.</td>\n",
       "      <td>North America</td>\n",
       "      <td>338289857</td>\n",
       "      <td>335942003</td>\n",
       "      <td>324607776</td>\n",
       "      <td>311182845</td>\n",
       "      <td>282398554</td>\n",
       "      <td>248083732</td>\n",
       "      <td>223140018</td>\n",
       "      <td>200328340</td>\n",
       "      <td>9372610</td>\n",
       "      <td>36.0935</td>\n",
       "      <td>1.0038</td>\n",
       "      <td>4.24</td>\n",
       "    </tr>\n",
       "    <tr>\n",
       "      <th>93</th>\n",
       "      <td>4</td>\n",
       "      <td>IDN</td>\n",
       "      <td>Indonesia</td>\n",
       "      <td>Jakarta</td>\n",
       "      <td>Asia</td>\n",
       "      <td>275501339</td>\n",
       "      <td>271857970</td>\n",
       "      <td>259091970</td>\n",
       "      <td>244016173</td>\n",
       "      <td>214072421</td>\n",
       "      <td>182159874</td>\n",
       "      <td>148177096</td>\n",
       "      <td>115228394</td>\n",
       "      <td>1904569</td>\n",
       "      <td>144.6529</td>\n",
       "      <td>1.0064</td>\n",
       "      <td>3.45</td>\n",
       "    </tr>\n",
       "    <tr>\n",
       "      <th>156</th>\n",
       "      <td>5</td>\n",
       "      <td>PAK</td>\n",
       "      <td>Pakistan</td>\n",
       "      <td>Islamabad</td>\n",
       "      <td>Asia</td>\n",
       "      <td>235824862</td>\n",
       "      <td>227196741</td>\n",
       "      <td>210969298</td>\n",
       "      <td>194454498</td>\n",
       "      <td>154369924</td>\n",
       "      <td>115414069</td>\n",
       "      <td>80624057</td>\n",
       "      <td>59290872</td>\n",
       "      <td>881912</td>\n",
       "      <td>267.4018</td>\n",
       "      <td>1.0191</td>\n",
       "      <td>2.96</td>\n",
       "    </tr>\n",
       "    <tr>\n",
       "      <th>149</th>\n",
       "      <td>6</td>\n",
       "      <td>NGA</td>\n",
       "      <td>Nigeria</td>\n",
       "      <td>Abuja</td>\n",
       "      <td>Africa</td>\n",
       "      <td>218541212</td>\n",
       "      <td>208327405</td>\n",
       "      <td>183995785</td>\n",
       "      <td>160952853</td>\n",
       "      <td>122851984</td>\n",
       "      <td>95214257</td>\n",
       "      <td>72951439</td>\n",
       "      <td>55569264</td>\n",
       "      <td>923768</td>\n",
       "      <td>236.5759</td>\n",
       "      <td>1.0241</td>\n",
       "      <td>2.74</td>\n",
       "    </tr>\n",
       "    <tr>\n",
       "      <th>27</th>\n",
       "      <td>7</td>\n",
       "      <td>BRA</td>\n",
       "      <td>Brazil</td>\n",
       "      <td>Brasilia</td>\n",
       "      <td>South America</td>\n",
       "      <td>215313498</td>\n",
       "      <td>213196304</td>\n",
       "      <td>205188205</td>\n",
       "      <td>196353492</td>\n",
       "      <td>175873720</td>\n",
       "      <td>150706446</td>\n",
       "      <td>122288383</td>\n",
       "      <td>96369875</td>\n",
       "      <td>8515767</td>\n",
       "      <td>25.2841</td>\n",
       "      <td>1.0046</td>\n",
       "      <td>2.70</td>\n",
       "    </tr>\n",
       "    <tr>\n",
       "      <th>16</th>\n",
       "      <td>8</td>\n",
       "      <td>BGD</td>\n",
       "      <td>Bangladesh</td>\n",
       "      <td>Dhaka</td>\n",
       "      <td>Asia</td>\n",
       "      <td>171186372</td>\n",
       "      <td>167420951</td>\n",
       "      <td>157830000</td>\n",
       "      <td>148391139</td>\n",
       "      <td>129193327</td>\n",
       "      <td>107147651</td>\n",
       "      <td>83929765</td>\n",
       "      <td>67541860</td>\n",
       "      <td>147570</td>\n",
       "      <td>1160.0350</td>\n",
       "      <td>1.0108</td>\n",
       "      <td>2.15</td>\n",
       "    </tr>\n",
       "    <tr>\n",
       "      <th>171</th>\n",
       "      <td>9</td>\n",
       "      <td>RUS</td>\n",
       "      <td>Russia</td>\n",
       "      <td>Moscow</td>\n",
       "      <td>Europe</td>\n",
       "      <td>144713314</td>\n",
       "      <td>145617329</td>\n",
       "      <td>144668389</td>\n",
       "      <td>143242599</td>\n",
       "      <td>146844839</td>\n",
       "      <td>148005704</td>\n",
       "      <td>138257420</td>\n",
       "      <td>130093010</td>\n",
       "      <td>17098242</td>\n",
       "      <td>8.4636</td>\n",
       "      <td>0.9973</td>\n",
       "      <td>1.81</td>\n",
       "    </tr>\n",
       "    <tr>\n",
       "      <th>131</th>\n",
       "      <td>10</td>\n",
       "      <td>MEX</td>\n",
       "      <td>Mexico</td>\n",
       "      <td>Mexico City</td>\n",
       "      <td>North America</td>\n",
       "      <td>127504125</td>\n",
       "      <td>125998302</td>\n",
       "      <td>120149897</td>\n",
       "      <td>112532401</td>\n",
       "      <td>97873442</td>\n",
       "      <td>81720428</td>\n",
       "      <td>67705186</td>\n",
       "      <td>50289306</td>\n",
       "      <td>1964375</td>\n",
       "      <td>64.9082</td>\n",
       "      <td>1.0063</td>\n",
       "      <td>1.60</td>\n",
       "    </tr>\n",
       "    <tr>\n",
       "      <th>102</th>\n",
       "      <td>11</td>\n",
       "      <td>JPN</td>\n",
       "      <td>Japan</td>\n",
       "      <td>Tokyo</td>\n",
       "      <td>Asia</td>\n",
       "      <td>123951692</td>\n",
       "      <td>125244761</td>\n",
       "      <td>127250933</td>\n",
       "      <td>128105431</td>\n",
       "      <td>126803861</td>\n",
       "      <td>123686321</td>\n",
       "      <td>117624196</td>\n",
       "      <td>105416839</td>\n",
       "      <td>377930</td>\n",
       "      <td>327.9753</td>\n",
       "      <td>0.9947</td>\n",
       "      <td>1.55</td>\n",
       "    </tr>\n",
       "    <tr>\n",
       "      <th>63</th>\n",
       "      <td>12</td>\n",
       "      <td>ETH</td>\n",
       "      <td>Ethiopia</td>\n",
       "      <td>Addis Ababa</td>\n",
       "      <td>Africa</td>\n",
       "      <td>123379924</td>\n",
       "      <td>117190911</td>\n",
       "      <td>102471895</td>\n",
       "      <td>89237791</td>\n",
       "      <td>67031867</td>\n",
       "      <td>47878073</td>\n",
       "      <td>34945469</td>\n",
       "      <td>28308246</td>\n",
       "      <td>1104300</td>\n",
       "      <td>111.7268</td>\n",
       "      <td>1.0257</td>\n",
       "      <td>1.55</td>\n",
       "    </tr>\n",
       "    <tr>\n",
       "      <th>163</th>\n",
       "      <td>13</td>\n",
       "      <td>PHL</td>\n",
       "      <td>Philippines</td>\n",
       "      <td>Manila</td>\n",
       "      <td>Asia</td>\n",
       "      <td>115559009</td>\n",
       "      <td>112190977</td>\n",
       "      <td>103031365</td>\n",
       "      <td>94636700</td>\n",
       "      <td>77958223</td>\n",
       "      <td>61558898</td>\n",
       "      <td>48419546</td>\n",
       "      <td>37435586</td>\n",
       "      <td>342353</td>\n",
       "      <td>337.5434</td>\n",
       "      <td>1.0147</td>\n",
       "      <td>1.45</td>\n",
       "    </tr>\n",
       "    <tr>\n",
       "      <th>57</th>\n",
       "      <td>14</td>\n",
       "      <td>EGY</td>\n",
       "      <td>Egypt</td>\n",
       "      <td>Cairo</td>\n",
       "      <td>Africa</td>\n",
       "      <td>110990103</td>\n",
       "      <td>107465134</td>\n",
       "      <td>97723799</td>\n",
       "      <td>87252413</td>\n",
       "      <td>71371371</td>\n",
       "      <td>57214630</td>\n",
       "      <td>43748556</td>\n",
       "      <td>34781986</td>\n",
       "      <td>1002450</td>\n",
       "      <td>110.7188</td>\n",
       "      <td>1.0158</td>\n",
       "      <td>1.39</td>\n",
       "    </tr>\n",
       "    <tr>\n",
       "      <th>55</th>\n",
       "      <td>15</td>\n",
       "      <td>COD</td>\n",
       "      <td>DR Congo</td>\n",
       "      <td>Kinshasa</td>\n",
       "      <td>Africa</td>\n",
       "      <td>99010212</td>\n",
       "      <td>92853164</td>\n",
       "      <td>78656904</td>\n",
       "      <td>66391257</td>\n",
       "      <td>48616317</td>\n",
       "      <td>35987541</td>\n",
       "      <td>26708686</td>\n",
       "      <td>20151733</td>\n",
       "      <td>2344858</td>\n",
       "      <td>42.2244</td>\n",
       "      <td>1.0325</td>\n",
       "      <td>1.24</td>\n",
       "    </tr>\n",
       "  </tbody>\n",
       "</table>\n",
       "</div>"
      ],
      "text/plain": [
       "     Rank CCA3 Country/Territory           Capital      Continent  \\\n",
       "41      1  CHN             China           Beijing           Asia   \n",
       "92      2  IND             India         New Delhi           Asia   \n",
       "221     3  USA     United States  Washington, D.C.  North America   \n",
       "93      4  IDN         Indonesia           Jakarta           Asia   \n",
       "156     5  PAK          Pakistan         Islamabad           Asia   \n",
       "149     6  NGA           Nigeria             Abuja         Africa   \n",
       "27      7  BRA            Brazil          Brasilia  South America   \n",
       "16      8  BGD        Bangladesh             Dhaka           Asia   \n",
       "171     9  RUS            Russia            Moscow         Europe   \n",
       "131    10  MEX            Mexico       Mexico City  North America   \n",
       "102    11  JPN             Japan             Tokyo           Asia   \n",
       "63     12  ETH          Ethiopia       Addis Ababa         Africa   \n",
       "163    13  PHL       Philippines            Manila           Asia   \n",
       "57     14  EGY             Egypt             Cairo         Africa   \n",
       "55     15  COD          DR Congo          Kinshasa         Africa   \n",
       "\n",
       "     2022 Population  2020 Population  2015 Population  2010 Population  \\\n",
       "41        1425887337       1424929781       1393715448       1348191368   \n",
       "92        1417173173       1396387127       1322866505       1240613620   \n",
       "221        338289857        335942003        324607776        311182845   \n",
       "93         275501339        271857970        259091970        244016173   \n",
       "156        235824862        227196741        210969298        194454498   \n",
       "149        218541212        208327405        183995785        160952853   \n",
       "27         215313498        213196304        205188205        196353492   \n",
       "16         171186372        167420951        157830000        148391139   \n",
       "171        144713314        145617329        144668389        143242599   \n",
       "131        127504125        125998302        120149897        112532401   \n",
       "102        123951692        125244761        127250933        128105431   \n",
       "63         123379924        117190911        102471895         89237791   \n",
       "163        115559009        112190977        103031365         94636700   \n",
       "57         110990103        107465134         97723799         87252413   \n",
       "55          99010212         92853164         78656904         66391257   \n",
       "\n",
       "     2000 Population  1990 Population  1980 Population  1970 Population  \\\n",
       "41        1264099069       1153704252        982372466        822534450   \n",
       "92        1059633675        870452165        696828385        557501301   \n",
       "221        282398554        248083732        223140018        200328340   \n",
       "93         214072421        182159874        148177096        115228394   \n",
       "156        154369924        115414069         80624057         59290872   \n",
       "149        122851984         95214257         72951439         55569264   \n",
       "27         175873720        150706446        122288383         96369875   \n",
       "16         129193327        107147651         83929765         67541860   \n",
       "171        146844839        148005704        138257420        130093010   \n",
       "131         97873442         81720428         67705186         50289306   \n",
       "102        126803861        123686321        117624196        105416839   \n",
       "63          67031867         47878073         34945469         28308246   \n",
       "163         77958223         61558898         48419546         37435586   \n",
       "57          71371371         57214630         43748556         34781986   \n",
       "55          48616317         35987541         26708686         20151733   \n",
       "\n",
       "     Area (km²)  Density (per km²)  Growth Rate  World Population Percentage  \n",
       "41      9706961           146.8933       1.0000                        17.88  \n",
       "92      3287590           431.0675       1.0068                        17.77  \n",
       "221     9372610            36.0935       1.0038                         4.24  \n",
       "93      1904569           144.6529       1.0064                         3.45  \n",
       "156      881912           267.4018       1.0191                         2.96  \n",
       "149      923768           236.5759       1.0241                         2.74  \n",
       "27      8515767            25.2841       1.0046                         2.70  \n",
       "16       147570          1160.0350       1.0108                         2.15  \n",
       "171    17098242             8.4636       0.9973                         1.81  \n",
       "131     1964375            64.9082       1.0063                         1.60  \n",
       "102      377930           327.9753       0.9947                         1.55  \n",
       "63      1104300           111.7268       1.0257                         1.55  \n",
       "163      342353           337.5434       1.0147                         1.45  \n",
       "57      1002450           110.7188       1.0158                         1.39  \n",
       "55      2344858            42.2244       1.0325                         1.24  "
      ]
     },
     "execution_count": 34,
     "metadata": {},
     "output_type": "execute_result"
    }
   ],
   "source": [
    "top_15_ranks"
   ]
  },
  {
   "cell_type": "code",
   "execution_count": 35,
   "metadata": {},
   "outputs": [
    {
     "data": {
      "image/png": "[encoded data removed]",
      "text/plain": [
       "<Figure size 864x432 with 1 Axes>"
      ]
     },
     "metadata": {
      "needs_background": "light"
     },
     "output_type": "display_data"
    }
   ],
   "source": [
    "plt.figure(figsize=(12, 6))\n",
    "plt.bar(top_15_ranks['Country/Territory'], top_15_ranks['2015 Population'])\n",
    "plt.xlabel('Country')\n",
    "plt.ylabel('population')\n",
    "plt.title('Top 15 countries(having highest population_2015)')\n",
    "plt.xticks(rotation=70)\n",
    "plt.tight_layout()\n",
    "plt.show()"
   ]
  },
  {
   "cell_type": "code",
   "execution_count": 36,
   "metadata": {},
   "outputs": [
    {
     "data": {
      "image/png": "[encoded data removed]",
      "text/plain": [
       "<Figure size 864x432 with 1 Axes>"
      ]
     },
     "metadata": {
      "needs_background": "light"
     },
     "output_type": "display_data"
    }
   ],
   "source": [
    "plt.figure(figsize=(12, 6))\n",
    "plt.bar(top_15_ranks['Country/Territory'], top_15_ranks['2020 Population'])\n",
    "plt.xlabel('Country')\n",
    "plt.ylabel('population')\n",
    "plt.title('Top 15 countries(having highest population_2020)')\n",
    "plt.xticks(rotation=70)\n",
    "plt.show()"
   ]
  },
  {
   "cell_type": "code",
   "execution_count": 37,
   "metadata": {},
   "outputs": [
    {
     "data": {
      "image/png": "[encoded data removed]",
      "text/plain": [
       "<Figure size 864x432 with 1 Axes>"
      ]
     },
     "metadata": {
      "needs_background": "light"
     },
     "output_type": "display_data"
    }
   ],
   "source": [
    "plt.figure(figsize=(12, 6))\n",
    "plt.bar(top_15_ranks['Country/Territory'], top_15_ranks['2022 Population'])\n",
    "plt.xlabel('Country')\n",
    "plt.ylabel('population')\n",
    "plt.title('Top 15 countries(having highest population_2022)')\n",
    "plt.xticks(rotation=70)\n",
    "plt.tight_layout()\n",
    "plt.show()"
   ]
  },
  {
   "cell_type": "markdown",
   "metadata": {},
   "source": [
    "### By seeing the above three graph we can say that china is having the highest population from last 8 years and india population is increasing constantly and almost reach to china population.\n",
    "The reason that why india population is increasing =\n",
    "Illiteracy: \n",
    "1. Lack of education among both urban and rural people results in a lack of knowledge about their reproductive health and processes and family planning options\n",
    "\n",
    "2. This leads to more children in the family which increases the population of the country.\n",
    "\n",
    "Socio-religious customs and beliefs:\n",
    "\n",
    "1. According to religious, traditional, and social beliefs and customs, many Indians believe that having a child is a great blessing from God or a sign of prosperity and social status.\n",
    "2. Hence, they refrain from family planning options and end up having too many children leading to a population explosion in India.\n",
    "\n",
    "china vs india\n",
    "\n",
    "1. Counting millions of people is never an easy task, but according to the United Nations, India now has more people than China, an epochal shift in global demographics that happened sometime in late April.\n",
    "\n",
    "2. Most of the world has grown up with China holding the title of the world’s most populous country, but decades of restrictive policies limiting families to one child dramatically slowed China’s birth rate, allowing India to pull ahead.\n",
    "\n",
    "## India’s population growth is slowing down\n",
    "\n",
    "India may have overtaken China in total population, but UN data also shows that its growth rate has slowed.\n",
    "\n",
    "Between 1971 and 1981, India’s population was growing on average 2.2% each year. By 2001 to 2011, that had slowed to 1.5% and is even lower now. According to UN projections, India’s population is expected peak at about 1.7 billion in 2064.\n",
    "\n",
    "Right now, more than 40% of the country’s residents are younger than 25, and the estimated median age in 2023 is 28 — nearly a decade younger than China’s — according to UN data.\n",
    "\n",
    "In 2021, India’s working-age population stood at more than 900 million and is expected to hit 1 billion over the next decade, according to the Organization for Economic Cooperation and Development (OECD)."
   ]
  },
  {
   "cell_type": "code",
   "execution_count": null,
   "metadata": {},
   "outputs": [],
   "source": []
  },
  {
   "cell_type": "code",
   "execution_count": 44,
   "metadata": {},
   "outputs": [],
   "source": [
    "!pip install pycountry --upgrade --q"
   ]
  },
  {
   "cell_type": "code",
   "execution_count": 45,
   "metadata": {},
   "outputs": [],
   "source": [
    "import pycountry"
   ]
  },
  {
   "cell_type": "code",
   "execution_count": 46,
   "metadata": {},
   "outputs": [],
   "source": [
    "!pip install plotly --upgrade --q"
   ]
  },
  {
   "cell_type": "code",
   "execution_count": 47,
   "metadata": {
    "scrolled": true
   },
   "outputs": [],
   "source": [
    "import plotly.express as px"
   ]
  },
  {
   "cell_type": "code",
   "execution_count": 56,
   "metadata": {},
   "outputs": [
    {
     "data": {
      "application/vnd.plotly.v1+json": {
       "config": {
        "plotlyServerURL": "https://plot.ly"
       },
       "data": [
        {
         "coloraxis": "coloraxis",
         "customdata": [
          [
           "AFG",
           "Afghanistan",
           41128771
          ],
          [
           "ALB",
           "Albania",
           2842321
          ],
          [
           "DZA",
           "Algeria",
           44903225
          ],
          [
           "ASM",
           "American Samoa",
           44273
          ],
          [
           "AND",
           "Andorra",
           79824
          ],
          [
           "AGO",
           "Angola",
           35588987
          ],
          [
           "AIA",
           "Anguilla",
           15857
          ],
          [
           "ATG",
           "Antigua and Barbuda",
           93763
          ],
          [
           "ARG",
           "Argentina",
           45510318
          ],
          [
           "ARM",
           "Armenia",
           2780469
          ],
          [
           "ABW",
           "Aruba",
           106445
          ],
          [
           "AUS",
           "Australia",
           26177413
          ],
          [
           "AUT",
           "Austria",
           8939617
          ],
          [
           "AZE",
           "Azerbaijan",
           10358074
          ],
          [
           "BHS",
           "Bahamas",
           409984
          ],
          [
           "BHR",
           "Bahrain",
           1472233
          ],
          [
           "BGD",
           "Bangladesh",
           171186372
          ],
          [
           "BRB",
           "Barbados",
           281635
          ],
          [
           "BLR",
           "Belarus",
           9534954
          ],
          [
           "BEL",
           "Belgium",
           11655930
          ],
          [
           "BLZ",
           "Belize",
           405272
          ],
          [
           "BEN",
           "Benin",
           13352864
          ],
          [
           "BMU",
           "Bermuda",
           64184
          ],
          [
           "BTN",
           "Bhutan",
           782455
          ],
          [
           "BOL",
           "Bolivia",
           12224110
          ],
          [
           "BIH",
           "Bosnia and Herzegovina",
           3233526
          ],
          [
           "BWA",
           "Botswana",
           2630296
          ],
          [
           "BRA",
           "Brazil",
           215313498
          ],
          [
           "VGB",
           "British Virgin Islands",
           31305
          ],
          [
           "BRN",
           "Brunei",
           449002
          ],
          [
           "BGR",
           "Bulgaria",
           6781953
          ],
          [
           "BFA",
           "Burkina Faso",
           22673762
          ],
          [
           "BDI",
           "Burundi",
           12889576
          ],
          [
           "KHM",
           "Cambodia",
           16767842
          ],
          [
           "CMR",
           "Cameroon",
           27914536
          ],
          [
           "CAN",
           "Canada",
           38454327
          ],
          [
           "CPV",
           "Cape Verde",
           593149
          ],
          [
           "CYM",
           "Cayman Islands",
           68706
          ],
          [
           "CAF",
           "Central African Republic",
           5579144
          ],
          [
           "TCD",
           "Chad",
           17723315
          ],
          [
           "CHL",
           "Chile",
           19603733
          ],
          [
           "CHN",
           "China",
           1425887337
          ],
          [
           "COL",
           "Colombia",
           51874024
          ],
          [
           "COM",
           "Comoros",
           836774
          ],
          [
           "COK",
           "Cook Islands",
           17011
          ],
          [
           "CRI",
           "Costa Rica",
           5180829
          ],
          [
           "HRV",
           "Croatia",
           4030358
          ],
          [
           "CUB",
           "Cuba",
           11212191
          ],
          [
           "CUW",
           "Curacao",
           191163
          ],
          [
           "CYP",
           "Cyprus",
           1251488
          ],
          [
           "CZE",
           "Czech Republic",
           10493986
          ],
          [
           "DNK",
           "Denmark",
           5882261
          ],
          [
           "DJI",
           "Djibouti",
           1120849
          ],
          [
           "DMA",
           "Dominica",
           72737
          ],
          [
           "DOM",
           "Dominican Republic",
           11228821
          ],
          [
           "COD",
           "DR Congo",
           99010212
          ],
          [
           "ECU",
           "Ecuador",
           18001000
          ],
          [
           "EGY",
           "Egypt",
           110990103
          ],
          [
           "SLV",
           "El Salvador",
           6336392
          ],
          [
           "GNQ",
           "Equatorial Guinea",
           1674908
          ],
          [
           "ERI",
           "Eritrea",
           3684032
          ],
          [
           "EST",
           "Estonia",
           1326062
          ],
          [
           "SWZ",
           "Eswatini",
           1201670
          ],
          [
           "ETH",
           "Ethiopia",
           123379924
          ],
          [
           "FLK",
           "Falkland Islands",
           3780
          ],
          [
           "FRO",
           "Faroe Islands",
           53090
          ],
          [
           "FJI",
           "Fiji",
           929766
          ],
          [
           "FIN",
           "Finland",
           5540745
          ],
          [
           "FRA",
           "France",
           64626628
          ],
          [
           "GUF",
           "French Guiana",
           304557
          ],
          [
           "PYF",
           "French Polynesia",
           306279
          ],
          [
           "GAB",
           "Gabon",
           2388992
          ],
          [
           "GMB",
           "Gambia",
           2705992
          ],
          [
           "GEO",
           "Georgia",
           3744385
          ],
          [
           "DEU",
           "Germany",
           83369843
          ],
          [
           "GHA",
           "Ghana",
           33475870
          ],
          [
           "GIB",
           "Gibraltar",
           32649
          ],
          [
           "GRC",
           "Greece",
           10384971
          ],
          [
           "GRL",
           "Greenland",
           56466
          ],
          [
           "GRD",
           "Grenada",
           125438
          ],
          [
           "GLP",
           "Guadeloupe",
           395752
          ],
          [
           "GUM",
           "Guam",
           171774
          ],
          [
           "GTM",
           "Guatemala",
           17843908
          ],
          [
           "GGY",
           "Guernsey",
           63301
          ],
          [
           "GIN",
           "Guinea",
           13859341
          ],
          [
           "GNB",
           "Guinea-Bissau",
           2105566
          ],
          [
           "GUY",
           "Guyana",
           808726
          ],
          [
           "HTI",
           "Haiti",
           11584996
          ],
          [
           "HND",
           "Honduras",
           10432860
          ],
          [
           "HKG",
           "Hong Kong",
           7488865
          ],
          [
           "HUN",
           "Hungary",
           9967308
          ],
          [
           "ISL",
           "Iceland",
           372899
          ],
          [
           "IND",
           "India",
           1417173173
          ],
          [
           "IDN",
           "Indonesia",
           275501339
          ],
          [
           "IRN",
           "Iran",
           88550570
          ],
          [
           "IRQ",
           "Iraq",
           44496122
          ],
          [
           "IRL",
           "Ireland",
           5023109
          ],
          [
           "IMN",
           "Isle of Man",
           84519
          ],
          [
           "ISR",
           "Israel",
           9038309
          ],
          [
           "ITA",
           "Italy",
           59037474
          ],
          [
           "CIV",
           "Ivory Coast",
           28160542
          ],
          [
           "JAM",
           "Jamaica",
           2827377
          ],
          [
           "JPN",
           "Japan",
           123951692
          ],
          [
           "JEY",
           "Jersey",
           110778
          ],
          [
           "JOR",
           "Jordan",
           11285869
          ],
          [
           "KAZ",
           "Kazakhstan",
           19397998
          ],
          [
           "KEN",
           "Kenya",
           54027487
          ],
          [
           "KIR",
           "Kiribati",
           131232
          ],
          [
           "KWT",
           "Kuwait",
           4268873
          ],
          [
           "KGZ",
           "Kyrgyzstan",
           6630623
          ],
          [
           "LAO",
           "Laos",
           7529475
          ],
          [
           "LVA",
           "Latvia",
           1850651
          ],
          [
           "LBN",
           "Lebanon",
           5489739
          ],
          [
           "LSO",
           "Lesotho",
           2305825
          ],
          [
           "LBR",
           "Liberia",
           5302681
          ],
          [
           "LBY",
           "Libya",
           6812341
          ],
          [
           "LIE",
           "Liechtenstein",
           39327
          ],
          [
           "LTU",
           "Lithuania",
           2750055
          ],
          [
           "LUX",
           "Luxembourg",
           647599
          ],
          [
           "MAC",
           "Macau",
           695168
          ],
          [
           "MDG",
           "Madagascar",
           29611714
          ],
          [
           "MWI",
           "Malawi",
           20405317
          ],
          [
           "MYS",
           "Malaysia",
           33938221
          ],
          [
           "MDV",
           "Maldives",
           523787
          ],
          [
           "MLI",
           "Mali",
           22593590
          ],
          [
           "MLT",
           "Malta",
           533286
          ],
          [
           "MHL",
           "Marshall Islands",
           41569
          ],
          [
           "MTQ",
           "Martinique",
           367507
          ],
          [
           "MRT",
           "Mauritania",
           4736139
          ],
          [
           "MUS",
           "Mauritius",
           1299469
          ],
          [
           "MYT",
           "Mayotte",
           326101
          ],
          [
           "MEX",
           "Mexico",
           127504125
          ],
          [
           "FSM",
           "Micronesia",
           114164
          ],
          [
           "MDA",
           "Moldova",
           3272996
          ],
          [
           "MCO",
           "Monaco",
           36469
          ],
          [
           "MNG",
           "Mongolia",
           3398366
          ],
          [
           "MNE",
           "Montenegro",
           627082
          ],
          [
           "MSR",
           "Montserrat",
           4390
          ],
          [
           "MAR",
           "Morocco",
           37457971
          ],
          [
           "MOZ",
           "Mozambique",
           32969517
          ],
          [
           "MMR",
           "Myanmar",
           54179306
          ],
          [
           "NAM",
           "Namibia",
           2567012
          ],
          [
           "NRU",
           "Nauru",
           12668
          ],
          [
           "NPL",
           "Nepal",
           30547580
          ],
          [
           "NLD",
           "Netherlands",
           17564014
          ],
          [
           "NCL",
           "New Caledonia",
           289950
          ],
          [
           "NZL",
           "New Zealand",
           5185288
          ],
          [
           "NIC",
           "Nicaragua",
           6948392
          ],
          [
           "NER",
           "Niger",
           26207977
          ],
          [
           "NGA",
           "Nigeria",
           218541212
          ],
          [
           "NIU",
           "Niue",
           1934
          ],
          [
           "PRK",
           "North Korea",
           26069416
          ],
          [
           "MKD",
           "North Macedonia",
           2093599
          ],
          [
           "NFK",
           "Northern Mariana Islands",
           49551
          ],
          [
           "NOR",
           "Norway",
           5434319
          ],
          [
           "OMN",
           "Oman",
           4576298
          ],
          [
           "PAK",
           "Pakistan",
           235824862
          ],
          [
           "PLW",
           "Palau",
           18055
          ],
          [
           "PSE",
           "Palestine",
           5250072
          ],
          [
           "PAN",
           "Panama",
           4408581
          ],
          [
           "PNG",
           "Papua New Guinea",
           10142619
          ],
          [
           "PRY",
           "Paraguay",
           6780744
          ],
          [
           "PER",
           "Peru",
           34049588
          ],
          [
           "PHL",
           "Philippines",
           115559009
          ],
          [
           "POL",
           "Poland",
           39857145
          ],
          [
           "PRT",
           "Portugal",
           10270865
          ],
          [
           "PRI",
           "Puerto Rico",
           3252407
          ],
          [
           "QAT",
           "Qatar",
           2695122
          ],
          [
           "COG",
           "Republic of the Congo",
           5970424
          ],
          [
           "REU",
           "Reunion",
           974052
          ],
          [
           "ROU",
           "Romania",
           19659267
          ],
          [
           "RUS",
           "Russia",
           144713314
          ],
          [
           "RWA",
           "Rwanda",
           13776698
          ],
          [
           "BLM",
           "Saint Barthelemy",
           10967
          ],
          [
           "KNA",
           "Saint Kitts and Nevis",
           47657
          ],
          [
           "LCA",
           "Saint Lucia",
           179857
          ],
          [
           "MAF",
           "Saint Martin",
           31791
          ],
          [
           "SPM",
           "Saint Pierre and Miquelon",
           5862
          ],
          [
           "VCT",
           "Saint Vincent and the Grenadines",
           103948
          ],
          [
           "WSM",
           "Samoa",
           222382
          ],
          [
           "SMR",
           "San Marino",
           33660
          ],
          [
           "STP",
           "Sao Tome and Principe",
           227380
          ],
          [
           "SAU",
           "Saudi Arabia",
           36408820
          ],
          [
           "SEN",
           "Senegal",
           17316449
          ],
          [
           "SRB",
           "Serbia",
           7221365
          ],
          [
           "SYC",
           "Seychelles",
           107118
          ],
          [
           "SLE",
           "Sierra Leone",
           8605718
          ],
          [
           "SGP",
           "Singapore",
           5975689
          ],
          [
           "SXM",
           "Sint Maarten",
           44175
          ],
          [
           "SVK",
           "Slovakia",
           5643453
          ],
          [
           "SVN",
           "Slovenia",
           2119844
          ],
          [
           "SLB",
           "Solomon Islands",
           724273
          ],
          [
           "SOM",
           "Somalia",
           17597511
          ],
          [
           "ZAF",
           "South Africa",
           59893885
          ],
          [
           "KOR",
           "South Korea",
           51815810
          ],
          [
           "SSD",
           "South Sudan",
           10913164
          ],
          [
           "ESP",
           "Spain",
           47558630
          ],
          [
           "LKA",
           "Sri Lanka",
           21832143
          ],
          [
           "SDN",
           "Sudan",
           46874204
          ],
          [
           "SUR",
           "Suriname",
           618040
          ],
          [
           "SWE",
           "Sweden",
           10549347
          ],
          [
           "CHE",
           "Switzerland",
           8740472
          ],
          [
           "SYR",
           "Syria",
           22125249
          ],
          [
           "TWN",
           "Taiwan",
           23893394
          ],
          [
           "TJK",
           "Tajikistan",
           9952787
          ],
          [
           "TZA",
           "Tanzania",
           65497748
          ],
          [
           "THA",
           "Thailand",
           71697030
          ],
          [
           "TLS",
           "Timor-Leste",
           1341296
          ],
          [
           "TGO",
           "Togo",
           8848699
          ],
          [
           "TKL",
           "Tokelau",
           1871
          ],
          [
           "TON",
           "Tonga",
           106858
          ],
          [
           "TTO",
           "Trinidad and Tobago",
           1531044
          ],
          [
           "TUN",
           "Tunisia",
           12356117
          ],
          [
           "TUR",
           "Turkey",
           85341241
          ],
          [
           "TKM",
           "Turkmenistan",
           6430770
          ],
          [
           "TCA",
           "Turks and Caicos Islands",
           45703
          ],
          [
           "TUV",
           "Tuvalu",
           11312
          ],
          [
           "UGA",
           "Uganda",
           47249585
          ],
          [
           "UKR",
           "Ukraine",
           39701739
          ],
          [
           "ARE",
           "United Arab Emirates",
           9441129
          ],
          [
           "GBR",
           "United Kingdom",
           67508936
          ],
          [
           "USA",
           "United States",
           338289857
          ],
          [
           "VIR",
           "United States Virgin Islands",
           99465
          ],
          [
           "URY",
           "Uruguay",
           3422794
          ],
          [
           "UZB",
           "Uzbekistan",
           34627652
          ],
          [
           "VUT",
           "Vanuatu",
           326740
          ],
          [
           "VAT",
           "Vatican City",
           510
          ],
          [
           "VEN",
           "Venezuela",
           28301696
          ],
          [
           "VNM",
           "Vietnam",
           98186856
          ],
          [
           "WLF",
           "Wallis and Futuna",
           11572
          ],
          [
           "ESH",
           "Western Sahara",
           575986
          ],
          [
           "YEM",
           "Yemen",
           33696614
          ],
          [
           "ZMB",
           "Zambia",
           20017675
          ],
          [
           "ZWE",
           "Zimbabwe",
           16320537
          ]
         ],
         "geo": "geo",
         "hovertemplate": "<b>%{hovertext}</b><br><br>CCA3=%{customdata[0]}<br>Country/Territory=%{customdata[1]}<br>2022 Population=%{z}<extra></extra>",
         "hovertext": [
          "Afghanistan",
          "Albania",
          "Algeria",
          "American Samoa",
          "Andorra",
          "Angola",
          "Anguilla",
          "Antigua and Barbuda",
          "Argentina",
          "Armenia",
          "Aruba",
          "Australia",
          "Austria",
          "Azerbaijan",
          "Bahamas",
          "Bahrain",
          "Bangladesh",
          "Barbados",
          "Belarus",
          "Belgium",
          "Belize",
          "Benin",
          "Bermuda",
          "Bhutan",
          "Bolivia",
          "Bosnia and Herzegovina",
          "Botswana",
          "Brazil",
          "British Virgin Islands",
          "Brunei",
          "Bulgaria",
          "Burkina Faso",
          "Burundi",
          "Cambodia",
          "Cameroon",
          "Canada",
          "Cape Verde",
          "Cayman Islands",
          "Central African Republic",
          "Chad",
          "Chile",
          "China",
          "Colombia",
          "Comoros",
          "Cook Islands",
          "Costa Rica",
          "Croatia",
          "Cuba",
          "Curacao",
          "Cyprus",
          "Czech Republic",
          "Denmark",
          "Djibouti",
          "Dominica",
          "Dominican Republic",
          "DR Congo",
          "Ecuador",
          "Egypt",
          "El Salvador",
          "Equatorial Guinea",
          "Eritrea",
          "Estonia",
          "Eswatini",
          "Ethiopia",
          "Falkland Islands",
          "Faroe Islands",
          "Fiji",
          "Finland",
          "France",
          "French Guiana",
          "French Polynesia",
          "Gabon",
          "Gambia",
          "Georgia",
          "Germany",
          "Ghana",
          "Gibraltar",
          "Greece",
          "Greenland",
          "Grenada",
          "Guadeloupe",
          "Guam",
          "Guatemala",
          "Guernsey",
          "Guinea",
          "Guinea-Bissau",
          "Guyana",
          "Haiti",
          "Honduras",
          "Hong Kong",
          "Hungary",
          "Iceland",
          "India",
          "Indonesia",
          "Iran",
          "Iraq",
          "Ireland",
          "Isle of Man",
          "Israel",
          "Italy",
          "Ivory Coast",
          "Jamaica",
          "Japan",
          "Jersey",
          "Jordan",
          "Kazakhstan",
          "Kenya",
          "Kiribati",
          "Kuwait",
          "Kyrgyzstan",
          "Laos",
          "Latvia",
          "Lebanon",
          "Lesotho",
          "Liberia",
          "Libya",
          "Liechtenstein",
          "Lithuania",
          "Luxembourg",
          "Macau",
          "Madagascar",
          "Malawi",
          "Malaysia",
          "Maldives",
          "Mali",
          "Malta",
          "Marshall Islands",
          "Martinique",
          "Mauritania",
          "Mauritius",
          "Mayotte",
          "Mexico",
          "Micronesia",
          "Moldova",
          "Monaco",
          "Mongolia",
          "Montenegro",
          "Montserrat",
          "Morocco",
          "Mozambique",
          "Myanmar",
          "Namibia",
          "Nauru",
          "Nepal",
          "Netherlands",
          "New Caledonia",
          "New Zealand",
          "Nicaragua",
          "Niger",
          "Nigeria",
          "Niue",
          "North Korea",
          "North Macedonia",
          "Northern Mariana Islands",
          "Norway",
          "Oman",
          "Pakistan",
          "Palau",
          "Palestine",
          "Panama",
          "Papua New Guinea",
          "Paraguay",
          "Peru",
          "Philippines",
          "Poland",
          "Portugal",
          "Puerto Rico",
          "Qatar",
          "Republic of the Congo",
          "Reunion",
          "Romania",
          "Russia",
          "Rwanda",
          "Saint Barthelemy",
          "Saint Kitts and Nevis",
          "Saint Lucia",
          "Saint Martin",
          "Saint Pierre and Miquelon",
          "Saint Vincent and the Grenadines",
          "Samoa",
          "San Marino",
          "Sao Tome and Principe",
          "Saudi Arabia",
          "Senegal",
          "Serbia",
          "Seychelles",
          "Sierra Leone",
          "Singapore",
          "Sint Maarten",
          "Slovakia",
          "Slovenia",
          "Solomon Islands",
          "Somalia",
          "South Africa",
          "South Korea",
          "South Sudan",
          "Spain",
          "Sri Lanka",
          "Sudan",
          "Suriname",
          "Sweden",
          "Switzerland",
          "Syria",
          "Taiwan",
          "Tajikistan",
          "Tanzania",
          "Thailand",
          "Timor-Leste",
          "Togo",
          "Tokelau",
          "Tonga",
          "Trinidad and Tobago",
          "Tunisia",
          "Turkey",
          "Turkmenistan",
          "Turks and Caicos Islands",
          "Tuvalu",
          "Uganda",
          "Ukraine",
          "United Arab Emirates",
          "United Kingdom",
          "United States",
          "United States Virgin Islands",
          "Uruguay",
          "Uzbekistan",
          "Vanuatu",
          "Vatican City",
          "Venezuela",
          "Vietnam",
          "Wallis and Futuna",
          "Western Sahara",
          "Yemen",
          "Zambia",
          "Zimbabwe"
         ],
         "locations": [
          "AFG",
          "ALB",
          "DZA",
          "ASM",
          "AND",
          "AGO",
          "AIA",
          "ATG",
          "ARG",
          "ARM",
          "ABW",
          "AUS",
          "AUT",
          "AZE",
          "BHS",
          "BHR",
          "BGD",
          "BRB",
          "BLR",
          "BEL",
          "BLZ",
          "BEN",
          "BMU",
          "BTN",
          "BOL",
          "BIH",
          "BWA",
          "BRA",
          "VGB",
          "BRN",
          "BGR",
          "BFA",
          "BDI",
          "KHM",
          "CMR",
          "CAN",
          "CPV",
          "CYM",
          "CAF",
          "TCD",
          "CHL",
          "CHN",
          "COL",
          "COM",
          "COK",
          "CRI",
          "HRV",
          "CUB",
          "CUW",
          "CYP",
          "CZE",
          "DNK",
          "DJI",
          "DMA",
          "DOM",
          "COD",
          "ECU",
          "EGY",
          "SLV",
          "GNQ",
          "ERI",
          "EST",
          "SWZ",
          "ETH",
          "FLK",
          "FRO",
          "FJI",
          "FIN",
          "FRA",
          "GUF",
          "PYF",
          "GAB",
          "GMB",
          "GEO",
          "DEU",
          "GHA",
          "GIB",
          "GRC",
          "GRL",
          "GRD",
          "GLP",
          "GUM",
          "GTM",
          "GGY",
          "GIN",
          "GNB",
          "GUY",
          "HTI",
          "HND",
          "HKG",
          "HUN",
          "ISL",
          "IND",
          "IDN",
          "IRN",
          "IRQ",
          "IRL",
          "IMN",
          "ISR",
          "ITA",
          "CIV",
          "JAM",
          "JPN",
          "JEY",
          "JOR",
          "KAZ",
          "KEN",
          "KIR",
          "KWT",
          "KGZ",
          "LAO",
          "LVA",
          "LBN",
          "LSO",
          "LBR",
          "LBY",
          "LIE",
          "LTU",
          "LUX",
          "MAC",
          "MDG",
          "MWI",
          "MYS",
          "MDV",
          "MLI",
          "MLT",
          "MHL",
          "MTQ",
          "MRT",
          "MUS",
          "MYT",
          "MEX",
          "FSM",
          "MDA",
          "MCO",
          "MNG",
          "MNE",
          "MSR",
          "MAR",
          "MOZ",
          "MMR",
          "NAM",
          "NRU",
          "NPL",
          "NLD",
          "NCL",
          "NZL",
          "NIC",
          "NER",
          "NGA",
          "NIU",
          "PRK",
          "MKD",
          "NFK",
          "NOR",
          "OMN",
          "PAK",
          "PLW",
          "PSE",
          "PAN",
          "PNG",
          "PRY",
          "PER",
          "PHL",
          "POL",
          "PRT",
          "PRI",
          "QAT",
          "COG",
          "REU",
          "ROU",
          "RUS",
          "RWA",
          "BLM",
          "KNA",
          "LCA",
          "MAF",
          "SPM",
          "VCT",
          "WSM",
          "SMR",
          "STP",
          "SAU",
          "SEN",
          "SRB",
          "SYC",
          "SLE",
          "SGP",
          "SXM",
          "SVK",
          "SVN",
          "SLB",
          "SOM",
          "ZAF",
          "KOR",
          "SSD",
          "ESP",
          "LKA",
          "SDN",
          "SUR",
          "SWE",
          "CHE",
          "SYR",
          "TWN",
          "TJK",
          "TZA",
          "THA",
          "TLS",
          "TGO",
          "TKL",
          "TON",
          "TTO",
          "TUN",
          "TUR",
          "TKM",
          "TCA",
          "TUV",
          "UGA",
          "UKR",
          "ARE",
          "GBR",
          "USA",
          "VIR",
          "URY",
          "UZB",
          "VUT",
          "VAT",
          "VEN",
          "VNM",
          "WLF",
          "ESH",
          "YEM",
          "ZMB",
          "ZWE"
         ],
         "name": "",
         "type": "choropleth",
         "z": [
          41128771,
          2842321,
          44903225,
          44273,
          79824,
          35588987,
          15857,
          93763,
          45510318,
          2780469,
          106445,
          26177413,
          8939617,
          10358074,
          409984,
          1472233,
          171186372,
          281635,
          9534954,
          11655930,
          405272,
          13352864,
          64184,
          782455,
          12224110,
          3233526,
          2630296,
          215313498,
          31305,
          449002,
          6781953,
          22673762,
          12889576,
          16767842,
          27914536,
          38454327,
          593149,
          68706,
          5579144,
          17723315,
          19603733,
          1425887337,
          51874024,
          836774,
          17011,
          5180829,
          4030358,
          11212191,
          191163,
          1251488,
          10493986,
          5882261,
          1120849,
          72737,
          11228821,
          99010212,
          18001000,
          110990103,
          6336392,
          1674908,
          3684032,
          1326062,
          1201670,
          123379924,
          3780,
          53090,
          929766,
          5540745,
          64626628,
          304557,
          306279,
          2388992,
          2705992,
          3744385,
          83369843,
          33475870,
          32649,
          10384971,
          56466,
          125438,
          395752,
          171774,
          17843908,
          63301,
          13859341,
          2105566,
          808726,
          11584996,
          10432860,
          7488865,
          9967308,
          372899,
          1417173173,
          275501339,
          88550570,
          44496122,
          5023109,
          84519,
          9038309,
          59037474,
          28160542,
          2827377,
          123951692,
          110778,
          11285869,
          19397998,
          54027487,
          131232,
          4268873,
          6630623,
          7529475,
          1850651,
          5489739,
          2305825,
          5302681,
          6812341,
          39327,
          2750055,
          647599,
          695168,
          29611714,
          20405317,
          33938221,
          523787,
          22593590,
          533286,
          41569,
          367507,
          4736139,
          1299469,
          326101,
          127504125,
          114164,
          3272996,
          36469,
          3398366,
          627082,
          4390,
          37457971,
          32969517,
          54179306,
          2567012,
          12668,
          30547580,
          17564014,
          289950,
          5185288,
          6948392,
          26207977,
          218541212,
          1934,
          26069416,
          2093599,
          49551,
          5434319,
          4576298,
          235824862,
          18055,
          5250072,
          4408581,
          10142619,
          6780744,
          34049588,
          115559009,
          39857145,
          10270865,
          3252407,
          2695122,
          5970424,
          974052,
          19659267,
          144713314,
          13776698,
          10967,
          47657,
          179857,
          31791,
          5862,
          103948,
          222382,
          33660,
          227380,
          36408820,
          17316449,
          7221365,
          107118,
          8605718,
          5975689,
          44175,
          5643453,
          2119844,
          724273,
          17597511,
          59893885,
          51815810,
          10913164,
          47558630,
          21832143,
          46874204,
          618040,
          10549347,
          8740472,
          22125249,
          23893394,
          9952787,
          65497748,
          71697030,
          1341296,
          8848699,
          1871,
          106858,
          1531044,
          12356117,
          85341241,
          6430770,
          45703,
          11312,
          47249585,
          39701739,
          9441129,
          67508936,
          338289857,
          99465,
          3422794,
          34627652,
          326740,
          510,
          28301696,
          98186856,
          11572,
          575986,
          33696614,
          20017675,
          16320537
         ]
        }
       ],
       "layout": {
        "coloraxis": {
         "colorbar": {
          "title": {
           "text": "2022 Population"
          }
         },
         "colorscale": [
          [
           0,
           "#0d0887"
          ],
          [
           0.1111111111111111,
           "#46039f"
          ],
          [
           0.2222222222222222,
           "#7201a8"
          ],
          [
           0.3333333333333333,
           "#9c179e"
          ],
          [
           0.4444444444444444,
           "#bd3786"
          ],
          [
           0.5555555555555556,
           "#d8576b"
          ],
          [
           0.6666666666666666,
           "#ed7953"
          ],
          [
           0.7777777777777778,
           "#fb9f3a"
          ],
          [
           0.8888888888888888,
           "#fdca26"
          ],
          [
           1,
           "#f0f921"
          ]
         ]
        },
        "geo": {
         "center": {},
         "domain": {
          "x": [
           0,
           1
          ],
          "y": [
           0,
           1
          ]
         },
         "projection": {
          "type": "natural earth"
         }
        },
        "legend": {
         "tracegroupgap": 0
        },
        "template": {
         "data": {
          "bar": [
           {
            "error_x": {
             "color": "#2a3f5f"
            },
            "error_y": {
             "color": "#2a3f5f"
            },
            "marker": {
             "line": {
              "color": "#E5ECF6",
              "width": 0.5
             },
             "pattern": {
              "fillmode": "overlay",
              "size": 10,
              "solidity": 0.2
             }
            },
            "type": "bar"
           }
          ],
          "barpolar": [
           {
            "marker": {
             "line": {
              "color": "#E5ECF6",
              "width": 0.5
             },
             "pattern": {
              "fillmode": "overlay",
              "size": 10,
              "solidity": 0.2
             }
            },
            "type": "barpolar"
           }
          ],
          "carpet": [
           {
            "aaxis": {
             "endlinecolor": "#2a3f5f",
             "gridcolor": "white",
             "linecolor": "white",
             "minorgridcolor": "white",
             "startlinecolor": "#2a3f5f"
            },
            "baxis": {
             "endlinecolor": "#2a3f5f",
             "gridcolor": "white",
             "linecolor": "white",
             "minorgridcolor": "white",
             "startlinecolor": "#2a3f5f"
            },
            "type": "carpet"
           }
          ],
          "choropleth": [
           {
            "colorbar": {
             "outlinewidth": 0,
             "ticks": ""
            },
            "type": "choropleth"
           }
          ],
          "contour": [
           {
            "colorbar": {
             "outlinewidth": 0,
             "ticks": ""
            },
            "colorscale": [
             [
              0,
              "#0d0887"
             ],
             [
              0.1111111111111111,
              "#46039f"
             ],
             [
              0.2222222222222222,
              "#7201a8"
             ],
             [
              0.3333333333333333,
              "#9c179e"
             ],
             [
              0.4444444444444444,
              "#bd3786"
             ],
             [
              0.5555555555555556,
              "#d8576b"
             ],
             [
              0.6666666666666666,
              "#ed7953"
             ],
             [
              0.7777777777777778,
              "#fb9f3a"
             ],
             [
              0.8888888888888888,
              "#fdca26"
             ],
             [
              1,
              "#f0f921"
             ]
            ],
            "type": "contour"
           }
          ],
          "contourcarpet": [
           {
            "colorbar": {
             "outlinewidth": 0,
             "ticks": ""
            },
            "type": "contourcarpet"
           }
          ],
          "heatmap": [
           {
            "colorbar": {
             "outlinewidth": 0,
             "ticks": ""
            },
            "colorscale": [
             [
              0,
              "#0d0887"
             ],
             [
              0.1111111111111111,
              "#46039f"
             ],
             [
              0.2222222222222222,
              "#7201a8"
             ],
             [
              0.3333333333333333,
              "#9c179e"
             ],
             [
              0.4444444444444444,
              "#bd3786"
             ],
             [
              0.5555555555555556,
              "#d8576b"
             ],
             [
              0.6666666666666666,
              "#ed7953"
             ],
             [
              0.7777777777777778,
              "#fb9f3a"
             ],
             [
              0.8888888888888888,
              "#fdca26"
             ],
             [
              1,
              "#f0f921"
             ]
            ],
            "type": "heatmap"
           }
          ],
          "heatmapgl": [
           {
            "colorbar": {
             "outlinewidth": 0,
             "ticks": ""
            },
            "colorscale": [
             [
              0,
              "#0d0887"
             ],
             [
              0.1111111111111111,
              "#46039f"
             ],
             [
              0.2222222222222222,
              "#7201a8"
             ],
             [
              0.3333333333333333,
              "#9c179e"
             ],
             [
              0.4444444444444444,
              "#bd3786"
             ],
             [
              0.5555555555555556,
              "#d8576b"
             ],
             [
              0.6666666666666666,
              "#ed7953"
             ],
             [
              0.7777777777777778,
              "#fb9f3a"
             ],
             [
              0.8888888888888888,
              "#fdca26"
             ],
             [
              1,
              "#f0f921"
             ]
            ],
            "type": "heatmapgl"
           }
          ],
          "histogram": [
           {
            "marker": {
             "pattern": {
              "fillmode": "overlay",
              "size": 10,
              "solidity": 0.2
             }
            },
            "type": "histogram"
           }
          ],
          "histogram2d": [
           {
            "colorbar": {
             "outlinewidth": 0,
             "ticks": ""
            },
            "colorscale": [
             [
              0,
              "#0d0887"
             ],
             [
              0.1111111111111111,
              "#46039f"
             ],
             [
              0.2222222222222222,
              "#7201a8"
             ],
             [
              0.3333333333333333,
              "#9c179e"
             ],
             [
              0.4444444444444444,
              "#bd3786"
             ],
             [
              0.5555555555555556,
              "#d8576b"
             ],
             [
              0.6666666666666666,
              "#ed7953"
             ],
             [
              0.7777777777777778,
              "#fb9f3a"
             ],
             [
              0.8888888888888888,
              "#fdca26"
             ],
             [
              1,
              "#f0f921"
             ]
            ],
            "type": "histogram2d"
           }
          ],
          "histogram2dcontour": [
           {
            "colorbar": {
             "outlinewidth": 0,
             "ticks": ""
            },
            "colorscale": [
             [
              0,
              "#0d0887"
             ],
             [
              0.1111111111111111,
              "#46039f"
             ],
             [
              0.2222222222222222,
              "#7201a8"
             ],
             [
              0.3333333333333333,
              "#9c179e"
             ],
             [
              0.4444444444444444,
              "#bd3786"
             ],
             [
              0.5555555555555556,
              "#d8576b"
             ],
             [
              0.6666666666666666,
              "#ed7953"
             ],
             [
              0.7777777777777778,
              "#fb9f3a"
             ],
             [
              0.8888888888888888,
              "#fdca26"
             ],
             [
              1,
              "#f0f921"
             ]
            ],
            "type": "histogram2dcontour"
           }
          ],
          "mesh3d": [
           {
            "colorbar": {
             "outlinewidth": 0,
             "ticks": ""
            },
            "type": "mesh3d"
           }
          ],
          "parcoords": [
           {
            "line": {
             "colorbar": {
              "outlinewidth": 0,
              "ticks": ""
             }
            },
            "type": "parcoords"
           }
          ],
          "pie": [
           {
            "automargin": true,
            "type": "pie"
           }
          ],
          "scatter": [
           {
            "fillpattern": {
             "fillmode": "overlay",
             "size": 10,
             "solidity": 0.2
            },
            "type": "scatter"
           }
          ],
          "scatter3d": [
           {
            "line": {
             "colorbar": {
              "outlinewidth": 0,
              "ticks": ""
             }
            },
            "marker": {
             "colorbar": {
              "outlinewidth": 0,
              "ticks": ""
             }
            },
            "type": "scatter3d"
           }
          ],
          "scattercarpet": [
           {
            "marker": {
             "colorbar": {
              "outlinewidth": 0,
              "ticks": ""
             }
            },
            "type": "scattercarpet"
           }
          ],
          "scattergeo": [
           {
            "marker": {
             "colorbar": {
              "outlinewidth": 0,
              "ticks": ""
             }
            },
            "type": "scattergeo"
           }
          ],
          "scattergl": [
           {
            "marker": {
             "colorbar": {
              "outlinewidth": 0,
              "ticks": ""
             }
            },
            "type": "scattergl"
           }
          ],
          "scattermapbox": [
           {
            "marker": {
             "colorbar": {
              "outlinewidth": 0,
              "ticks": ""
             }
            },
            "type": "scattermapbox"
           }
          ],
          "scatterpolar": [
           {
            "marker": {
             "colorbar": {
              "outlinewidth": 0,
              "ticks": ""
             }
            },
            "type": "scatterpolar"
           }
          ],
          "scatterpolargl": [
           {
            "marker": {
             "colorbar": {
              "outlinewidth": 0,
              "ticks": ""
             }
            },
            "type": "scatterpolargl"
           }
          ],
          "scatterternary": [
           {
            "marker": {
             "colorbar": {
              "outlinewidth": 0,
              "ticks": ""
             }
            },
            "type": "scatterternary"
           }
          ],
          "surface": [
           {
            "colorbar": {
             "outlinewidth": 0,
             "ticks": ""
            },
            "colorscale": [
             [
              0,
              "#0d0887"
             ],
             [
              0.1111111111111111,
              "#46039f"
             ],
             [
              0.2222222222222222,
              "#7201a8"
             ],
             [
              0.3333333333333333,
              "#9c179e"
             ],
             [
              0.4444444444444444,
              "#bd3786"
             ],
             [
              0.5555555555555556,
              "#d8576b"
             ],
             [
              0.6666666666666666,
              "#ed7953"
             ],
             [
              0.7777777777777778,
              "#fb9f3a"
             ],
             [
              0.8888888888888888,
              "#fdca26"
             ],
             [
              1,
              "#f0f921"
             ]
            ],
            "type": "surface"
           }
          ],
          "table": [
           {
            "cells": {
             "fill": {
              "color": "#EBF0F8"
             },
             "line": {
              "color": "white"
             }
            },
            "header": {
             "fill": {
              "color": "#C8D4E3"
             },
             "line": {
              "color": "white"
             }
            },
            "type": "table"
           }
          ]
         },
         "layout": {
          "annotationdefaults": {
           "arrowcolor": "#2a3f5f",
           "arrowhead": 0,
           "arrowwidth": 1
          },
          "autotypenumbers": "strict",
          "coloraxis": {
           "colorbar": {
            "outlinewidth": 0,
            "ticks": ""
           }
          },
          "colorscale": {
           "diverging": [
            [
             0,
             "#8e0152"
            ],
            [
             0.1,
             "#c51b7d"
            ],
            [
             0.2,
             "#de77ae"
            ],
            [
             0.3,
             "#f1b6da"
            ],
            [
             0.4,
             "#fde0ef"
            ],
            [
             0.5,
             "#f7f7f7"
            ],
            [
             0.6,
             "#e6f5d0"
            ],
            [
             0.7,
             "#b8e186"
            ],
            [
             0.8,
             "#7fbc41"
            ],
            [
             0.9,
             "#4d9221"
            ],
            [
             1,
             "#276419"
            ]
           ],
           "sequential": [
            [
             0,
             "#0d0887"
            ],
            [
             0.1111111111111111,
             "#46039f"
            ],
            [
             0.2222222222222222,
             "#7201a8"
            ],
            [
             0.3333333333333333,
             "#9c179e"
            ],
            [
             0.4444444444444444,
             "#bd3786"
            ],
            [
             0.5555555555555556,
             "#d8576b"
            ],
            [
             0.6666666666666666,
             "#ed7953"
            ],
            [
             0.7777777777777778,
             "#fb9f3a"
            ],
            [
             0.8888888888888888,
             "#fdca26"
            ],
            [
             1,
             "#f0f921"
            ]
           ],
           "sequentialminus": [
            [
             0,
             "#0d0887"
            ],
            [
             0.1111111111111111,
             "#46039f"
            ],
            [
             0.2222222222222222,
             "#7201a8"
            ],
            [
             0.3333333333333333,
             "#9c179e"
            ],
            [
             0.4444444444444444,
             "#bd3786"
            ],
            [
             0.5555555555555556,
             "#d8576b"
            ],
            [
             0.6666666666666666,
             "#ed7953"
            ],
            [
             0.7777777777777778,
             "#fb9f3a"
            ],
            [
             0.8888888888888888,
             "#fdca26"
            ],
            [
             1,
             "#f0f921"
            ]
           ]
          },
          "colorway": [
           "#636efa",
           "#EF553B",
           "#00cc96",
           "#ab63fa",
           "#FFA15A",
           "#19d3f3",
           "#FF6692",
           "#B6E880",
           "#FF97FF",
           "#FECB52"
          ],
          "font": {
           "color": "#2a3f5f"
          },
          "geo": {
           "bgcolor": "white",
           "lakecolor": "white",
           "landcolor": "#E5ECF6",
           "showlakes": true,
           "showland": true,
           "subunitcolor": "white"
          },
          "hoverlabel": {
           "align": "left"
          },
          "hovermode": "closest",
          "mapbox": {
           "style": "light"
          },
          "paper_bgcolor": "white",
          "plot_bgcolor": "#E5ECF6",
          "polar": {
           "angularaxis": {
            "gridcolor": "white",
            "linecolor": "white",
            "ticks": ""
           },
           "bgcolor": "#E5ECF6",
           "radialaxis": {
            "gridcolor": "white",
            "linecolor": "white",
            "ticks": ""
           }
          },
          "scene": {
           "xaxis": {
            "backgroundcolor": "#E5ECF6",
            "gridcolor": "white",
            "gridwidth": 2,
            "linecolor": "white",
            "showbackground": true,
            "ticks": "",
            "zerolinecolor": "white"
           },
           "yaxis": {
            "backgroundcolor": "#E5ECF6",
            "gridcolor": "white",
            "gridwidth": 2,
            "linecolor": "white",
            "showbackground": true,
            "ticks": "",
            "zerolinecolor": "white"
           },
           "zaxis": {
            "backgroundcolor": "#E5ECF6",
            "gridcolor": "white",
            "gridwidth": 2,
            "linecolor": "white",
            "showbackground": true,
            "ticks": "",
            "zerolinecolor": "white"
           }
          },
          "shapedefaults": {
           "line": {
            "color": "#2a3f5f"
           }
          },
          "ternary": {
           "aaxis": {
            "gridcolor": "white",
            "linecolor": "white",
            "ticks": ""
           },
           "baxis": {
            "gridcolor": "white",
            "linecolor": "white",
            "ticks": ""
           },
           "bgcolor": "#E5ECF6",
           "caxis": {
            "gridcolor": "white",
            "linecolor": "white",
            "ticks": ""
           }
          },
          "title": {
           "x": 0.05
          },
          "xaxis": {
           "automargin": true,
           "gridcolor": "white",
           "linecolor": "white",
           "ticks": "",
           "title": {
            "standoff": 15
           },
           "zerolinecolor": "white",
           "zerolinewidth": 2
          },
          "yaxis": {
           "automargin": true,
           "gridcolor": "white",
           "linecolor": "white",
           "ticks": "",
           "title": {
            "standoff": 15
           },
           "zerolinecolor": "white",
           "zerolinewidth": 2
          }
         }
        },
        "title": {
         "text": "choropleth Map showing World Population in 2022"
        }
       }
      },
      "text/html": [
       "<div>                            <div id=\"ddb7bfa2-06d8-40dd-adca-89399e0c535c\" class=\"plotly-graph-div\" style=\"height:525px; width:100%;\"></div>            <script type=\"text/javascript\">                require([\"plotly\"], function(Plotly) {                    window.PLOTLYENV=window.PLOTLYENV || {};                                    if (document.getElementById(\"ddb7bfa2-06d8-40dd-adca-89399e0c535c\")) {                    Plotly.newPlot(                        \"ddb7bfa2-06d8-40dd-adca-89399e0c535c\",                        [{\"coloraxis\":\"coloraxis\",\"customdata\":[[\"AFG\",\"Afghanistan\",41128771],[\"ALB\",\"Albania\",2842321],[\"DZA\",\"Algeria\",44903225],[\"ASM\",\"American Samoa\",44273],[\"AND\",\"Andorra\",79824],[\"AGO\",\"Angola\",35588987],[\"AIA\",\"Anguilla\",15857],[\"ATG\",\"Antigua and Barbuda\",93763],[\"ARG\",\"Argentina\",45510318],[\"ARM\",\"Armenia\",2780469],[\"ABW\",\"Aruba\",106445],[\"AUS\",\"Australia\",26177413],[\"AUT\",\"Austria\",8939617],[\"AZE\",\"Azerbaijan\",10358074],[\"BHS\",\"Bahamas\",409984],[\"BHR\",\"Bahrain\",1472233],[\"BGD\",\"Bangladesh\",171186372],[\"BRB\",\"Barbados\",281635],[\"BLR\",\"Belarus\",9534954],[\"BEL\",\"Belgium\",11655930],[\"BLZ\",\"Belize\",405272],[\"BEN\",\"Benin\",13352864],[\"BMU\",\"Bermuda\",64184],[\"BTN\",\"Bhutan\",782455],[\"BOL\",\"Bolivia\",12224110],[\"BIH\",\"Bosnia and Herzegovina\",3233526],[\"BWA\",\"Botswana\",2630296],[\"BRA\",\"Brazil\",215313498],[\"VGB\",\"British Virgin Islands\",31305],[\"BRN\",\"Brunei\",449002],[\"BGR\",\"Bulgaria\",6781953],[\"BFA\",\"Burkina Faso\",22673762],[\"BDI\",\"Burundi\",12889576],[\"KHM\",\"Cambodia\",16767842],[\"CMR\",\"Cameroon\",27914536],[\"CAN\",\"Canada\",38454327],[\"CPV\",\"Cape Verde\",593149],[\"CYM\",\"Cayman Islands\",68706],[\"CAF\",\"Central African Republic\",5579144],[\"TCD\",\"Chad\",17723315],[\"CHL\",\"Chile\",19603733],[\"CHN\",\"China\",1425887337],[\"COL\",\"Colombia\",51874024],[\"COM\",\"Comoros\",836774],[\"COK\",\"Cook Islands\",17011],[\"CRI\",\"Costa Rica\",5180829],[\"HRV\",\"Croatia\",4030358],[\"CUB\",\"Cuba\",11212191],[\"CUW\",\"Curacao\",191163],[\"CYP\",\"Cyprus\",1251488],[\"CZE\",\"Czech Republic\",10493986],[\"DNK\",\"Denmark\",5882261],[\"DJI\",\"Djibouti\",1120849],[\"DMA\",\"Dominica\",72737],[\"DOM\",\"Dominican Republic\",11228821],[\"COD\",\"DR Congo\",99010212],[\"ECU\",\"Ecuador\",18001000],[\"EGY\",\"Egypt\",110990103],[\"SLV\",\"El Salvador\",6336392],[\"GNQ\",\"Equatorial Guinea\",1674908],[\"ERI\",\"Eritrea\",3684032],[\"EST\",\"Estonia\",1326062],[\"SWZ\",\"Eswatini\",1201670],[\"ETH\",\"Ethiopia\",123379924],[\"FLK\",\"Falkland Islands\",3780],[\"FRO\",\"Faroe Islands\",53090],[\"FJI\",\"Fiji\",929766],[\"FIN\",\"Finland\",5540745],[\"FRA\",\"France\",64626628],[\"GUF\",\"French Guiana\",304557],[\"PYF\",\"French Polynesia\",306279],[\"GAB\",\"Gabon\",2388992],[\"GMB\",\"Gambia\",2705992],[\"GEO\",\"Georgia\",3744385],[\"DEU\",\"Germany\",83369843],[\"GHA\",\"Ghana\",33475870],[\"GIB\",\"Gibraltar\",32649],[\"GRC\",\"Greece\",10384971],[\"GRL\",\"Greenland\",56466],[\"GRD\",\"Grenada\",125438],[\"GLP\",\"Guadeloupe\",395752],[\"GUM\",\"Guam\",171774],[\"GTM\",\"Guatemala\",17843908],[\"GGY\",\"Guernsey\",63301],[\"GIN\",\"Guinea\",13859341],[\"GNB\",\"Guinea-Bissau\",2105566],[\"GUY\",\"Guyana\",808726],[\"HTI\",\"Haiti\",11584996],[\"HND\",\"Honduras\",10432860],[\"HKG\",\"Hong Kong\",7488865],[\"HUN\",\"Hungary\",9967308],[\"ISL\",\"Iceland\",372899],[\"IND\",\"India\",1417173173],[\"IDN\",\"Indonesia\",275501339],[\"IRN\",\"Iran\",88550570],[\"IRQ\",\"Iraq\",44496122],[\"IRL\",\"Ireland\",5023109],[\"IMN\",\"Isle of Man\",84519],[\"ISR\",\"Israel\",9038309],[\"ITA\",\"Italy\",59037474],[\"CIV\",\"Ivory Coast\",28160542],[\"JAM\",\"Jamaica\",2827377],[\"JPN\",\"Japan\",123951692],[\"JEY\",\"Jersey\",110778],[\"JOR\",\"Jordan\",11285869],[\"KAZ\",\"Kazakhstan\",19397998],[\"KEN\",\"Kenya\",54027487],[\"KIR\",\"Kiribati\",131232],[\"KWT\",\"Kuwait\",4268873],[\"KGZ\",\"Kyrgyzstan\",6630623],[\"LAO\",\"Laos\",7529475],[\"LVA\",\"Latvia\",1850651],[\"LBN\",\"Lebanon\",5489739],[\"LSO\",\"Lesotho\",2305825],[\"LBR\",\"Liberia\",5302681],[\"LBY\",\"Libya\",6812341],[\"LIE\",\"Liechtenstein\",39327],[\"LTU\",\"Lithuania\",2750055],[\"LUX\",\"Luxembourg\",647599],[\"MAC\",\"Macau\",695168],[\"MDG\",\"Madagascar\",29611714],[\"MWI\",\"Malawi\",20405317],[\"MYS\",\"Malaysia\",33938221],[\"MDV\",\"Maldives\",523787],[\"MLI\",\"Mali\",22593590],[\"MLT\",\"Malta\",533286],[\"MHL\",\"Marshall Islands\",41569],[\"MTQ\",\"Martinique\",367507],[\"MRT\",\"Mauritania\",4736139],[\"MUS\",\"Mauritius\",1299469],[\"MYT\",\"Mayotte\",326101],[\"MEX\",\"Mexico\",127504125],[\"FSM\",\"Micronesia\",114164],[\"MDA\",\"Moldova\",3272996],[\"MCO\",\"Monaco\",36469],[\"MNG\",\"Mongolia\",3398366],[\"MNE\",\"Montenegro\",627082],[\"MSR\",\"Montserrat\",4390],[\"MAR\",\"Morocco\",37457971],[\"MOZ\",\"Mozambique\",32969517],[\"MMR\",\"Myanmar\",54179306],[\"NAM\",\"Namibia\",2567012],[\"NRU\",\"Nauru\",12668],[\"NPL\",\"Nepal\",30547580],[\"NLD\",\"Netherlands\",17564014],[\"NCL\",\"New Caledonia\",289950],[\"NZL\",\"New Zealand\",5185288],[\"NIC\",\"Nicaragua\",6948392],[\"NER\",\"Niger\",26207977],[\"NGA\",\"Nigeria\",218541212],[\"NIU\",\"Niue\",1934],[\"PRK\",\"North Korea\",26069416],[\"MKD\",\"North Macedonia\",2093599],[\"NFK\",\"Northern Mariana Islands\",49551],[\"NOR\",\"Norway\",5434319],[\"OMN\",\"Oman\",4576298],[\"PAK\",\"Pakistan\",235824862],[\"PLW\",\"Palau\",18055],[\"PSE\",\"Palestine\",5250072],[\"PAN\",\"Panama\",4408581],[\"PNG\",\"Papua New Guinea\",10142619],[\"PRY\",\"Paraguay\",6780744],[\"PER\",\"Peru\",34049588],[\"PHL\",\"Philippines\",115559009],[\"POL\",\"Poland\",39857145],[\"PRT\",\"Portugal\",10270865],[\"PRI\",\"Puerto Rico\",3252407],[\"QAT\",\"Qatar\",2695122],[\"COG\",\"Republic of the Congo\",5970424],[\"REU\",\"Reunion\",974052],[\"ROU\",\"Romania\",19659267],[\"RUS\",\"Russia\",144713314],[\"RWA\",\"Rwanda\",13776698],[\"BLM\",\"Saint Barthelemy\",10967],[\"KNA\",\"Saint Kitts and Nevis\",47657],[\"LCA\",\"Saint Lucia\",179857],[\"MAF\",\"Saint Martin\",31791],[\"SPM\",\"Saint Pierre and Miquelon\",5862],[\"VCT\",\"Saint Vincent and the Grenadines\",103948],[\"WSM\",\"Samoa\",222382],[\"SMR\",\"San Marino\",33660],[\"STP\",\"Sao Tome and Principe\",227380],[\"SAU\",\"Saudi Arabia\",36408820],[\"SEN\",\"Senegal\",17316449],[\"SRB\",\"Serbia\",7221365],[\"SYC\",\"Seychelles\",107118],[\"SLE\",\"Sierra Leone\",8605718],[\"SGP\",\"Singapore\",5975689],[\"SXM\",\"Sint Maarten\",44175],[\"SVK\",\"Slovakia\",5643453],[\"SVN\",\"Slovenia\",2119844],[\"SLB\",\"Solomon Islands\",724273],[\"SOM\",\"Somalia\",17597511],[\"ZAF\",\"South Africa\",59893885],[\"KOR\",\"South Korea\",51815810],[\"SSD\",\"South Sudan\",10913164],[\"ESP\",\"Spain\",47558630],[\"LKA\",\"Sri Lanka\",21832143],[\"SDN\",\"Sudan\",46874204],[\"SUR\",\"Suriname\",618040],[\"SWE\",\"Sweden\",10549347],[\"CHE\",\"Switzerland\",8740472],[\"SYR\",\"Syria\",22125249],[\"TWN\",\"Taiwan\",23893394],[\"TJK\",\"Tajikistan\",9952787],[\"TZA\",\"Tanzania\",65497748],[\"THA\",\"Thailand\",71697030],[\"TLS\",\"Timor-Leste\",1341296],[\"TGO\",\"Togo\",8848699],[\"TKL\",\"Tokelau\",1871],[\"TON\",\"Tonga\",106858],[\"TTO\",\"Trinidad and Tobago\",1531044],[\"TUN\",\"Tunisia\",12356117],[\"TUR\",\"Turkey\",85341241],[\"TKM\",\"Turkmenistan\",6430770],[\"TCA\",\"Turks and Caicos Islands\",45703],[\"TUV\",\"Tuvalu\",11312],[\"UGA\",\"Uganda\",47249585],[\"UKR\",\"Ukraine\",39701739],[\"ARE\",\"United Arab Emirates\",9441129],[\"GBR\",\"United Kingdom\",67508936],[\"USA\",\"United States\",338289857],[\"VIR\",\"United States Virgin Islands\",99465],[\"URY\",\"Uruguay\",3422794],[\"UZB\",\"Uzbekistan\",34627652],[\"VUT\",\"Vanuatu\",326740],[\"VAT\",\"Vatican City\",510],[\"VEN\",\"Venezuela\",28301696],[\"VNM\",\"Vietnam\",98186856],[\"WLF\",\"Wallis and Futuna\",11572],[\"ESH\",\"Western Sahara\",575986],[\"YEM\",\"Yemen\",33696614],[\"ZMB\",\"Zambia\",20017675],[\"ZWE\",\"Zimbabwe\",16320537]],\"geo\":\"geo\",\"hovertemplate\":\"\\u003cb\\u003e%{hovertext}\\u003c\\u002fb\\u003e\\u003cbr\\u003e\\u003cbr\\u003eCCA3=%{customdata[0]}\\u003cbr\\u003eCountry\\u002fTerritory=%{customdata[1]}\\u003cbr\\u003e2022 Population=%{z}\\u003cextra\\u003e\\u003c\\u002fextra\\u003e\",\"hovertext\":[\"Afghanistan\",\"Albania\",\"Algeria\",\"American Samoa\",\"Andorra\",\"Angola\",\"Anguilla\",\"Antigua and Barbuda\",\"Argentina\",\"Armenia\",\"Aruba\",\"Australia\",\"Austria\",\"Azerbaijan\",\"Bahamas\",\"Bahrain\",\"Bangladesh\",\"Barbados\",\"Belarus\",\"Belgium\",\"Belize\",\"Benin\",\"Bermuda\",\"Bhutan\",\"Bolivia\",\"Bosnia and Herzegovina\",\"Botswana\",\"Brazil\",\"British Virgin Islands\",\"Brunei\",\"Bulgaria\",\"Burkina Faso\",\"Burundi\",\"Cambodia\",\"Cameroon\",\"Canada\",\"Cape Verde\",\"Cayman Islands\",\"Central African Republic\",\"Chad\",\"Chile\",\"China\",\"Colombia\",\"Comoros\",\"Cook Islands\",\"Costa Rica\",\"Croatia\",\"Cuba\",\"Curacao\",\"Cyprus\",\"Czech Republic\",\"Denmark\",\"Djibouti\",\"Dominica\",\"Dominican Republic\",\"DR Congo\",\"Ecuador\",\"Egypt\",\"El Salvador\",\"Equatorial Guinea\",\"Eritrea\",\"Estonia\",\"Eswatini\",\"Ethiopia\",\"Falkland Islands\",\"Faroe Islands\",\"Fiji\",\"Finland\",\"France\",\"French Guiana\",\"French Polynesia\",\"Gabon\",\"Gambia\",\"Georgia\",\"Germany\",\"Ghana\",\"Gibraltar\",\"Greece\",\"Greenland\",\"Grenada\",\"Guadeloupe\",\"Guam\",\"Guatemala\",\"Guernsey\",\"Guinea\",\"Guinea-Bissau\",\"Guyana\",\"Haiti\",\"Honduras\",\"Hong Kong\",\"Hungary\",\"Iceland\",\"India\",\"Indonesia\",\"Iran\",\"Iraq\",\"Ireland\",\"Isle of Man\",\"Israel\",\"Italy\",\"Ivory Coast\",\"Jamaica\",\"Japan\",\"Jersey\",\"Jordan\",\"Kazakhstan\",\"Kenya\",\"Kiribati\",\"Kuwait\",\"Kyrgyzstan\",\"Laos\",\"Latvia\",\"Lebanon\",\"Lesotho\",\"Liberia\",\"Libya\",\"Liechtenstein\",\"Lithuania\",\"Luxembourg\",\"Macau\",\"Madagascar\",\"Malawi\",\"Malaysia\",\"Maldives\",\"Mali\",\"Malta\",\"Marshall Islands\",\"Martinique\",\"Mauritania\",\"Mauritius\",\"Mayotte\",\"Mexico\",\"Micronesia\",\"Moldova\",\"Monaco\",\"Mongolia\",\"Montenegro\",\"Montserrat\",\"Morocco\",\"Mozambique\",\"Myanmar\",\"Namibia\",\"Nauru\",\"Nepal\",\"Netherlands\",\"New Caledonia\",\"New Zealand\",\"Nicaragua\",\"Niger\",\"Nigeria\",\"Niue\",\"North Korea\",\"North Macedonia\",\"Northern Mariana Islands\",\"Norway\",\"Oman\",\"Pakistan\",\"Palau\",\"Palestine\",\"Panama\",\"Papua New Guinea\",\"Paraguay\",\"Peru\",\"Philippines\",\"Poland\",\"Portugal\",\"Puerto Rico\",\"Qatar\",\"Republic of the Congo\",\"Reunion\",\"Romania\",\"Russia\",\"Rwanda\",\"Saint Barthelemy\",\"Saint Kitts and Nevis\",\"Saint Lucia\",\"Saint Martin\",\"Saint Pierre and Miquelon\",\"Saint Vincent and the Grenadines\",\"Samoa\",\"San Marino\",\"Sao Tome and Principe\",\"Saudi Arabia\",\"Senegal\",\"Serbia\",\"Seychelles\",\"Sierra Leone\",\"Singapore\",\"Sint Maarten\",\"Slovakia\",\"Slovenia\",\"Solomon Islands\",\"Somalia\",\"South Africa\",\"South Korea\",\"South Sudan\",\"Spain\",\"Sri Lanka\",\"Sudan\",\"Suriname\",\"Sweden\",\"Switzerland\",\"Syria\",\"Taiwan\",\"Tajikistan\",\"Tanzania\",\"Thailand\",\"Timor-Leste\",\"Togo\",\"Tokelau\",\"Tonga\",\"Trinidad and Tobago\",\"Tunisia\",\"Turkey\",\"Turkmenistan\",\"Turks and Caicos Islands\",\"Tuvalu\",\"Uganda\",\"Ukraine\",\"United Arab Emirates\",\"United Kingdom\",\"United States\",\"United States Virgin Islands\",\"Uruguay\",\"Uzbekistan\",\"Vanuatu\",\"Vatican City\",\"Venezuela\",\"Vietnam\",\"Wallis and Futuna\",\"Western Sahara\",\"Yemen\",\"Zambia\",\"Zimbabwe\"],\"locations\":[\"AFG\",\"ALB\",\"DZA\",\"ASM\",\"AND\",\"AGO\",\"AIA\",\"ATG\",\"ARG\",\"ARM\",\"ABW\",\"AUS\",\"AUT\",\"AZE\",\"BHS\",\"BHR\",\"BGD\",\"BRB\",\"BLR\",\"BEL\",\"BLZ\",\"BEN\",\"BMU\",\"BTN\",\"BOL\",\"BIH\",\"BWA\",\"BRA\",\"VGB\",\"BRN\",\"BGR\",\"BFA\",\"BDI\",\"KHM\",\"CMR\",\"CAN\",\"CPV\",\"CYM\",\"CAF\",\"TCD\",\"CHL\",\"CHN\",\"COL\",\"COM\",\"COK\",\"CRI\",\"HRV\",\"CUB\",\"CUW\",\"CYP\",\"CZE\",\"DNK\",\"DJI\",\"DMA\",\"DOM\",\"COD\",\"ECU\",\"EGY\",\"SLV\",\"GNQ\",\"ERI\",\"EST\",\"SWZ\",\"ETH\",\"FLK\",\"FRO\",\"FJI\",\"FIN\",\"FRA\",\"GUF\",\"PYF\",\"GAB\",\"GMB\",\"GEO\",\"DEU\",\"GHA\",\"GIB\",\"GRC\",\"GRL\",\"GRD\",\"GLP\",\"GUM\",\"GTM\",\"GGY\",\"GIN\",\"GNB\",\"GUY\",\"HTI\",\"HND\",\"HKG\",\"HUN\",\"ISL\",\"IND\",\"IDN\",\"IRN\",\"IRQ\",\"IRL\",\"IMN\",\"ISR\",\"ITA\",\"CIV\",\"JAM\",\"JPN\",\"JEY\",\"JOR\",\"KAZ\",\"KEN\",\"KIR\",\"KWT\",\"KGZ\",\"LAO\",\"LVA\",\"LBN\",\"LSO\",\"LBR\",\"LBY\",\"LIE\",\"LTU\",\"LUX\",\"MAC\",\"MDG\",\"MWI\",\"MYS\",\"MDV\",\"MLI\",\"MLT\",\"MHL\",\"MTQ\",\"MRT\",\"MUS\",\"MYT\",\"MEX\",\"FSM\",\"MDA\",\"MCO\",\"MNG\",\"MNE\",\"MSR\",\"MAR\",\"MOZ\",\"MMR\",\"NAM\",\"NRU\",\"NPL\",\"NLD\",\"NCL\",\"NZL\",\"NIC\",\"NER\",\"NGA\",\"NIU\",\"PRK\",\"MKD\",\"NFK\",\"NOR\",\"OMN\",\"PAK\",\"PLW\",\"PSE\",\"PAN\",\"PNG\",\"PRY\",\"PER\",\"PHL\",\"POL\",\"PRT\",\"PRI\",\"QAT\",\"COG\",\"REU\",\"ROU\",\"RUS\",\"RWA\",\"BLM\",\"KNA\",\"LCA\",\"MAF\",\"SPM\",\"VCT\",\"WSM\",\"SMR\",\"STP\",\"SAU\",\"SEN\",\"SRB\",\"SYC\",\"SLE\",\"SGP\",\"SXM\",\"SVK\",\"SVN\",\"SLB\",\"SOM\",\"ZAF\",\"KOR\",\"SSD\",\"ESP\",\"LKA\",\"SDN\",\"SUR\",\"SWE\",\"CHE\",\"SYR\",\"TWN\",\"TJK\",\"TZA\",\"THA\",\"TLS\",\"TGO\",\"TKL\",\"TON\",\"TTO\",\"TUN\",\"TUR\",\"TKM\",\"TCA\",\"TUV\",\"UGA\",\"UKR\",\"ARE\",\"GBR\",\"USA\",\"VIR\",\"URY\",\"UZB\",\"VUT\",\"VAT\",\"VEN\",\"VNM\",\"WLF\",\"ESH\",\"YEM\",\"ZMB\",\"ZWE\"],\"name\":\"\",\"z\":[41128771,2842321,44903225,44273,79824,35588987,15857,93763,45510318,2780469,106445,26177413,8939617,10358074,409984,1472233,171186372,281635,9534954,11655930,405272,13352864,64184,782455,12224110,3233526,2630296,215313498,31305,449002,6781953,22673762,12889576,16767842,27914536,38454327,593149,68706,5579144,17723315,19603733,1425887337,51874024,836774,17011,5180829,4030358,11212191,191163,1251488,10493986,5882261,1120849,72737,11228821,99010212,18001000,110990103,6336392,1674908,3684032,1326062,1201670,123379924,3780,53090,929766,5540745,64626628,304557,306279,2388992,2705992,3744385,83369843,33475870,32649,10384971,56466,125438,395752,171774,17843908,63301,13859341,2105566,808726,11584996,10432860,7488865,9967308,372899,1417173173,275501339,88550570,44496122,5023109,84519,9038309,59037474,28160542,2827377,123951692,110778,11285869,19397998,54027487,131232,4268873,6630623,7529475,1850651,5489739,2305825,5302681,6812341,39327,2750055,647599,695168,29611714,20405317,33938221,523787,22593590,533286,41569,367507,4736139,1299469,326101,127504125,114164,3272996,36469,3398366,627082,4390,37457971,32969517,54179306,2567012,12668,30547580,17564014,289950,5185288,6948392,26207977,218541212,1934,26069416,2093599,49551,5434319,4576298,235824862,18055,5250072,4408581,10142619,6780744,34049588,115559009,39857145,10270865,3252407,2695122,5970424,974052,19659267,144713314,13776698,10967,47657,179857,31791,5862,103948,222382,33660,227380,36408820,17316449,7221365,107118,8605718,5975689,44175,5643453,2119844,724273,17597511,59893885,51815810,10913164,47558630,21832143,46874204,618040,10549347,8740472,22125249,23893394,9952787,65497748,71697030,1341296,8848699,1871,106858,1531044,12356117,85341241,6430770,45703,11312,47249585,39701739,9441129,67508936,338289857,99465,3422794,34627652,326740,510,28301696,98186856,11572,575986,33696614,20017675,16320537],\"type\":\"choropleth\"}],                        {\"template\":{\"data\":{\"histogram2dcontour\":[{\"type\":\"histogram2dcontour\",\"colorbar\":{\"outlinewidth\":0,\"ticks\":\"\"},\"colorscale\":[[0.0,\"#0d0887\"],[0.1111111111111111,\"#46039f\"],[0.2222222222222222,\"#7201a8\"],[0.3333333333333333,\"#9c179e\"],[0.4444444444444444,\"#bd3786\"],[0.5555555555555556,\"#d8576b\"],[0.6666666666666666,\"#ed7953\"],[0.7777777777777778,\"#fb9f3a\"],[0.8888888888888888,\"#fdca26\"],[1.0,\"#f0f921\"]]}],\"choropleth\":[{\"type\":\"choropleth\",\"colorbar\":{\"outlinewidth\":0,\"ticks\":\"\"}}],\"histogram2d\":[{\"type\":\"histogram2d\",\"colorbar\":{\"outlinewidth\":0,\"ticks\":\"\"},\"colorscale\":[[0.0,\"#0d0887\"],[0.1111111111111111,\"#46039f\"],[0.2222222222222222,\"#7201a8\"],[0.3333333333333333,\"#9c179e\"],[0.4444444444444444,\"#bd3786\"],[0.5555555555555556,\"#d8576b\"],[0.6666666666666666,\"#ed7953\"],[0.7777777777777778,\"#fb9f3a\"],[0.8888888888888888,\"#fdca26\"],[1.0,\"#f0f921\"]]}],\"heatmap\":[{\"type\":\"heatmap\",\"colorbar\":{\"outlinewidth\":0,\"ticks\":\"\"},\"colorscale\":[[0.0,\"#0d0887\"],[0.1111111111111111,\"#46039f\"],[0.2222222222222222,\"#7201a8\"],[0.3333333333333333,\"#9c179e\"],[0.4444444444444444,\"#bd3786\"],[0.5555555555555556,\"#d8576b\"],[0.6666666666666666,\"#ed7953\"],[0.7777777777777778,\"#fb9f3a\"],[0.8888888888888888,\"#fdca26\"],[1.0,\"#f0f921\"]]}],\"heatmapgl\":[{\"type\":\"heatmapgl\",\"colorbar\":{\"outlinewidth\":0,\"ticks\":\"\"},\"colorscale\":[[0.0,\"#0d0887\"],[0.1111111111111111,\"#46039f\"],[0.2222222222222222,\"#7201a8\"],[0.3333333333333333,\"#9c179e\"],[0.4444444444444444,\"#bd3786\"],[0.5555555555555556,\"#d8576b\"],[0.6666666666666666,\"#ed7953\"],[0.7777777777777778,\"#fb9f3a\"],[0.8888888888888888,\"#fdca26\"],[1.0,\"#f0f921\"]]}],\"contourcarpet\":[{\"type\":\"contourcarpet\",\"colorbar\":{\"outlinewidth\":0,\"ticks\":\"\"}}],\"contour\":[{\"type\":\"contour\",\"colorbar\":{\"outlinewidth\":0,\"ticks\":\"\"},\"colorscale\":[[0.0,\"#0d0887\"],[0.1111111111111111,\"#46039f\"],[0.2222222222222222,\"#7201a8\"],[0.3333333333333333,\"#9c179e\"],[0.4444444444444444,\"#bd3786\"],[0.5555555555555556,\"#d8576b\"],[0.6666666666666666,\"#ed7953\"],[0.7777777777777778,\"#fb9f3a\"],[0.8888888888888888,\"#fdca26\"],[1.0,\"#f0f921\"]]}],\"surface\":[{\"type\":\"surface\",\"colorbar\":{\"outlinewidth\":0,\"ticks\":\"\"},\"colorscale\":[[0.0,\"#0d0887\"],[0.1111111111111111,\"#46039f\"],[0.2222222222222222,\"#7201a8\"],[0.3333333333333333,\"#9c179e\"],[0.4444444444444444,\"#bd3786\"],[0.5555555555555556,\"#d8576b\"],[0.6666666666666666,\"#ed7953\"],[0.7777777777777778,\"#fb9f3a\"],[0.8888888888888888,\"#fdca26\"],[1.0,\"#f0f921\"]]}],\"mesh3d\":[{\"type\":\"mesh3d\",\"colorbar\":{\"outlinewidth\":0,\"ticks\":\"\"}}],\"scatter\":[{\"fillpattern\":{\"fillmode\":\"overlay\",\"size\":10,\"solidity\":0.2},\"type\":\"scatter\"}],\"parcoords\":[{\"type\":\"parcoords\",\"line\":{\"colorbar\":{\"outlinewidth\":0,\"ticks\":\"\"}}}],\"scatterpolargl\":[{\"type\":\"scatterpolargl\",\"marker\":{\"colorbar\":{\"outlinewidth\":0,\"ticks\":\"\"}}}],\"bar\":[{\"error_x\":{\"color\":\"#2a3f5f\"},\"error_y\":{\"color\":\"#2a3f5f\"},\"marker\":{\"line\":{\"color\":\"#E5ECF6\",\"width\":0.5},\"pattern\":{\"fillmode\":\"overlay\",\"size\":10,\"solidity\":0.2}},\"type\":\"bar\"}],\"scattergeo\":[{\"type\":\"scattergeo\",\"marker\":{\"colorbar\":{\"outlinewidth\":0,\"ticks\":\"\"}}}],\"scatterpolar\":[{\"type\":\"scatterpolar\",\"marker\":{\"colorbar\":{\"outlinewidth\":0,\"ticks\":\"\"}}}],\"histogram\":[{\"marker\":{\"pattern\":{\"fillmode\":\"overlay\",\"size\":10,\"solidity\":0.2}},\"type\":\"histogram\"}],\"scattergl\":[{\"type\":\"scattergl\",\"marker\":{\"colorbar\":{\"outlinewidth\":0,\"ticks\":\"\"}}}],\"scatter3d\":[{\"type\":\"scatter3d\",\"line\":{\"colorbar\":{\"outlinewidth\":0,\"ticks\":\"\"}},\"marker\":{\"colorbar\":{\"outlinewidth\":0,\"ticks\":\"\"}}}],\"scattermapbox\":[{\"type\":\"scattermapbox\",\"marker\":{\"colorbar\":{\"outlinewidth\":0,\"ticks\":\"\"}}}],\"scatterternary\":[{\"type\":\"scatterternary\",\"marker\":{\"colorbar\":{\"outlinewidth\":0,\"ticks\":\"\"}}}],\"scattercarpet\":[{\"type\":\"scattercarpet\",\"marker\":{\"colorbar\":{\"outlinewidth\":0,\"ticks\":\"\"}}}],\"carpet\":[{\"aaxis\":{\"endlinecolor\":\"#2a3f5f\",\"gridcolor\":\"white\",\"linecolor\":\"white\",\"minorgridcolor\":\"white\",\"startlinecolor\":\"#2a3f5f\"},\"baxis\":{\"endlinecolor\":\"#2a3f5f\",\"gridcolor\":\"white\",\"linecolor\":\"white\",\"minorgridcolor\":\"white\",\"startlinecolor\":\"#2a3f5f\"},\"type\":\"carpet\"}],\"table\":[{\"cells\":{\"fill\":{\"color\":\"#EBF0F8\"},\"line\":{\"color\":\"white\"}},\"header\":{\"fill\":{\"color\":\"#C8D4E3\"},\"line\":{\"color\":\"white\"}},\"type\":\"table\"}],\"barpolar\":[{\"marker\":{\"line\":{\"color\":\"#E5ECF6\",\"width\":0.5},\"pattern\":{\"fillmode\":\"overlay\",\"size\":10,\"solidity\":0.2}},\"type\":\"barpolar\"}],\"pie\":[{\"automargin\":true,\"type\":\"pie\"}]},\"layout\":{\"autotypenumbers\":\"strict\",\"colorway\":[\"#636efa\",\"#EF553B\",\"#00cc96\",\"#ab63fa\",\"#FFA15A\",\"#19d3f3\",\"#FF6692\",\"#B6E880\",\"#FF97FF\",\"#FECB52\"],\"font\":{\"color\":\"#2a3f5f\"},\"hovermode\":\"closest\",\"hoverlabel\":{\"align\":\"left\"},\"paper_bgcolor\":\"white\",\"plot_bgcolor\":\"#E5ECF6\",\"polar\":{\"bgcolor\":\"#E5ECF6\",\"angularaxis\":{\"gridcolor\":\"white\",\"linecolor\":\"white\",\"ticks\":\"\"},\"radialaxis\":{\"gridcolor\":\"white\",\"linecolor\":\"white\",\"ticks\":\"\"}},\"ternary\":{\"bgcolor\":\"#E5ECF6\",\"aaxis\":{\"gridcolor\":\"white\",\"linecolor\":\"white\",\"ticks\":\"\"},\"baxis\":{\"gridcolor\":\"white\",\"linecolor\":\"white\",\"ticks\":\"\"},\"caxis\":{\"gridcolor\":\"white\",\"linecolor\":\"white\",\"ticks\":\"\"}},\"coloraxis\":{\"colorbar\":{\"outlinewidth\":0,\"ticks\":\"\"}},\"colorscale\":{\"sequential\":[[0.0,\"#0d0887\"],[0.1111111111111111,\"#46039f\"],[0.2222222222222222,\"#7201a8\"],[0.3333333333333333,\"#9c179e\"],[0.4444444444444444,\"#bd3786\"],[0.5555555555555556,\"#d8576b\"],[0.6666666666666666,\"#ed7953\"],[0.7777777777777778,\"#fb9f3a\"],[0.8888888888888888,\"#fdca26\"],[1.0,\"#f0f921\"]],\"sequentialminus\":[[0.0,\"#0d0887\"],[0.1111111111111111,\"#46039f\"],[0.2222222222222222,\"#7201a8\"],[0.3333333333333333,\"#9c179e\"],[0.4444444444444444,\"#bd3786\"],[0.5555555555555556,\"#d8576b\"],[0.6666666666666666,\"#ed7953\"],[0.7777777777777778,\"#fb9f3a\"],[0.8888888888888888,\"#fdca26\"],[1.0,\"#f0f921\"]],\"diverging\":[[0,\"#8e0152\"],[0.1,\"#c51b7d\"],[0.2,\"#de77ae\"],[0.3,\"#f1b6da\"],[0.4,\"#fde0ef\"],[0.5,\"#f7f7f7\"],[0.6,\"#e6f5d0\"],[0.7,\"#b8e186\"],[0.8,\"#7fbc41\"],[0.9,\"#4d9221\"],[1,\"#276419\"]]},\"xaxis\":{\"gridcolor\":\"white\",\"linecolor\":\"white\",\"ticks\":\"\",\"title\":{\"standoff\":15},\"zerolinecolor\":\"white\",\"automargin\":true,\"zerolinewidth\":2},\"yaxis\":{\"gridcolor\":\"white\",\"linecolor\":\"white\",\"ticks\":\"\",\"title\":{\"standoff\":15},\"zerolinecolor\":\"white\",\"automargin\":true,\"zerolinewidth\":2},\"scene\":{\"xaxis\":{\"backgroundcolor\":\"#E5ECF6\",\"gridcolor\":\"white\",\"linecolor\":\"white\",\"showbackground\":true,\"ticks\":\"\",\"zerolinecolor\":\"white\",\"gridwidth\":2},\"yaxis\":{\"backgroundcolor\":\"#E5ECF6\",\"gridcolor\":\"white\",\"linecolor\":\"white\",\"showbackground\":true,\"ticks\":\"\",\"zerolinecolor\":\"white\",\"gridwidth\":2},\"zaxis\":{\"backgroundcolor\":\"#E5ECF6\",\"gridcolor\":\"white\",\"linecolor\":\"white\",\"showbackground\":true,\"ticks\":\"\",\"zerolinecolor\":\"white\",\"gridwidth\":2}},\"shapedefaults\":{\"line\":{\"color\":\"#2a3f5f\"}},\"annotationdefaults\":{\"arrowcolor\":\"#2a3f5f\",\"arrowhead\":0,\"arrowwidth\":1},\"geo\":{\"bgcolor\":\"white\",\"landcolor\":\"#E5ECF6\",\"subunitcolor\":\"white\",\"showland\":true,\"showlakes\":true,\"lakecolor\":\"white\"},\"title\":{\"x\":0.05},\"mapbox\":{\"style\":\"light\"}}},\"geo\":{\"domain\":{\"x\":[0.0,1.0],\"y\":[0.0,1.0]},\"projection\":{\"type\":\"natural earth\"},\"center\":{}},\"coloraxis\":{\"colorbar\":{\"title\":{\"text\":\"2022 Population\"}},\"colorscale\":[[0.0,\"#0d0887\"],[0.1111111111111111,\"#46039f\"],[0.2222222222222222,\"#7201a8\"],[0.3333333333333333,\"#9c179e\"],[0.4444444444444444,\"#bd3786\"],[0.5555555555555556,\"#d8576b\"],[0.6666666666666666,\"#ed7953\"],[0.7777777777777778,\"#fb9f3a\"],[0.8888888888888888,\"#fdca26\"],[1.0,\"#f0f921\"]]},\"legend\":{\"tracegroupgap\":0},\"title\":{\"text\":\"choropleth Map showing World Population in 2022\"}},                        {\"responsive\": true}                    ).then(function(){\n",
       "                            \n",
       "var gd = document.getElementById('ddb7bfa2-06d8-40dd-adca-89399e0c535c');\n",
       "var x = new MutationObserver(function (mutations, observer) {{\n",
       "        var display = window.getComputedStyle(gd).display;\n",
       "        if (!display || display === 'none') {{\n",
       "            console.log([gd, 'removed!']);\n",
       "            Plotly.purge(gd);\n",
       "            observer.disconnect();\n",
       "        }}\n",
       "}});\n",
       "\n",
       "// Listen for the removal of the full notebook cells\n",
       "var notebookContainer = gd.closest('#notebook-container');\n",
       "if (notebookContainer) {{\n",
       "    x.observe(notebookContainer, {childList: true});\n",
       "}}\n",
       "\n",
       "// Listen for the clearing of the current output cell\n",
       "var outputEl = gd.closest('.output');\n",
       "if (outputEl) {{\n",
       "    x.observe(outputEl, {childList: true});\n",
       "}}\n",
       "\n",
       "                        })                };                });            </script>        </div>"
      ]
     },
     "metadata": {},
     "output_type": "display_data"
    }
   ],
   "source": [
    "data = world_pop[['CCA3', 'Country/Territory','2022 Population']]\n",
    "\n",
    "# Create a DataFrame\n",
    "world_pop_rc2022 = pd.DataFrame(data)\n",
    "\n",
    "# Create the choropleth plot\n",
    "fig = px.choropleth(world_pop_rc2022, locations=\"CCA3\",\n",
    "                    hover_name=\"Country/Territory\",\n",
    "                    hover_data=world_pop_rc2022.columns,\n",
    "                    color=\"2022 Population\",\n",
    "                    projection=\"natural earth\",\n",
    "                    title='choropleth Map showing World Population in 2022')\n",
    "                \n",
    "\n",
    "# Show the plot \n",
    "fig.show()"
   ]
  },
  {
   "cell_type": "markdown",
   "metadata": {},
   "source": [
    "### A Choropleth Map is a map composed of colored polygons. It is used to represent spatial variations of a quantity. This page documents how to build outline choropleth maps, but we can also build choropleth tile maps using our Mapbox trace types.\n",
    "By seeing the map we can analysis the population in 2022.\n",
    "In the map china and india is having the highest population about 1.4 billion. \n"
   ]
  },
  {
   "cell_type": "code",
   "execution_count": null,
   "metadata": {},
   "outputs": [],
   "source": []
  },
  {
   "cell_type": "code",
   "execution_count": 57,
   "metadata": {
    "scrolled": true
   },
   "outputs": [],
   "source": [
    "top_15_ranks.rename(columns={\n",
    "    \"Density (per km²)\": \"Density\",\n",
    "    \"Area (km²)\": \"Area\",\n",
    "    \"CCA3\": \"Country Code\",\n",
    "    \"World Population Percentage\" : \"World percentage\"\n",
    "}, inplace=True)"
   ]
  },
  {
   "cell_type": "code",
   "execution_count": 58,
   "metadata": {},
   "outputs": [
    {
     "data": {
      "image/png": "[encoded data removed]",
      "text/plain": [
       "<Figure size 1296x432 with 1 Axes>"
      ]
     },
     "metadata": {
      "needs_background": "light"
     },
     "output_type": "display_data"
    }
   ],
   "source": [
    "sns.barplot(x = 'Area' , y = 'Country Code' , data=top_15_ranks);"
   ]
  },
  {
   "cell_type": "code",
   "execution_count": 59,
   "metadata": {},
   "outputs": [
    {
     "data": {
      "image/png": "[encoded data removed]",
      "text/plain": [
       "<Figure size 1296x432 with 1 Axes>"
      ]
     },
     "metadata": {
      "needs_background": "light"
     },
     "output_type": "display_data"
    }
   ],
   "source": [
    "sns.barplot(x = 'Density' , y = 'Country Code' , data=top_15_ranks);"
   ]
  },
  {
   "cell_type": "markdown",
   "metadata": {},
   "source": [
    "## The above two graph is showing the density verses area graph .\n",
    "1. In that graph we can analysis that Russia is having the largest in area by its density is smallest among all of the countries.\n",
    "\n",
    "2. And Bangladesh is having the lowest according to area but its density is highest among all of the countries.\n",
    "\n",
    "## Reason : - \n",
    "Russia is the largest country in the world in terms of land area, and it spans over 17 million square kilometers. However, Russia has a relatively small population of around 144 million people, which is less than half the population of the United States and less than a fifth of the population of China.One of the main reasons for this is that much of Russia is made up of sparsely populated wilderness and inhospitable terrain, such as the Siberian tundra and the Russian Far East. Additionally, Russia's population has been impacted by both historical and more recent factors, such as war, revolution, and economic struggles, which have led to a decline in birth rates and an aging population.\n",
    "\n",
    "\n",
    "\n",
    "the Bangladesh country only has the 92nd largest land area which means population density is high. With a high birth rate and a low death rate, as shown in the graph below, the population growth rate is around 1.04%. The result of this is over-population because Bangladesh has more people than its resources can support."
   ]
  },
  {
   "cell_type": "code",
   "execution_count": 60,
   "metadata": {},
   "outputs": [
    {
     "data": {
      "image/png": "[encoded data removed]",
      "text/plain": [
       "<Figure size 1152x576 with 1 Axes>"
      ]
     },
     "metadata": {
      "needs_background": "light"
     },
     "output_type": "display_data"
    }
   ],
   "source": [
    "fig, ax = plt.subplots(figsize=(16, 8))\n",
    "plt.plot(top_15_ranks['Country Code'], top_15_ranks['2022 Population'], label='2022', marker='o' , color = 'r')\n",
    "plt.plot(top_15_ranks['Country Code'], top_15_ranks['2000 Population'], label='2000', marker='d')\n",
    "\n",
    "plt.xlabel('Country')\n",
    "plt.ylabel('Population')\n",
    "plt.title('2000 VS 2022')\n",
    "plt.legend()\n",
    "plt.grid(True)\n",
    "plt.show()"
   ]
  },
  {
   "cell_type": "markdown",
   "metadata": {},
   "source": [
    "### This graph show the growth rate of the country in the year 2000 and 2022 \n"
   ]
  },
  {
   "cell_type": "code",
   "execution_count": 61,
   "metadata": {},
   "outputs": [
    {
     "data": {
      "image/png": "[encoded data removed]",
      "text/plain": [
       "<Figure size 720x432 with 1 Axes>"
      ]
     },
     "metadata": {
      "needs_background": "light"
     },
     "output_type": "display_data"
    }
   ],
   "source": [
    "plt.figure(figsize=(10, 6))\n",
    "sns.histplot(top_15_ranks['World percentage'], bins=10, kde=True, color='darkblue')\n",
    "\n",
    "# Add labels and title\n",
    "plt.xlabel('World percentage')\n",
    "plt.ylabel('Frequency')\n",
    "plt.title('Histogram of World Population Percentage')\n",
    "\n",
    "# Show the plot\n",
    "plt.show()"
   ]
  },
  {
   "cell_type": "markdown",
   "metadata": {},
   "source": [
    "Let us save and upload our work to Jovian before continuing"
   ]
  },
  {
   "cell_type": "code",
   "execution_count": 62,
   "metadata": {},
   "outputs": [
    {
     "data": {
      "image/png": "[encoded data removed]",
      "text/plain": [
       "<Figure size 864x432 with 1 Axes>"
      ]
     },
     "metadata": {
      "needs_background": "light"
     },
     "output_type": "display_data"
    }
   ],
   "source": [
    "# Set the figure size\n",
    "plt.figure(figsize=(12, 6))\n",
    "plt.xlabel('1980 Population')\n",
    "plt.ylabel('1990 Population')\n",
    "plt.title('1980 Population Vs 1990 Population')\n",
    "\n",
    "sns.barplot(x='1980 Population', y='1990 Population', data=top_15_ranks)\n",
    "\n",
    "# Rotate the x-axis labels for better visibility\n",
    "plt.xticks(rotation=60)\n",
    "\n",
    "# Show the plot\n",
    "plt.show()"
   ]
  },
  {
   "cell_type": "code",
   "execution_count": 63,
   "metadata": {},
   "outputs": [
    {
     "data": {
      "text/html": [
       "<div>\n",
       "<style scoped>\n",
       "    .dataframe tbody tr th:only-of-type {\n",
       "        vertical-align: middle;\n",
       "    }\n",
       "\n",
       "    .dataframe tbody tr th {\n",
       "        vertical-align: top;\n",
       "    }\n",
       "\n",
       "    .dataframe thead th {\n",
       "        text-align: right;\n",
       "    }\n",
       "</style>\n",
       "<table border=\"1\" class=\"dataframe\">\n",
       "  <thead>\n",
       "    <tr style=\"text-align: right;\">\n",
       "      <th></th>\n",
       "      <th>Rank</th>\n",
       "      <th>CCA3</th>\n",
       "      <th>Country/Territory</th>\n",
       "      <th>Capital</th>\n",
       "      <th>Continent</th>\n",
       "      <th>2022 Population</th>\n",
       "      <th>2020 Population</th>\n",
       "      <th>2015 Population</th>\n",
       "      <th>2010 Population</th>\n",
       "      <th>2000 Population</th>\n",
       "      <th>1990 Population</th>\n",
       "      <th>1980 Population</th>\n",
       "      <th>1970 Population</th>\n",
       "      <th>Area (km²)</th>\n",
       "      <th>Density (per km²)</th>\n",
       "      <th>Growth Rate</th>\n",
       "      <th>World Population Percentage</th>\n",
       "    </tr>\n",
       "  </thead>\n",
       "  <tbody>\n",
       "    <tr>\n",
       "      <th>0</th>\n",
       "      <td>1</td>\n",
       "      <td>CHN</td>\n",
       "      <td>China</td>\n",
       "      <td>Beijing</td>\n",
       "      <td>Asia</td>\n",
       "      <td>1425887337</td>\n",
       "      <td>1424929781</td>\n",
       "      <td>1393715448</td>\n",
       "      <td>1348191368</td>\n",
       "      <td>1264099069</td>\n",
       "      <td>1153704252</td>\n",
       "      <td>982372466</td>\n",
       "      <td>822534450</td>\n",
       "      <td>9706961</td>\n",
       "      <td>146.8933</td>\n",
       "      <td>1.0000</td>\n",
       "      <td>17.88</td>\n",
       "    </tr>\n",
       "    <tr>\n",
       "      <th>1</th>\n",
       "      <td>2</td>\n",
       "      <td>IND</td>\n",
       "      <td>India</td>\n",
       "      <td>New Delhi</td>\n",
       "      <td>Asia</td>\n",
       "      <td>1417173173</td>\n",
       "      <td>1396387127</td>\n",
       "      <td>1322866505</td>\n",
       "      <td>1240613620</td>\n",
       "      <td>1059633675</td>\n",
       "      <td>870452165</td>\n",
       "      <td>696828385</td>\n",
       "      <td>557501301</td>\n",
       "      <td>3287590</td>\n",
       "      <td>431.0675</td>\n",
       "      <td>1.0068</td>\n",
       "      <td>17.77</td>\n",
       "    </tr>\n",
       "    <tr>\n",
       "      <th>2</th>\n",
       "      <td>4</td>\n",
       "      <td>IDN</td>\n",
       "      <td>Indonesia</td>\n",
       "      <td>Jakarta</td>\n",
       "      <td>Asia</td>\n",
       "      <td>275501339</td>\n",
       "      <td>271857970</td>\n",
       "      <td>259091970</td>\n",
       "      <td>244016173</td>\n",
       "      <td>214072421</td>\n",
       "      <td>182159874</td>\n",
       "      <td>148177096</td>\n",
       "      <td>115228394</td>\n",
       "      <td>1904569</td>\n",
       "      <td>144.6529</td>\n",
       "      <td>1.0064</td>\n",
       "      <td>3.45</td>\n",
       "    </tr>\n",
       "    <tr>\n",
       "      <th>3</th>\n",
       "      <td>5</td>\n",
       "      <td>PAK</td>\n",
       "      <td>Pakistan</td>\n",
       "      <td>Islamabad</td>\n",
       "      <td>Asia</td>\n",
       "      <td>235824862</td>\n",
       "      <td>227196741</td>\n",
       "      <td>210969298</td>\n",
       "      <td>194454498</td>\n",
       "      <td>154369924</td>\n",
       "      <td>115414069</td>\n",
       "      <td>80624057</td>\n",
       "      <td>59290872</td>\n",
       "      <td>881912</td>\n",
       "      <td>267.4018</td>\n",
       "      <td>1.0191</td>\n",
       "      <td>2.96</td>\n",
       "    </tr>\n",
       "    <tr>\n",
       "      <th>4</th>\n",
       "      <td>8</td>\n",
       "      <td>BGD</td>\n",
       "      <td>Bangladesh</td>\n",
       "      <td>Dhaka</td>\n",
       "      <td>Asia</td>\n",
       "      <td>171186372</td>\n",
       "      <td>167420951</td>\n",
       "      <td>157830000</td>\n",
       "      <td>148391139</td>\n",
       "      <td>129193327</td>\n",
       "      <td>107147651</td>\n",
       "      <td>83929765</td>\n",
       "      <td>67541860</td>\n",
       "      <td>147570</td>\n",
       "      <td>1160.0350</td>\n",
       "      <td>1.0108</td>\n",
       "      <td>2.15</td>\n",
       "    </tr>\n",
       "  </tbody>\n",
       "</table>\n",
       "</div>"
      ],
      "text/plain": [
       "   Rank CCA3 Country/Territory    Capital Continent  2022 Population  \\\n",
       "0     1  CHN             China    Beijing      Asia       1425887337   \n",
       "1     2  IND             India  New Delhi      Asia       1417173173   \n",
       "2     4  IDN         Indonesia    Jakarta      Asia        275501339   \n",
       "3     5  PAK          Pakistan  Islamabad      Asia        235824862   \n",
       "4     8  BGD        Bangladesh      Dhaka      Asia        171186372   \n",
       "\n",
       "   2020 Population  2015 Population  2010 Population  2000 Population  \\\n",
       "0       1424929781       1393715448       1348191368       1264099069   \n",
       "1       1396387127       1322866505       1240613620       1059633675   \n",
       "2        271857970        259091970        244016173        214072421   \n",
       "3        227196741        210969298        194454498        154369924   \n",
       "4        167420951        157830000        148391139        129193327   \n",
       "\n",
       "   1990 Population  1980 Population  1970 Population  Area (km²)  \\\n",
       "0       1153704252        982372466        822534450     9706961   \n",
       "1        870452165        696828385        557501301     3287590   \n",
       "2        182159874        148177096        115228394     1904569   \n",
       "3        115414069         80624057         59290872      881912   \n",
       "4        107147651         83929765         67541860      147570   \n",
       "\n",
       "   Density (per km²)  Growth Rate  World Population Percentage  \n",
       "0           146.8933       1.0000                        17.88  \n",
       "1           431.0675       1.0068                        17.77  \n",
       "2           144.6529       1.0064                         3.45  \n",
       "3           267.4018       1.0191                         2.96  \n",
       "4          1160.0350       1.0108                         2.15  "
      ]
     },
     "execution_count": 63,
     "metadata": {},
     "output_type": "execute_result"
    }
   ],
   "source": [
    "asian = world_pop.loc[world_pop[\"Continent\"]==\"Asia\"].sort_values(by=[\"2022 Population\"], \n",
    "ascending=False, ignore_index=True).head(5)\n",
    "asian"
   ]
  },
  {
   "cell_type": "code",
   "execution_count": 64,
   "metadata": {},
   "outputs": [
    {
     "data": {
      "image/png": "[encoded data removed]",
      "text/plain": [
       "<Figure size 1296x432 with 1 Axes>"
      ]
     },
     "metadata": {
      "needs_background": "light"
     },
     "output_type": "display_data"
    }
   ],
   "source": [
    "\n",
    "asian.plot.bar(x='Country/Territory', y = '2022 Population' ,title='5 Most Populated Counntries in Asia', color='skyblue', fontsize=12);\n"
   ]
  },
  {
   "cell_type": "markdown",
   "metadata": {},
   "source": [
    "## The graph shows the five largest populated state in the Asia.\n",
    "\n",
    "## 1. China:\n",
    "1. The current population of China is 1,425,649,756 as of Monday, July 17, 2023, based on Worldometer elaboration of the latest United Nations data 1.\n",
    "2. China 2023 population is estimated at 1,425,671,352 people at mid year.\n",
    "3. China population is equivalent to 17.72% of the total world population.\n",
    "4. China ranks number 2 in the list of countries (and dependencies) by population.\n",
    "5. The population density in China is 152 per Km2 (393 people per mi2).\n",
    "6. The total land area is 9,388,211 Km2 (3,624,807 sq. miles)\n",
    "\n",
    "## 2. India:\n",
    "1. The current population of India is 1,429,198,961 as of Monday, July 17, 2023, based on Worldometer elaboration of the latest United Nations data 1.\n",
    "2. India 2023 population is estimated at 1,428,627,663 people at mid year.\n",
    "3. India population is equivalent to 17.76% of the total world population.\n",
    "4. India ranks number 1 in the list of countries (and dependencies) by population.\n",
    "5. The population density in India is 481 per Km2 (1,244 people per mi2).\n",
    "6. The total land area is 2,973,190 Km2 (1,147,955 sq. miles)\n",
    "\n",
    "## Indonesia: \n",
    "1. The current population of Indonesia is 277,632,961 as of Monday, July 17, 2023, based on Worldometer elaboration of the latest United Nations data 1.\n",
    "2. Indonesia 2023 population is estimated at 277,534,122 people at mid year.\n",
    "3. Indonesia population is equivalent to 3.45% of the total world population.\n",
    "4. Indonesia ranks number 4 in the list of countries (and dependencies) by population.\n",
    "5. The population density in Indonesia is 153 per Km2 (397 people per mi2).\n",
    "6. The total land area is 1,811,570 Km2 (699,451 sq. miles)\n",
    "\n",
    "## Pakistan:\n",
    "1. The current population of Pakistan is 240,690,742 as of Monday, July 17, 2023, based on Worldometer elaboration of the latest United Nations data 1.\n",
    "2. Pakistan 2023 population is estimated at 240,485,658 people at mid year.\n",
    "3. Pakistan population is equivalent to 2.99% of the total world population.\n",
    "4. Pakistan ranks number 5 in the list of countries (and dependencies) by population.\n",
    "5. The population density in Pakistan is 312 per Km2 (808 people per mi2).\n",
    "6. The total land area is 770,880 Km2 (297,638 sq. miles)\n",
    "\n",
    "## Bangladesh:\n",
    "The current population of Bangladesh is 173,030,512 as of Monday, July 17, 2023, based on Worldometer elaboration of the latest United Nations data 1.\n",
    "Bangladesh 2023 population is estimated at 172,954,319 people at mid year.\n",
    "Bangladesh population is equivalent to 2.15% of the total world population.\n",
    "Bangladesh ranks number 8 in the list of countries (and dependencies) by population.\n",
    "The population density in Bangladesh is 1329 per Km2 (3,441 people per mi2).\n",
    "The total land area is 130,170 Km2 (50,259 sq. miles)"
   ]
  },
  {
   "cell_type": "code",
   "execution_count": 65,
   "metadata": {},
   "outputs": [
    {
     "data": {
      "text/html": [
       "<div>\n",
       "<style scoped>\n",
       "    .dataframe tbody tr th:only-of-type {\n",
       "        vertical-align: middle;\n",
       "    }\n",
       "\n",
       "    .dataframe tbody tr th {\n",
       "        vertical-align: top;\n",
       "    }\n",
       "\n",
       "    .dataframe thead th {\n",
       "        text-align: right;\n",
       "    }\n",
       "</style>\n",
       "<table border=\"1\" class=\"dataframe\">\n",
       "  <thead>\n",
       "    <tr style=\"text-align: right;\">\n",
       "      <th></th>\n",
       "      <th>Rank</th>\n",
       "      <th>CCA3</th>\n",
       "      <th>Country/Territory</th>\n",
       "      <th>Capital</th>\n",
       "      <th>Continent</th>\n",
       "      <th>2022 Population</th>\n",
       "      <th>2020 Population</th>\n",
       "      <th>2015 Population</th>\n",
       "      <th>2010 Population</th>\n",
       "      <th>2000 Population</th>\n",
       "      <th>1990 Population</th>\n",
       "      <th>1980 Population</th>\n",
       "      <th>1970 Population</th>\n",
       "      <th>Area (km²)</th>\n",
       "      <th>Density (per km²)</th>\n",
       "      <th>Growth Rate</th>\n",
       "      <th>World Population Percentage</th>\n",
       "    </tr>\n",
       "  </thead>\n",
       "  <tbody>\n",
       "    <tr>\n",
       "      <th>0</th>\n",
       "      <td>9</td>\n",
       "      <td>RUS</td>\n",
       "      <td>Russia</td>\n",
       "      <td>Moscow</td>\n",
       "      <td>Europe</td>\n",
       "      <td>144713314</td>\n",
       "      <td>145617329</td>\n",
       "      <td>144668389</td>\n",
       "      <td>143242599</td>\n",
       "      <td>146844839</td>\n",
       "      <td>148005704</td>\n",
       "      <td>138257420</td>\n",
       "      <td>130093010</td>\n",
       "      <td>17098242</td>\n",
       "      <td>8.4636</td>\n",
       "      <td>0.9973</td>\n",
       "      <td>1.81</td>\n",
       "    </tr>\n",
       "    <tr>\n",
       "      <th>1</th>\n",
       "      <td>19</td>\n",
       "      <td>DEU</td>\n",
       "      <td>Germany</td>\n",
       "      <td>Berlin</td>\n",
       "      <td>Europe</td>\n",
       "      <td>83369843</td>\n",
       "      <td>83328988</td>\n",
       "      <td>82073226</td>\n",
       "      <td>81325090</td>\n",
       "      <td>81551677</td>\n",
       "      <td>79370196</td>\n",
       "      <td>77786703</td>\n",
       "      <td>78294583</td>\n",
       "      <td>357114</td>\n",
       "      <td>233.4544</td>\n",
       "      <td>0.9995</td>\n",
       "      <td>1.05</td>\n",
       "    </tr>\n",
       "    <tr>\n",
       "      <th>2</th>\n",
       "      <td>21</td>\n",
       "      <td>GBR</td>\n",
       "      <td>United Kingdom</td>\n",
       "      <td>London</td>\n",
       "      <td>Europe</td>\n",
       "      <td>67508936</td>\n",
       "      <td>67059474</td>\n",
       "      <td>65224364</td>\n",
       "      <td>62760039</td>\n",
       "      <td>58850043</td>\n",
       "      <td>57210442</td>\n",
       "      <td>56326328</td>\n",
       "      <td>55650166</td>\n",
       "      <td>242900</td>\n",
       "      <td>277.9289</td>\n",
       "      <td>1.0034</td>\n",
       "      <td>0.85</td>\n",
       "    </tr>\n",
       "    <tr>\n",
       "      <th>3</th>\n",
       "      <td>23</td>\n",
       "      <td>FRA</td>\n",
       "      <td>France</td>\n",
       "      <td>Paris</td>\n",
       "      <td>Europe</td>\n",
       "      <td>64626628</td>\n",
       "      <td>64480053</td>\n",
       "      <td>63809769</td>\n",
       "      <td>62444567</td>\n",
       "      <td>58665453</td>\n",
       "      <td>56412897</td>\n",
       "      <td>53713830</td>\n",
       "      <td>50523586</td>\n",
       "      <td>551695</td>\n",
       "      <td>117.1419</td>\n",
       "      <td>1.0015</td>\n",
       "      <td>0.81</td>\n",
       "    </tr>\n",
       "    <tr>\n",
       "      <th>4</th>\n",
       "      <td>25</td>\n",
       "      <td>ITA</td>\n",
       "      <td>Italy</td>\n",
       "      <td>Rome</td>\n",
       "      <td>Europe</td>\n",
       "      <td>59037474</td>\n",
       "      <td>59500579</td>\n",
       "      <td>60232906</td>\n",
       "      <td>59822450</td>\n",
       "      <td>56966397</td>\n",
       "      <td>56756561</td>\n",
       "      <td>56329482</td>\n",
       "      <td>53324036</td>\n",
       "      <td>301336</td>\n",
       "      <td>195.9191</td>\n",
       "      <td>0.9966</td>\n",
       "      <td>0.74</td>\n",
       "    </tr>\n",
       "  </tbody>\n",
       "</table>\n",
       "</div>"
      ],
      "text/plain": [
       "   Rank CCA3 Country/Territory Capital Continent  2022 Population  \\\n",
       "0     9  RUS            Russia  Moscow    Europe        144713314   \n",
       "1    19  DEU           Germany  Berlin    Europe         83369843   \n",
       "2    21  GBR    United Kingdom  London    Europe         67508936   \n",
       "3    23  FRA            France   Paris    Europe         64626628   \n",
       "4    25  ITA             Italy    Rome    Europe         59037474   \n",
       "\n",
       "   2020 Population  2015 Population  2010 Population  2000 Population  \\\n",
       "0        145617329        144668389        143242599        146844839   \n",
       "1         83328988         82073226         81325090         81551677   \n",
       "2         67059474         65224364         62760039         58850043   \n",
       "3         64480053         63809769         62444567         58665453   \n",
       "4         59500579         60232906         59822450         56966397   \n",
       "\n",
       "   1990 Population  1980 Population  1970 Population  Area (km²)  \\\n",
       "0        148005704        138257420        130093010    17098242   \n",
       "1         79370196         77786703         78294583      357114   \n",
       "2         57210442         56326328         55650166      242900   \n",
       "3         56412897         53713830         50523586      551695   \n",
       "4         56756561         56329482         53324036      301336   \n",
       "\n",
       "   Density (per km²)  Growth Rate  World Population Percentage  \n",
       "0             8.4636       0.9973                         1.81  \n",
       "1           233.4544       0.9995                         1.05  \n",
       "2           277.9289       1.0034                         0.85  \n",
       "3           117.1419       1.0015                         0.81  \n",
       "4           195.9191       0.9966                         0.74  "
      ]
     },
     "execution_count": 65,
     "metadata": {},
     "output_type": "execute_result"
    }
   ],
   "source": [
    "European= world_pop.loc[world_pop[\"Continent\"]==\"Europe\"].sort_values(by=[\"2022 Population\"], ascending=False, ignore_index=True).head(5)\n",
    "European"
   ]
  },
  {
   "cell_type": "code",
   "execution_count": 66,
   "metadata": {},
   "outputs": [
    {
     "data": {
      "image/png": "[encoded data removed]",
      "text/plain": [
       "<Figure size 1296x432 with 1 Axes>"
      ]
     },
     "metadata": {
      "needs_background": "light"
     },
     "output_type": "display_data"
    }
   ],
   "source": [
    "European.plot.bar(x=\"Country/Territory\", y=\"2022 Population\", title=\"5 MOST Populated Countries in European\", color = 'orange', fontsize=12);"
   ]
  },
  {
   "cell_type": "markdown",
   "metadata": {},
   "source": [
    "## The graph shows the five largest populated state in the Europe.\n",
    "## 1. Russia : =\n",
    "1. The current population of the Russian Federation is 144,422,963 as of Monday, July 17, 2023, based on Worldometer elaboration of the latest United Nations data 1.\n",
    "2. Russia 2023 population is estimated at 144,444,359 people at mid year.\n",
    "3. Russia population is equivalent to 1.8% of the total world population.\n",
    "4. Russia ranks number 9 in the list of countries (and dependencies) by population.\n",
    "5. The population density in Russia is 9 per Km2 (23 people per mi2).\n",
    "6. The total land area is 16,376,870 Km2 (6,323,142 sq. miles)\n",
    "\n",
    "## 2.Germany:=\n",
    "1. Indians make up around 0.2% of the German population and approx population of Indians in Germany as of 2023 is 2 Lakhs.\n",
    "2. Persons of Indian Origin in Germany are approx  42.5 thousand. According to the Federal Statistical Office, the number of nationals from India is the second largest in Germany from either South, South East, East, or Central Asia, only below the number of nationals from Afghanistan.\n",
    "\n",
    "## 3.United Kingdom: =\n",
    "1. The current population of the United States of America is 340,076,038 as of Monday, July 17, 2023, based on Worldometer elaboration of the latest United Nations data 1.\n",
    "2. The United States 2023 population is estimated at 339,996,563 people at mid year.\n",
    "3. The United States population is equivalent to 4.23% of the total world population.\n",
    "4. The U.S.A. ranks number 3 in the list of countries (and dependencies) by population.\n",
    "5. The population density in the United States is 37 per Km2 (96 people per mi2).\n",
    "6. The total land area is 9,147,420 Km2 (3,531,837 sq. miles)\n",
    "\n",
    "## 4.France:=\n",
    "1. The current population of France in 2023 is 64,756,584, a 0.2% increase from 2022.\n",
    "2. The population of France in 2022 was 64,626,628, a 0.15% increase from 2021.\n",
    "3. The population of France in 2021 was 64,531,444, a 0.08% increase from 2020.\n",
    "4. The population of France in 2020 was 64,480,053, a 0.12% increase from 2019.\n",
    "\n",
    "## 5.Italy:= \n",
    "\n",
    "1. The current population of Italy in 2023 is 58,870,762, a 0.28% decline from 2022.\n",
    "2. The population of Italy in 2022 was 59,037,474, a 0.34% decline from 2021.\n",
    "3. The population of Italy in 2021 was 59,240,329, a 0.44% decline from 2020.\n",
    "4. The population of Italy in 2020 was 59,500,579, a 0.38% decline from 2019."
   ]
  },
  {
   "cell_type": "code",
   "execution_count": 67,
   "metadata": {},
   "outputs": [
    {
     "data": {
      "image/png": "[encoded data removed]",
      "text/plain": [
       "<Figure size 576x432 with 1 Axes>"
      ]
     },
     "metadata": {
      "needs_background": "light"
     },
     "output_type": "display_data"
    }
   ],
   "source": [
    "# Set the figure size\n",
    "plt.figure(figsize=(8, 6))\n",
    "\n",
    "# Create the bar chart\n",
    "sns.barplot(x=\"Continent\", y=\"2022 Population\", data=top_15_ranks, color='skyblue')\n",
    "\n",
    "# Add labels and title\n",
    "plt.xlabel('Continent')\n",
    "plt.ylabel('2022 Population')\n",
    "plt.title('Most Populated Countries in Asia', fontsize=12)\n",
    "\n",
    "# Rotate the x-axis labels for better visibility\n",
    "plt.xticks(rotation=45)\n",
    "\n",
    "# Show the plot\n",
    "plt.show()"
   ]
  },
  {
   "cell_type": "markdown",
   "metadata": {},
   "source": [
    "### The graph show the largest country according to its population"
   ]
  },
  {
   "cell_type": "code",
   "execution_count": 68,
   "metadata": {},
   "outputs": [],
   "source": [
    "import jovian"
   ]
  },
  {
   "cell_type": "code",
   "execution_count": 69,
   "metadata": {},
   "outputs": [
    {
     "data": {
      "application/javascript": [
       "window.require && require([\"base/js/namespace\"],function(Jupyter){Jupyter.notebook.save_checkpoint()})"
      ],
      "text/plain": [
       "<IPython.core.display.Javascript object>"
      ]
     },
     "metadata": {},
     "output_type": "display_data"
    },
    {
     "name": "stdout",
     "output_type": "stream",
     "text": [
      "[jovian] Updating notebook \"eektafoudar/world-population\" on https://jovian.com\u001b[0m\n",
      "[jovian] Committed successfully! https://jovian.com/eektafoudar/world-population\u001b[0m\n"
     ]
    },
    {
     "data": {
      "text/plain": [
       "'https://jovian.com/eektafoudar/world-population'"
      ]
     },
     "execution_count": 69,
     "metadata": {},
     "output_type": "execute_result"
    }
   ],
   "source": [
    "jovian.commit()"
   ]
  },
  {
   "cell_type": "markdown",
   "metadata": {},
   "source": [
    "## Asking and Answering Questions\n",
    "\n",
    "As we already analysis most of the questions by graph so now we will ask some questions that is important for the point of analysis\n",
    "\n"
   ]
  },
  {
   "cell_type": "code",
   "execution_count": 70,
   "metadata": {},
   "outputs": [
    {
     "data": {
      "text/html": [
       "<div>\n",
       "<style scoped>\n",
       "    .dataframe tbody tr th:only-of-type {\n",
       "        vertical-align: middle;\n",
       "    }\n",
       "\n",
       "    .dataframe tbody tr th {\n",
       "        vertical-align: top;\n",
       "    }\n",
       "\n",
       "    .dataframe thead th {\n",
       "        text-align: right;\n",
       "    }\n",
       "</style>\n",
       "<table border=\"1\" class=\"dataframe\">\n",
       "  <thead>\n",
       "    <tr style=\"text-align: right;\">\n",
       "      <th></th>\n",
       "      <th>Rank</th>\n",
       "      <th>Country Code</th>\n",
       "      <th>Country/Territory</th>\n",
       "      <th>Capital</th>\n",
       "      <th>Continent</th>\n",
       "      <th>2022 Population</th>\n",
       "      <th>2020 Population</th>\n",
       "      <th>2015 Population</th>\n",
       "      <th>2010 Population</th>\n",
       "      <th>2000 Population</th>\n",
       "      <th>1990 Population</th>\n",
       "      <th>1980 Population</th>\n",
       "      <th>1970 Population</th>\n",
       "      <th>Area</th>\n",
       "      <th>Density</th>\n",
       "      <th>Growth Rate</th>\n",
       "      <th>World percentage</th>\n",
       "    </tr>\n",
       "  </thead>\n",
       "  <tbody>\n",
       "    <tr>\n",
       "      <th>41</th>\n",
       "      <td>1</td>\n",
       "      <td>CHN</td>\n",
       "      <td>China</td>\n",
       "      <td>Beijing</td>\n",
       "      <td>Asia</td>\n",
       "      <td>1425887337</td>\n",
       "      <td>1424929781</td>\n",
       "      <td>1393715448</td>\n",
       "      <td>1348191368</td>\n",
       "      <td>1264099069</td>\n",
       "      <td>1153704252</td>\n",
       "      <td>982372466</td>\n",
       "      <td>822534450</td>\n",
       "      <td>9706961</td>\n",
       "      <td>146.8933</td>\n",
       "      <td>1.0000</td>\n",
       "      <td>17.88</td>\n",
       "    </tr>\n",
       "    <tr>\n",
       "      <th>92</th>\n",
       "      <td>2</td>\n",
       "      <td>IND</td>\n",
       "      <td>India</td>\n",
       "      <td>New Delhi</td>\n",
       "      <td>Asia</td>\n",
       "      <td>1417173173</td>\n",
       "      <td>1396387127</td>\n",
       "      <td>1322866505</td>\n",
       "      <td>1240613620</td>\n",
       "      <td>1059633675</td>\n",
       "      <td>870452165</td>\n",
       "      <td>696828385</td>\n",
       "      <td>557501301</td>\n",
       "      <td>3287590</td>\n",
       "      <td>431.0675</td>\n",
       "      <td>1.0068</td>\n",
       "      <td>17.77</td>\n",
       "    </tr>\n",
       "    <tr>\n",
       "      <th>221</th>\n",
       "      <td>3</td>\n",
       "      <td>USA</td>\n",
       "      <td>United States</td>\n",
       "      <td>Washington, D.C.</td>\n",
       "      <td>North America</td>\n",
       "      <td>338289857</td>\n",
       "      <td>335942003</td>\n",
       "      <td>324607776</td>\n",
       "      <td>311182845</td>\n",
       "      <td>282398554</td>\n",
       "      <td>248083732</td>\n",
       "      <td>223140018</td>\n",
       "      <td>200328340</td>\n",
       "      <td>9372610</td>\n",
       "      <td>36.0935</td>\n",
       "      <td>1.0038</td>\n",
       "      <td>4.24</td>\n",
       "    </tr>\n",
       "    <tr>\n",
       "      <th>93</th>\n",
       "      <td>4</td>\n",
       "      <td>IDN</td>\n",
       "      <td>Indonesia</td>\n",
       "      <td>Jakarta</td>\n",
       "      <td>Asia</td>\n",
       "      <td>275501339</td>\n",
       "      <td>271857970</td>\n",
       "      <td>259091970</td>\n",
       "      <td>244016173</td>\n",
       "      <td>214072421</td>\n",
       "      <td>182159874</td>\n",
       "      <td>148177096</td>\n",
       "      <td>115228394</td>\n",
       "      <td>1904569</td>\n",
       "      <td>144.6529</td>\n",
       "      <td>1.0064</td>\n",
       "      <td>3.45</td>\n",
       "    </tr>\n",
       "    <tr>\n",
       "      <th>156</th>\n",
       "      <td>5</td>\n",
       "      <td>PAK</td>\n",
       "      <td>Pakistan</td>\n",
       "      <td>Islamabad</td>\n",
       "      <td>Asia</td>\n",
       "      <td>235824862</td>\n",
       "      <td>227196741</td>\n",
       "      <td>210969298</td>\n",
       "      <td>194454498</td>\n",
       "      <td>154369924</td>\n",
       "      <td>115414069</td>\n",
       "      <td>80624057</td>\n",
       "      <td>59290872</td>\n",
       "      <td>881912</td>\n",
       "      <td>267.4018</td>\n",
       "      <td>1.0191</td>\n",
       "      <td>2.96</td>\n",
       "    </tr>\n",
       "    <tr>\n",
       "      <th>149</th>\n",
       "      <td>6</td>\n",
       "      <td>NGA</td>\n",
       "      <td>Nigeria</td>\n",
       "      <td>Abuja</td>\n",
       "      <td>Africa</td>\n",
       "      <td>218541212</td>\n",
       "      <td>208327405</td>\n",
       "      <td>183995785</td>\n",
       "      <td>160952853</td>\n",
       "      <td>122851984</td>\n",
       "      <td>95214257</td>\n",
       "      <td>72951439</td>\n",
       "      <td>55569264</td>\n",
       "      <td>923768</td>\n",
       "      <td>236.5759</td>\n",
       "      <td>1.0241</td>\n",
       "      <td>2.74</td>\n",
       "    </tr>\n",
       "    <tr>\n",
       "      <th>27</th>\n",
       "      <td>7</td>\n",
       "      <td>BRA</td>\n",
       "      <td>Brazil</td>\n",
       "      <td>Brasilia</td>\n",
       "      <td>South America</td>\n",
       "      <td>215313498</td>\n",
       "      <td>213196304</td>\n",
       "      <td>205188205</td>\n",
       "      <td>196353492</td>\n",
       "      <td>175873720</td>\n",
       "      <td>150706446</td>\n",
       "      <td>122288383</td>\n",
       "      <td>96369875</td>\n",
       "      <td>8515767</td>\n",
       "      <td>25.2841</td>\n",
       "      <td>1.0046</td>\n",
       "      <td>2.70</td>\n",
       "    </tr>\n",
       "    <tr>\n",
       "      <th>16</th>\n",
       "      <td>8</td>\n",
       "      <td>BGD</td>\n",
       "      <td>Bangladesh</td>\n",
       "      <td>Dhaka</td>\n",
       "      <td>Asia</td>\n",
       "      <td>171186372</td>\n",
       "      <td>167420951</td>\n",
       "      <td>157830000</td>\n",
       "      <td>148391139</td>\n",
       "      <td>129193327</td>\n",
       "      <td>107147651</td>\n",
       "      <td>83929765</td>\n",
       "      <td>67541860</td>\n",
       "      <td>147570</td>\n",
       "      <td>1160.0350</td>\n",
       "      <td>1.0108</td>\n",
       "      <td>2.15</td>\n",
       "    </tr>\n",
       "    <tr>\n",
       "      <th>171</th>\n",
       "      <td>9</td>\n",
       "      <td>RUS</td>\n",
       "      <td>Russia</td>\n",
       "      <td>Moscow</td>\n",
       "      <td>Europe</td>\n",
       "      <td>144713314</td>\n",
       "      <td>145617329</td>\n",
       "      <td>144668389</td>\n",
       "      <td>143242599</td>\n",
       "      <td>146844839</td>\n",
       "      <td>148005704</td>\n",
       "      <td>138257420</td>\n",
       "      <td>130093010</td>\n",
       "      <td>17098242</td>\n",
       "      <td>8.4636</td>\n",
       "      <td>0.9973</td>\n",
       "      <td>1.81</td>\n",
       "    </tr>\n",
       "    <tr>\n",
       "      <th>131</th>\n",
       "      <td>10</td>\n",
       "      <td>MEX</td>\n",
       "      <td>Mexico</td>\n",
       "      <td>Mexico City</td>\n",
       "      <td>North America</td>\n",
       "      <td>127504125</td>\n",
       "      <td>125998302</td>\n",
       "      <td>120149897</td>\n",
       "      <td>112532401</td>\n",
       "      <td>97873442</td>\n",
       "      <td>81720428</td>\n",
       "      <td>67705186</td>\n",
       "      <td>50289306</td>\n",
       "      <td>1964375</td>\n",
       "      <td>64.9082</td>\n",
       "      <td>1.0063</td>\n",
       "      <td>1.60</td>\n",
       "    </tr>\n",
       "    <tr>\n",
       "      <th>102</th>\n",
       "      <td>11</td>\n",
       "      <td>JPN</td>\n",
       "      <td>Japan</td>\n",
       "      <td>Tokyo</td>\n",
       "      <td>Asia</td>\n",
       "      <td>123951692</td>\n",
       "      <td>125244761</td>\n",
       "      <td>127250933</td>\n",
       "      <td>128105431</td>\n",
       "      <td>126803861</td>\n",
       "      <td>123686321</td>\n",
       "      <td>117624196</td>\n",
       "      <td>105416839</td>\n",
       "      <td>377930</td>\n",
       "      <td>327.9753</td>\n",
       "      <td>0.9947</td>\n",
       "      <td>1.55</td>\n",
       "    </tr>\n",
       "    <tr>\n",
       "      <th>63</th>\n",
       "      <td>12</td>\n",
       "      <td>ETH</td>\n",
       "      <td>Ethiopia</td>\n",
       "      <td>Addis Ababa</td>\n",
       "      <td>Africa</td>\n",
       "      <td>123379924</td>\n",
       "      <td>117190911</td>\n",
       "      <td>102471895</td>\n",
       "      <td>89237791</td>\n",
       "      <td>67031867</td>\n",
       "      <td>47878073</td>\n",
       "      <td>34945469</td>\n",
       "      <td>28308246</td>\n",
       "      <td>1104300</td>\n",
       "      <td>111.7268</td>\n",
       "      <td>1.0257</td>\n",
       "      <td>1.55</td>\n",
       "    </tr>\n",
       "    <tr>\n",
       "      <th>163</th>\n",
       "      <td>13</td>\n",
       "      <td>PHL</td>\n",
       "      <td>Philippines</td>\n",
       "      <td>Manila</td>\n",
       "      <td>Asia</td>\n",
       "      <td>115559009</td>\n",
       "      <td>112190977</td>\n",
       "      <td>103031365</td>\n",
       "      <td>94636700</td>\n",
       "      <td>77958223</td>\n",
       "      <td>61558898</td>\n",
       "      <td>48419546</td>\n",
       "      <td>37435586</td>\n",
       "      <td>342353</td>\n",
       "      <td>337.5434</td>\n",
       "      <td>1.0147</td>\n",
       "      <td>1.45</td>\n",
       "    </tr>\n",
       "    <tr>\n",
       "      <th>57</th>\n",
       "      <td>14</td>\n",
       "      <td>EGY</td>\n",
       "      <td>Egypt</td>\n",
       "      <td>Cairo</td>\n",
       "      <td>Africa</td>\n",
       "      <td>110990103</td>\n",
       "      <td>107465134</td>\n",
       "      <td>97723799</td>\n",
       "      <td>87252413</td>\n",
       "      <td>71371371</td>\n",
       "      <td>57214630</td>\n",
       "      <td>43748556</td>\n",
       "      <td>34781986</td>\n",
       "      <td>1002450</td>\n",
       "      <td>110.7188</td>\n",
       "      <td>1.0158</td>\n",
       "      <td>1.39</td>\n",
       "    </tr>\n",
       "    <tr>\n",
       "      <th>55</th>\n",
       "      <td>15</td>\n",
       "      <td>COD</td>\n",
       "      <td>DR Congo</td>\n",
       "      <td>Kinshasa</td>\n",
       "      <td>Africa</td>\n",
       "      <td>99010212</td>\n",
       "      <td>92853164</td>\n",
       "      <td>78656904</td>\n",
       "      <td>66391257</td>\n",
       "      <td>48616317</td>\n",
       "      <td>35987541</td>\n",
       "      <td>26708686</td>\n",
       "      <td>20151733</td>\n",
       "      <td>2344858</td>\n",
       "      <td>42.2244</td>\n",
       "      <td>1.0325</td>\n",
       "      <td>1.24</td>\n",
       "    </tr>\n",
       "  </tbody>\n",
       "</table>\n",
       "</div>"
      ],
      "text/plain": [
       "     Rank Country Code Country/Territory           Capital      Continent  \\\n",
       "41      1          CHN             China           Beijing           Asia   \n",
       "92      2          IND             India         New Delhi           Asia   \n",
       "221     3          USA     United States  Washington, D.C.  North America   \n",
       "93      4          IDN         Indonesia           Jakarta           Asia   \n",
       "156     5          PAK          Pakistan         Islamabad           Asia   \n",
       "149     6          NGA           Nigeria             Abuja         Africa   \n",
       "27      7          BRA            Brazil          Brasilia  South America   \n",
       "16      8          BGD        Bangladesh             Dhaka           Asia   \n",
       "171     9          RUS            Russia            Moscow         Europe   \n",
       "131    10          MEX            Mexico       Mexico City  North America   \n",
       "102    11          JPN             Japan             Tokyo           Asia   \n",
       "63     12          ETH          Ethiopia       Addis Ababa         Africa   \n",
       "163    13          PHL       Philippines            Manila           Asia   \n",
       "57     14          EGY             Egypt             Cairo         Africa   \n",
       "55     15          COD          DR Congo          Kinshasa         Africa   \n",
       "\n",
       "     2022 Population  2020 Population  2015 Population  2010 Population  \\\n",
       "41        1425887337       1424929781       1393715448       1348191368   \n",
       "92        1417173173       1396387127       1322866505       1240613620   \n",
       "221        338289857        335942003        324607776        311182845   \n",
       "93         275501339        271857970        259091970        244016173   \n",
       "156        235824862        227196741        210969298        194454498   \n",
       "149        218541212        208327405        183995785        160952853   \n",
       "27         215313498        213196304        205188205        196353492   \n",
       "16         171186372        167420951        157830000        148391139   \n",
       "171        144713314        145617329        144668389        143242599   \n",
       "131        127504125        125998302        120149897        112532401   \n",
       "102        123951692        125244761        127250933        128105431   \n",
       "63         123379924        117190911        102471895         89237791   \n",
       "163        115559009        112190977        103031365         94636700   \n",
       "57         110990103        107465134         97723799         87252413   \n",
       "55          99010212         92853164         78656904         66391257   \n",
       "\n",
       "     2000 Population  1990 Population  1980 Population  1970 Population  \\\n",
       "41        1264099069       1153704252        982372466        822534450   \n",
       "92        1059633675        870452165        696828385        557501301   \n",
       "221        282398554        248083732        223140018        200328340   \n",
       "93         214072421        182159874        148177096        115228394   \n",
       "156        154369924        115414069         80624057         59290872   \n",
       "149        122851984         95214257         72951439         55569264   \n",
       "27         175873720        150706446        122288383         96369875   \n",
       "16         129193327        107147651         83929765         67541860   \n",
       "171        146844839        148005704        138257420        130093010   \n",
       "131         97873442         81720428         67705186         50289306   \n",
       "102        126803861        123686321        117624196        105416839   \n",
       "63          67031867         47878073         34945469         28308246   \n",
       "163         77958223         61558898         48419546         37435586   \n",
       "57          71371371         57214630         43748556         34781986   \n",
       "55          48616317         35987541         26708686         20151733   \n",
       "\n",
       "         Area    Density  Growth Rate  World percentage  \n",
       "41    9706961   146.8933       1.0000             17.88  \n",
       "92    3287590   431.0675       1.0068             17.77  \n",
       "221   9372610    36.0935       1.0038              4.24  \n",
       "93    1904569   144.6529       1.0064              3.45  \n",
       "156    881912   267.4018       1.0191              2.96  \n",
       "149    923768   236.5759       1.0241              2.74  \n",
       "27    8515767    25.2841       1.0046              2.70  \n",
       "16     147570  1160.0350       1.0108              2.15  \n",
       "171  17098242     8.4636       0.9973              1.81  \n",
       "131   1964375    64.9082       1.0063              1.60  \n",
       "102    377930   327.9753       0.9947              1.55  \n",
       "63    1104300   111.7268       1.0257              1.55  \n",
       "163    342353   337.5434       1.0147              1.45  \n",
       "57    1002450   110.7188       1.0158              1.39  \n",
       "55    2344858    42.2244       1.0325              1.24  "
      ]
     },
     "execution_count": 70,
     "metadata": {},
     "output_type": "execute_result"
    }
   ],
   "source": [
    "top_15_ranks"
   ]
  },
  {
   "cell_type": "markdown",
   "metadata": {},
   "source": [
    "### Q1:  What is the  average population of all year present in the dataset."
   ]
  },
  {
   "cell_type": "code",
   "execution_count": 101,
   "metadata": {},
   "outputs": [],
   "source": [
    "Average_pop = world_pop[['1970 Population','1980 Population' , '1990 Population','2000 Population','2010 Population','2015 Population','2020 Population','2022 Population']].mean().reset_index().rename(columns={0:'Mean'})"
   ]
  },
  {
   "cell_type": "code",
   "execution_count": 102,
   "metadata": {},
   "outputs": [
    {
     "data": {
      "text/html": [
       "<div>\n",
       "<style scoped>\n",
       "    .dataframe tbody tr th:only-of-type {\n",
       "        vertical-align: middle;\n",
       "    }\n",
       "\n",
       "    .dataframe tbody tr th {\n",
       "        vertical-align: top;\n",
       "    }\n",
       "\n",
       "    .dataframe thead th {\n",
       "        text-align: right;\n",
       "    }\n",
       "</style>\n",
       "<table border=\"1\" class=\"dataframe\">\n",
       "  <thead>\n",
       "    <tr style=\"text-align: right;\">\n",
       "      <th></th>\n",
       "      <th>index</th>\n",
       "      <th>Mean</th>\n",
       "    </tr>\n",
       "  </thead>\n",
       "  <tbody>\n",
       "    <tr>\n",
       "      <th>0</th>\n",
       "      <td>1970 Population</td>\n",
       "      <td>1.578691e+07</td>\n",
       "    </tr>\n",
       "    <tr>\n",
       "      <th>1</th>\n",
       "      <td>1980 Population</td>\n",
       "      <td>1.898462e+07</td>\n",
       "    </tr>\n",
       "    <tr>\n",
       "      <th>2</th>\n",
       "      <td>1990 Population</td>\n",
       "      <td>2.271022e+07</td>\n",
       "    </tr>\n",
       "    <tr>\n",
       "      <th>3</th>\n",
       "      <td>2000 Population</td>\n",
       "      <td>2.626947e+07</td>\n",
       "    </tr>\n",
       "    <tr>\n",
       "      <th>4</th>\n",
       "      <td>2010 Population</td>\n",
       "      <td>2.984524e+07</td>\n",
       "    </tr>\n",
       "    <tr>\n",
       "      <th>5</th>\n",
       "      <td>2015 Population</td>\n",
       "      <td>3.172996e+07</td>\n",
       "    </tr>\n",
       "    <tr>\n",
       "      <th>6</th>\n",
       "      <td>2020 Population</td>\n",
       "      <td>3.350107e+07</td>\n",
       "    </tr>\n",
       "    <tr>\n",
       "      <th>7</th>\n",
       "      <td>2022 Population</td>\n",
       "      <td>3.407441e+07</td>\n",
       "    </tr>\n",
       "  </tbody>\n",
       "</table>\n",
       "</div>"
      ],
      "text/plain": [
       "             index          Mean\n",
       "0  1970 Population  1.578691e+07\n",
       "1  1980 Population  1.898462e+07\n",
       "2  1990 Population  2.271022e+07\n",
       "3  2000 Population  2.626947e+07\n",
       "4  2010 Population  2.984524e+07\n",
       "5  2015 Population  3.172996e+07\n",
       "6  2020 Population  3.350107e+07\n",
       "7  2022 Population  3.407441e+07"
      ]
     },
     "execution_count": 102,
     "metadata": {},
     "output_type": "execute_result"
    }
   ],
   "source": [
    "Average_pop"
   ]
  },
  {
   "cell_type": "markdown",
   "metadata": {},
   "source": [
    "### Q2:  - What is the 5 most populated state in Africa in 2022?"
   ]
  },
  {
   "cell_type": "code",
   "execution_count": 72,
   "metadata": {},
   "outputs": [],
   "source": [
    "Africa = world_pop.loc[world_pop[\"Continent\"]==\"Africa\"].sort_values(by=[\"2022 Population\"], ascending=False, ignore_index=True).head(5)"
   ]
  },
  {
   "cell_type": "code",
   "execution_count": 73,
   "metadata": {},
   "outputs": [
    {
     "data": {
      "text/html": [
       "<div>\n",
       "<style scoped>\n",
       "    .dataframe tbody tr th:only-of-type {\n",
       "        vertical-align: middle;\n",
       "    }\n",
       "\n",
       "    .dataframe tbody tr th {\n",
       "        vertical-align: top;\n",
       "    }\n",
       "\n",
       "    .dataframe thead th {\n",
       "        text-align: right;\n",
       "    }\n",
       "</style>\n",
       "<table border=\"1\" class=\"dataframe\">\n",
       "  <thead>\n",
       "    <tr style=\"text-align: right;\">\n",
       "      <th></th>\n",
       "      <th>Rank</th>\n",
       "      <th>CCA3</th>\n",
       "      <th>Country/Territory</th>\n",
       "      <th>Capital</th>\n",
       "      <th>Continent</th>\n",
       "      <th>2022 Population</th>\n",
       "      <th>2020 Population</th>\n",
       "      <th>2015 Population</th>\n",
       "      <th>2010 Population</th>\n",
       "      <th>2000 Population</th>\n",
       "      <th>1990 Population</th>\n",
       "      <th>1980 Population</th>\n",
       "      <th>1970 Population</th>\n",
       "      <th>Area (km²)</th>\n",
       "      <th>Density (per km²)</th>\n",
       "      <th>Growth Rate</th>\n",
       "      <th>World Population Percentage</th>\n",
       "    </tr>\n",
       "  </thead>\n",
       "  <tbody>\n",
       "    <tr>\n",
       "      <th>0</th>\n",
       "      <td>6</td>\n",
       "      <td>NGA</td>\n",
       "      <td>Nigeria</td>\n",
       "      <td>Abuja</td>\n",
       "      <td>Africa</td>\n",
       "      <td>218541212</td>\n",
       "      <td>208327405</td>\n",
       "      <td>183995785</td>\n",
       "      <td>160952853</td>\n",
       "      <td>122851984</td>\n",
       "      <td>95214257</td>\n",
       "      <td>72951439</td>\n",
       "      <td>55569264</td>\n",
       "      <td>923768</td>\n",
       "      <td>236.5759</td>\n",
       "      <td>1.0241</td>\n",
       "      <td>2.74</td>\n",
       "    </tr>\n",
       "    <tr>\n",
       "      <th>1</th>\n",
       "      <td>12</td>\n",
       "      <td>ETH</td>\n",
       "      <td>Ethiopia</td>\n",
       "      <td>Addis Ababa</td>\n",
       "      <td>Africa</td>\n",
       "      <td>123379924</td>\n",
       "      <td>117190911</td>\n",
       "      <td>102471895</td>\n",
       "      <td>89237791</td>\n",
       "      <td>67031867</td>\n",
       "      <td>47878073</td>\n",
       "      <td>34945469</td>\n",
       "      <td>28308246</td>\n",
       "      <td>1104300</td>\n",
       "      <td>111.7268</td>\n",
       "      <td>1.0257</td>\n",
       "      <td>1.55</td>\n",
       "    </tr>\n",
       "    <tr>\n",
       "      <th>2</th>\n",
       "      <td>14</td>\n",
       "      <td>EGY</td>\n",
       "      <td>Egypt</td>\n",
       "      <td>Cairo</td>\n",
       "      <td>Africa</td>\n",
       "      <td>110990103</td>\n",
       "      <td>107465134</td>\n",
       "      <td>97723799</td>\n",
       "      <td>87252413</td>\n",
       "      <td>71371371</td>\n",
       "      <td>57214630</td>\n",
       "      <td>43748556</td>\n",
       "      <td>34781986</td>\n",
       "      <td>1002450</td>\n",
       "      <td>110.7188</td>\n",
       "      <td>1.0158</td>\n",
       "      <td>1.39</td>\n",
       "    </tr>\n",
       "    <tr>\n",
       "      <th>3</th>\n",
       "      <td>15</td>\n",
       "      <td>COD</td>\n",
       "      <td>DR Congo</td>\n",
       "      <td>Kinshasa</td>\n",
       "      <td>Africa</td>\n",
       "      <td>99010212</td>\n",
       "      <td>92853164</td>\n",
       "      <td>78656904</td>\n",
       "      <td>66391257</td>\n",
       "      <td>48616317</td>\n",
       "      <td>35987541</td>\n",
       "      <td>26708686</td>\n",
       "      <td>20151733</td>\n",
       "      <td>2344858</td>\n",
       "      <td>42.2244</td>\n",
       "      <td>1.0325</td>\n",
       "      <td>1.24</td>\n",
       "    </tr>\n",
       "    <tr>\n",
       "      <th>4</th>\n",
       "      <td>22</td>\n",
       "      <td>TZA</td>\n",
       "      <td>Tanzania</td>\n",
       "      <td>Dodoma</td>\n",
       "      <td>Africa</td>\n",
       "      <td>65497748</td>\n",
       "      <td>61704518</td>\n",
       "      <td>52542823</td>\n",
       "      <td>45110527</td>\n",
       "      <td>34463704</td>\n",
       "      <td>26206012</td>\n",
       "      <td>19297659</td>\n",
       "      <td>13618192</td>\n",
       "      <td>945087</td>\n",
       "      <td>69.3034</td>\n",
       "      <td>1.0300</td>\n",
       "      <td>0.82</td>\n",
       "    </tr>\n",
       "  </tbody>\n",
       "</table>\n",
       "</div>"
      ],
      "text/plain": [
       "   Rank CCA3 Country/Territory      Capital Continent  2022 Population  \\\n",
       "0     6  NGA           Nigeria        Abuja    Africa        218541212   \n",
       "1    12  ETH          Ethiopia  Addis Ababa    Africa        123379924   \n",
       "2    14  EGY             Egypt        Cairo    Africa        110990103   \n",
       "3    15  COD          DR Congo     Kinshasa    Africa         99010212   \n",
       "4    22  TZA          Tanzania       Dodoma    Africa         65497748   \n",
       "\n",
       "   2020 Population  2015 Population  2010 Population  2000 Population  \\\n",
       "0        208327405        183995785        160952853        122851984   \n",
       "1        117190911        102471895         89237791         67031867   \n",
       "2        107465134         97723799         87252413         71371371   \n",
       "3         92853164         78656904         66391257         48616317   \n",
       "4         61704518         52542823         45110527         34463704   \n",
       "\n",
       "   1990 Population  1980 Population  1970 Population  Area (km²)  \\\n",
       "0         95214257         72951439         55569264      923768   \n",
       "1         47878073         34945469         28308246     1104300   \n",
       "2         57214630         43748556         34781986     1002450   \n",
       "3         35987541         26708686         20151733     2344858   \n",
       "4         26206012         19297659         13618192      945087   \n",
       "\n",
       "   Density (per km²)  Growth Rate  World Population Percentage  \n",
       "0           236.5759       1.0241                         2.74  \n",
       "1           111.7268       1.0257                         1.55  \n",
       "2           110.7188       1.0158                         1.39  \n",
       "3            42.2244       1.0325                         1.24  \n",
       "4            69.3034       1.0300                         0.82  "
      ]
     },
     "execution_count": 73,
     "metadata": {},
     "output_type": "execute_result"
    }
   ],
   "source": [
    "Africa"
   ]
  },
  {
   "cell_type": "code",
   "execution_count": 74,
   "metadata": {},
   "outputs": [],
   "source": [
    "Africa_pop = Africa[['1970 Population' , '1980 Population' , '1990 Population' , '2000 Population', '2010 Population' , '2015 Population', '2020 Population' , '2022 Population']].sum().reset_index().rename(columns={0:'Count'})"
   ]
  },
  {
   "cell_type": "code",
   "execution_count": 75,
   "metadata": {},
   "outputs": [
    {
     "data": {
      "text/html": [
       "<div>\n",
       "<style scoped>\n",
       "    .dataframe tbody tr th:only-of-type {\n",
       "        vertical-align: middle;\n",
       "    }\n",
       "\n",
       "    .dataframe tbody tr th {\n",
       "        vertical-align: top;\n",
       "    }\n",
       "\n",
       "    .dataframe thead th {\n",
       "        text-align: right;\n",
       "    }\n",
       "</style>\n",
       "<table border=\"1\" class=\"dataframe\">\n",
       "  <thead>\n",
       "    <tr style=\"text-align: right;\">\n",
       "      <th></th>\n",
       "      <th>index</th>\n",
       "      <th>Count</th>\n",
       "    </tr>\n",
       "  </thead>\n",
       "  <tbody>\n",
       "    <tr>\n",
       "      <th>0</th>\n",
       "      <td>1970 Population</td>\n",
       "      <td>152429421</td>\n",
       "    </tr>\n",
       "    <tr>\n",
       "      <th>1</th>\n",
       "      <td>1980 Population</td>\n",
       "      <td>197651809</td>\n",
       "    </tr>\n",
       "    <tr>\n",
       "      <th>2</th>\n",
       "      <td>1990 Population</td>\n",
       "      <td>262500513</td>\n",
       "    </tr>\n",
       "    <tr>\n",
       "      <th>3</th>\n",
       "      <td>2000 Population</td>\n",
       "      <td>344335243</td>\n",
       "    </tr>\n",
       "    <tr>\n",
       "      <th>4</th>\n",
       "      <td>2010 Population</td>\n",
       "      <td>448944841</td>\n",
       "    </tr>\n",
       "    <tr>\n",
       "      <th>5</th>\n",
       "      <td>2015 Population</td>\n",
       "      <td>515391206</td>\n",
       "    </tr>\n",
       "    <tr>\n",
       "      <th>6</th>\n",
       "      <td>2020 Population</td>\n",
       "      <td>587541132</td>\n",
       "    </tr>\n",
       "    <tr>\n",
       "      <th>7</th>\n",
       "      <td>2022 Population</td>\n",
       "      <td>617419199</td>\n",
       "    </tr>\n",
       "  </tbody>\n",
       "</table>\n",
       "</div>"
      ],
      "text/plain": [
       "             index      Count\n",
       "0  1970 Population  152429421\n",
       "1  1980 Population  197651809\n",
       "2  1990 Population  262500513\n",
       "3  2000 Population  344335243\n",
       "4  2010 Population  448944841\n",
       "5  2015 Population  515391206\n",
       "6  2020 Population  587541132\n",
       "7  2022 Population  617419199"
      ]
     },
     "execution_count": 75,
     "metadata": {},
     "output_type": "execute_result"
    }
   ],
   "source": [
    "Africa_pop"
   ]
  },
  {
   "cell_type": "code",
   "execution_count": 81,
   "metadata": {},
   "outputs": [
    {
     "data": {
      "image/png": "[encoded data removed]",
      "text/plain": [
       "<Figure size 1296x432 with 1 Axes>"
      ]
     },
     "metadata": {
      "needs_background": "light"
     },
     "output_type": "display_data"
    }
   ],
   "source": [
    "Africa.plot.bar(x='Country/Territory' , y = '2022 Population' , title = '5 Most Populated country in Africa' , color='darkblue' , fontsize=12);"
   ]
  },
  {
   "cell_type": "markdown",
   "metadata": {},
   "source": [
    "## Q3: What is the world population from 1970 to 2022?"
   ]
  },
  {
   "cell_type": "code",
   "execution_count": 89,
   "metadata": {},
   "outputs": [
    {
     "data": {
      "image/png": "[encoded data removed]",
      "text/plain": [
       "<Figure size 864x432 with 1 Axes>"
      ]
     },
     "metadata": {},
     "output_type": "display_data"
    }
   ],
   "source": [
    "# Set the figure size\n",
    "plt.subplots(figsize=(12,6))\n",
    "\n",
    "\n",
    "sns.set_style('whitegrid')\n",
    "# Create the bar chart\n",
    "trend = world_pop.iloc[:,5:13].sum()[::-1]\n",
    "sns.lineplot(x=trend.index, y=trend.values, marker=\"o\" , color='red')\n",
    "\n",
    "# Add labels and title\n",
    "plt.xticks(rotation=45)\n",
    "plt.ylabel(\"Population\")\n",
    "plt.title(\"World Population Trend (1970-2022)\",\n",
    "color = 'orange')\n",
    "\n",
    "# Rotate the x-axis labels for better visibility\n",
    "plt.xticks(rotation=90)\n",
    "\n",
    "# Show the plot\n",
    "plt.show()"
   ]
  },
  {
   "cell_type": "markdown",
   "metadata": {},
   "source": [
    "## Q4 = What is the population of India in next 10 year? "
   ]
  },
  {
   "cell_type": "code",
   "execution_count": 124,
   "metadata": {
    "scrolled": true
   },
   "outputs": [
    {
     "data": {
      "text/html": [
       "<div>\n",
       "<style scoped>\n",
       "    .dataframe tbody tr th:only-of-type {\n",
       "        vertical-align: middle;\n",
       "    }\n",
       "\n",
       "    .dataframe tbody tr th {\n",
       "        vertical-align: top;\n",
       "    }\n",
       "\n",
       "    .dataframe thead th {\n",
       "        text-align: right;\n",
       "    }\n",
       "</style>\n",
       "<table border=\"1\" class=\"dataframe\">\n",
       "  <thead>\n",
       "    <tr style=\"text-align: right;\">\n",
       "      <th></th>\n",
       "      <th>Rank</th>\n",
       "      <th>CCA3</th>\n",
       "      <th>Country/Territory</th>\n",
       "      <th>Capital</th>\n",
       "      <th>Continent</th>\n",
       "      <th>2022 Population</th>\n",
       "      <th>2020 Population</th>\n",
       "      <th>2015 Population</th>\n",
       "      <th>2010 Population</th>\n",
       "      <th>2000 Population</th>\n",
       "      <th>1990 Population</th>\n",
       "      <th>1980 Population</th>\n",
       "      <th>1970 Population</th>\n",
       "      <th>Area (km²)</th>\n",
       "      <th>Density (per km²)</th>\n",
       "      <th>Growth Rate</th>\n",
       "      <th>World Population Percentage</th>\n",
       "      <th>Average_pop</th>\n",
       "    </tr>\n",
       "  </thead>\n",
       "  <tbody>\n",
       "    <tr>\n",
       "      <th>92</th>\n",
       "      <td>2</td>\n",
       "      <td>IND</td>\n",
       "      <td>India</td>\n",
       "      <td>New Delhi</td>\n",
       "      <td>Asia</td>\n",
       "      <td>1417173173</td>\n",
       "      <td>1396387127</td>\n",
       "      <td>1322866505</td>\n",
       "      <td>1240613620</td>\n",
       "      <td>1059633675</td>\n",
       "      <td>870452165</td>\n",
       "      <td>696828385</td>\n",
       "      <td>557501301</td>\n",
       "      <td>3287590</td>\n",
       "      <td>431.0675</td>\n",
       "      <td>1.0068</td>\n",
       "      <td>17.77</td>\n",
       "      <td>NaN</td>\n",
       "    </tr>\n",
       "  </tbody>\n",
       "</table>\n",
       "</div>"
      ],
      "text/plain": [
       "    Rank CCA3 Country/Territory    Capital Continent  2022 Population  \\\n",
       "92     2  IND             India  New Delhi      Asia       1417173173   \n",
       "\n",
       "    2020 Population  2015 Population  2010 Population  2000 Population  \\\n",
       "92       1396387127       1322866505       1240613620       1059633675   \n",
       "\n",
       "    1990 Population  1980 Population  1970 Population  Area (km²)  \\\n",
       "92        870452165        696828385        557501301     3287590   \n",
       "\n",
       "    Density (per km²)  Growth Rate  World Population Percentage  Average_pop  \n",
       "92           431.0675       1.0068                        17.77          NaN  "
      ]
     },
     "execution_count": 124,
     "metadata": {},
     "output_type": "execute_result"
    }
   ],
   "source": [
    "india_population = world_pop.loc[world_pop['Country/Territory'] == 'India']\n",
    "india_population"
   ]
  },
  {
   "cell_type": "code",
   "execution_count": 125,
   "metadata": {},
   "outputs": [
    {
     "data": {
      "text/plain": [
       "1417173173"
      ]
     },
     "execution_count": 125,
     "metadata": {},
     "output_type": "execute_result"
    }
   ],
   "source": [
    "population_2022 = india_population['2022 Population'].sum()\n",
    "population_2022"
   ]
  },
  {
   "cell_type": "code",
   "execution_count": 126,
   "metadata": {},
   "outputs": [
    {
     "name": "stdout",
     "output_type": "stream",
     "text": [
      "*******************************************************\n",
      "India population in next 10 Year is : 253814097235\n"
     ]
    }
   ],
   "source": [
    "# Step 1: Determine the current population (Population_0) and population growth rate\n",
    "\n",
    "population_growth_rate = 0.68  # From google\n",
    "\n",
    "# Step 2:  the number of years into the future (time) for which you want to project the population\n",
    "years_to_project = 10\n",
    "\n",
    "# Step 3: Calculate the population at a later time (Population_t)\n",
    "population_t = population_2022 * (1 + population_growth_rate) ** years_to_project\n",
    "\n",
    "\n",
    "print(\"*******************************************************\")\n",
    "print(\"India population in next 10 Year is :\", int(population_t))"
   ]
  },
  {
   "cell_type": "code",
   "execution_count": null,
   "metadata": {},
   "outputs": [],
   "source": []
  },
  {
   "cell_type": "markdown",
   "metadata": {},
   "source": [
    "## Q5: Draw the India map showing all the details present in the dataset "
   ]
  },
  {
   "cell_type": "code",
   "execution_count": 131,
   "metadata": {},
   "outputs": [
    {
     "data": {
      "application/vnd.plotly.v1+json": {
       "config": {
        "plotlyServerURL": "https://plot.ly"
       },
       "data": [
        {
         "coloraxis": "coloraxis",
         "customdata": [
          [
           2,
           "IND",
           "India",
           "New Delhi",
           "Asia",
           1417173173,
           1396387127,
           1322866505,
           1240613620,
           1059633675,
           870452165,
           696828385,
           557501301,
           3287590,
           431.0675,
           1.0068,
           17.77,
           null
          ]
         ],
         "geo": "geo",
         "hovertemplate": "<b>%{hovertext}</b><br><br>CCA3=%{customdata[1]}<br>Rank=%{customdata[0]}<br>Country/Territory=%{customdata[2]}<br>Capital=%{customdata[3]}<br>Continent=%{customdata[4]}<br>2022 Population=%{z}<br>2020 Population=%{customdata[6]}<br>2015 Population=%{customdata[7]}<br>2010 Population=%{customdata[8]}<br>2000 Population=%{customdata[9]}<br>1990 Population=%{customdata[10]}<br>1980 Population=%{customdata[11]}<br>1970 Population=%{customdata[12]}<br>Area (km²)=%{customdata[13]}<br>Density (per km²)=%{customdata[14]}<br>Growth Rate=%{customdata[15]}<br>World Population Percentage=%{customdata[16]}<br>Average_pop=%{customdata[17]}<extra></extra>",
         "hovertext": [
          "India"
         ],
         "locations": [
          "IND"
         ],
         "name": "",
         "type": "choropleth",
         "z": [
          1417173173
         ]
        }
       ],
       "layout": {
        "coloraxis": {
         "colorbar": {
          "title": {
           "text": "2022 Population"
          }
         },
         "colorscale": [
          [
           0,
           "#0d0887"
          ],
          [
           0.1111111111111111,
           "#46039f"
          ],
          [
           0.2222222222222222,
           "#7201a8"
          ],
          [
           0.3333333333333333,
           "#9c179e"
          ],
          [
           0.4444444444444444,
           "#bd3786"
          ],
          [
           0.5555555555555556,
           "#d8576b"
          ],
          [
           0.6666666666666666,
           "#ed7953"
          ],
          [
           0.7777777777777778,
           "#fb9f3a"
          ],
          [
           0.8888888888888888,
           "#fdca26"
          ],
          [
           1,
           "#f0f921"
          ]
         ]
        },
        "geo": {
         "center": {},
         "domain": {
          "x": [
           0,
           1
          ],
          "y": [
           0,
           1
          ]
         },
         "projection": {
          "type": "natural earth"
         }
        },
        "legend": {
         "tracegroupgap": 0
        },
        "template": {
         "data": {
          "bar": [
           {
            "error_x": {
             "color": "#2a3f5f"
            },
            "error_y": {
             "color": "#2a3f5f"
            },
            "marker": {
             "line": {
              "color": "#E5ECF6",
              "width": 0.5
             },
             "pattern": {
              "fillmode": "overlay",
              "size": 10,
              "solidity": 0.2
             }
            },
            "type": "bar"
           }
          ],
          "barpolar": [
           {
            "marker": {
             "line": {
              "color": "#E5ECF6",
              "width": 0.5
             },
             "pattern": {
              "fillmode": "overlay",
              "size": 10,
              "solidity": 0.2
             }
            },
            "type": "barpolar"
           }
          ],
          "carpet": [
           {
            "aaxis": {
             "endlinecolor": "#2a3f5f",
             "gridcolor": "white",
             "linecolor": "white",
             "minorgridcolor": "white",
             "startlinecolor": "#2a3f5f"
            },
            "baxis": {
             "endlinecolor": "#2a3f5f",
             "gridcolor": "white",
             "linecolor": "white",
             "minorgridcolor": "white",
             "startlinecolor": "#2a3f5f"
            },
            "type": "carpet"
           }
          ],
          "choropleth": [
           {
            "colorbar": {
             "outlinewidth": 0,
             "ticks": ""
            },
            "type": "choropleth"
           }
          ],
          "contour": [
           {
            "colorbar": {
             "outlinewidth": 0,
             "ticks": ""
            },
            "colorscale": [
             [
              0,
              "#0d0887"
             ],
             [
              0.1111111111111111,
              "#46039f"
             ],
             [
              0.2222222222222222,
              "#7201a8"
             ],
             [
              0.3333333333333333,
              "#9c179e"
             ],
             [
              0.4444444444444444,
              "#bd3786"
             ],
             [
              0.5555555555555556,
              "#d8576b"
             ],
             [
              0.6666666666666666,
              "#ed7953"
             ],
             [
              0.7777777777777778,
              "#fb9f3a"
             ],
             [
              0.8888888888888888,
              "#fdca26"
             ],
             [
              1,
              "#f0f921"
             ]
            ],
            "type": "contour"
           }
          ],
          "contourcarpet": [
           {
            "colorbar": {
             "outlinewidth": 0,
             "ticks": ""
            },
            "type": "contourcarpet"
           }
          ],
          "heatmap": [
           {
            "colorbar": {
             "outlinewidth": 0,
             "ticks": ""
            },
            "colorscale": [
             [
              0,
              "#0d0887"
             ],
             [
              0.1111111111111111,
              "#46039f"
             ],
             [
              0.2222222222222222,
              "#7201a8"
             ],
             [
              0.3333333333333333,
              "#9c179e"
             ],
             [
              0.4444444444444444,
              "#bd3786"
             ],
             [
              0.5555555555555556,
              "#d8576b"
             ],
             [
              0.6666666666666666,
              "#ed7953"
             ],
             [
              0.7777777777777778,
              "#fb9f3a"
             ],
             [
              0.8888888888888888,
              "#fdca26"
             ],
             [
              1,
              "#f0f921"
             ]
            ],
            "type": "heatmap"
           }
          ],
          "heatmapgl": [
           {
            "colorbar": {
             "outlinewidth": 0,
             "ticks": ""
            },
            "colorscale": [
             [
              0,
              "#0d0887"
             ],
             [
              0.1111111111111111,
              "#46039f"
             ],
             [
              0.2222222222222222,
              "#7201a8"
             ],
             [
              0.3333333333333333,
              "#9c179e"
             ],
             [
              0.4444444444444444,
              "#bd3786"
             ],
             [
              0.5555555555555556,
              "#d8576b"
             ],
             [
              0.6666666666666666,
              "#ed7953"
             ],
             [
              0.7777777777777778,
              "#fb9f3a"
             ],
             [
              0.8888888888888888,
              "#fdca26"
             ],
             [
              1,
              "#f0f921"
             ]
            ],
            "type": "heatmapgl"
           }
          ],
          "histogram": [
           {
            "marker": {
             "pattern": {
              "fillmode": "overlay",
              "size": 10,
              "solidity": 0.2
             }
            },
            "type": "histogram"
           }
          ],
          "histogram2d": [
           {
            "colorbar": {
             "outlinewidth": 0,
             "ticks": ""
            },
            "colorscale": [
             [
              0,
              "#0d0887"
             ],
             [
              0.1111111111111111,
              "#46039f"
             ],
             [
              0.2222222222222222,
              "#7201a8"
             ],
             [
              0.3333333333333333,
              "#9c179e"
             ],
             [
              0.4444444444444444,
              "#bd3786"
             ],
             [
              0.5555555555555556,
              "#d8576b"
             ],
             [
              0.6666666666666666,
              "#ed7953"
             ],
             [
              0.7777777777777778,
              "#fb9f3a"
             ],
             [
              0.8888888888888888,
              "#fdca26"
             ],
             [
              1,
              "#f0f921"
             ]
            ],
            "type": "histogram2d"
           }
          ],
          "histogram2dcontour": [
           {
            "colorbar": {
             "outlinewidth": 0,
             "ticks": ""
            },
            "colorscale": [
             [
              0,
              "#0d0887"
             ],
             [
              0.1111111111111111,
              "#46039f"
             ],
             [
              0.2222222222222222,
              "#7201a8"
             ],
             [
              0.3333333333333333,
              "#9c179e"
             ],
             [
              0.4444444444444444,
              "#bd3786"
             ],
             [
              0.5555555555555556,
              "#d8576b"
             ],
             [
              0.6666666666666666,
              "#ed7953"
             ],
             [
              0.7777777777777778,
              "#fb9f3a"
             ],
             [
              0.8888888888888888,
              "#fdca26"
             ],
             [
              1,
              "#f0f921"
             ]
            ],
            "type": "histogram2dcontour"
           }
          ],
          "mesh3d": [
           {
            "colorbar": {
             "outlinewidth": 0,
             "ticks": ""
            },
            "type": "mesh3d"
           }
          ],
          "parcoords": [
           {
            "line": {
             "colorbar": {
              "outlinewidth": 0,
              "ticks": ""
             }
            },
            "type": "parcoords"
           }
          ],
          "pie": [
           {
            "automargin": true,
            "type": "pie"
           }
          ],
          "scatter": [
           {
            "fillpattern": {
             "fillmode": "overlay",
             "size": 10,
             "solidity": 0.2
            },
            "type": "scatter"
           }
          ],
          "scatter3d": [
           {
            "line": {
             "colorbar": {
              "outlinewidth": 0,
              "ticks": ""
             }
            },
            "marker": {
             "colorbar": {
              "outlinewidth": 0,
              "ticks": ""
             }
            },
            "type": "scatter3d"
           }
          ],
          "scattercarpet": [
           {
            "marker": {
             "colorbar": {
              "outlinewidth": 0,
              "ticks": ""
             }
            },
            "type": "scattercarpet"
           }
          ],
          "scattergeo": [
           {
            "marker": {
             "colorbar": {
              "outlinewidth": 0,
              "ticks": ""
             }
            },
            "type": "scattergeo"
           }
          ],
          "scattergl": [
           {
            "marker": {
             "colorbar": {
              "outlinewidth": 0,
              "ticks": ""
             }
            },
            "type": "scattergl"
           }
          ],
          "scattermapbox": [
           {
            "marker": {
             "colorbar": {
              "outlinewidth": 0,
              "ticks": ""
             }
            },
            "type": "scattermapbox"
           }
          ],
          "scatterpolar": [
           {
            "marker": {
             "colorbar": {
              "outlinewidth": 0,
              "ticks": ""
             }
            },
            "type": "scatterpolar"
           }
          ],
          "scatterpolargl": [
           {
            "marker": {
             "colorbar": {
              "outlinewidth": 0,
              "ticks": ""
             }
            },
            "type": "scatterpolargl"
           }
          ],
          "scatterternary": [
           {
            "marker": {
             "colorbar": {
              "outlinewidth": 0,
              "ticks": ""
             }
            },
            "type": "scatterternary"
           }
          ],
          "surface": [
           {
            "colorbar": {
             "outlinewidth": 0,
             "ticks": ""
            },
            "colorscale": [
             [
              0,
              "#0d0887"
             ],
             [
              0.1111111111111111,
              "#46039f"
             ],
             [
              0.2222222222222222,
              "#7201a8"
             ],
             [
              0.3333333333333333,
              "#9c179e"
             ],
             [
              0.4444444444444444,
              "#bd3786"
             ],
             [
              0.5555555555555556,
              "#d8576b"
             ],
             [
              0.6666666666666666,
              "#ed7953"
             ],
             [
              0.7777777777777778,
              "#fb9f3a"
             ],
             [
              0.8888888888888888,
              "#fdca26"
             ],
             [
              1,
              "#f0f921"
             ]
            ],
            "type": "surface"
           }
          ],
          "table": [
           {
            "cells": {
             "fill": {
              "color": "#EBF0F8"
             },
             "line": {
              "color": "white"
             }
            },
            "header": {
             "fill": {
              "color": "#C8D4E3"
             },
             "line": {
              "color": "white"
             }
            },
            "type": "table"
           }
          ]
         },
         "layout": {
          "annotationdefaults": {
           "arrowcolor": "#2a3f5f",
           "arrowhead": 0,
           "arrowwidth": 1
          },
          "autotypenumbers": "strict",
          "coloraxis": {
           "colorbar": {
            "outlinewidth": 0,
            "ticks": ""
           }
          },
          "colorscale": {
           "diverging": [
            [
             0,
             "#8e0152"
            ],
            [
             0.1,
             "#c51b7d"
            ],
            [
             0.2,
             "#de77ae"
            ],
            [
             0.3,
             "#f1b6da"
            ],
            [
             0.4,
             "#fde0ef"
            ],
            [
             0.5,
             "#f7f7f7"
            ],
            [
             0.6,
             "#e6f5d0"
            ],
            [
             0.7,
             "#b8e186"
            ],
            [
             0.8,
             "#7fbc41"
            ],
            [
             0.9,
             "#4d9221"
            ],
            [
             1,
             "#276419"
            ]
           ],
           "sequential": [
            [
             0,
             "#0d0887"
            ],
            [
             0.1111111111111111,
             "#46039f"
            ],
            [
             0.2222222222222222,
             "#7201a8"
            ],
            [
             0.3333333333333333,
             "#9c179e"
            ],
            [
             0.4444444444444444,
             "#bd3786"
            ],
            [
             0.5555555555555556,
             "#d8576b"
            ],
            [
             0.6666666666666666,
             "#ed7953"
            ],
            [
             0.7777777777777778,
             "#fb9f3a"
            ],
            [
             0.8888888888888888,
             "#fdca26"
            ],
            [
             1,
             "#f0f921"
            ]
           ],
           "sequentialminus": [
            [
             0,
             "#0d0887"
            ],
            [
             0.1111111111111111,
             "#46039f"
            ],
            [
             0.2222222222222222,
             "#7201a8"
            ],
            [
             0.3333333333333333,
             "#9c179e"
            ],
            [
             0.4444444444444444,
             "#bd3786"
            ],
            [
             0.5555555555555556,
             "#d8576b"
            ],
            [
             0.6666666666666666,
             "#ed7953"
            ],
            [
             0.7777777777777778,
             "#fb9f3a"
            ],
            [
             0.8888888888888888,
             "#fdca26"
            ],
            [
             1,
             "#f0f921"
            ]
           ]
          },
          "colorway": [
           "#636efa",
           "#EF553B",
           "#00cc96",
           "#ab63fa",
           "#FFA15A",
           "#19d3f3",
           "#FF6692",
           "#B6E880",
           "#FF97FF",
           "#FECB52"
          ],
          "font": {
           "color": "#2a3f5f"
          },
          "geo": {
           "bgcolor": "white",
           "lakecolor": "white",
           "landcolor": "#E5ECF6",
           "showlakes": true,
           "showland": true,
           "subunitcolor": "white"
          },
          "hoverlabel": {
           "align": "left"
          },
          "hovermode": "closest",
          "mapbox": {
           "style": "light"
          },
          "paper_bgcolor": "white",
          "plot_bgcolor": "#E5ECF6",
          "polar": {
           "angularaxis": {
            "gridcolor": "white",
            "linecolor": "white",
            "ticks": ""
           },
           "bgcolor": "#E5ECF6",
           "radialaxis": {
            "gridcolor": "white",
            "linecolor": "white",
            "ticks": ""
           }
          },
          "scene": {
           "xaxis": {
            "backgroundcolor": "#E5ECF6",
            "gridcolor": "white",
            "gridwidth": 2,
            "linecolor": "white",
            "showbackground": true,
            "ticks": "",
            "zerolinecolor": "white"
           },
           "yaxis": {
            "backgroundcolor": "#E5ECF6",
            "gridcolor": "white",
            "gridwidth": 2,
            "linecolor": "white",
            "showbackground": true,
            "ticks": "",
            "zerolinecolor": "white"
           },
           "zaxis": {
            "backgroundcolor": "#E5ECF6",
            "gridcolor": "white",
            "gridwidth": 2,
            "linecolor": "white",
            "showbackground": true,
            "ticks": "",
            "zerolinecolor": "white"
           }
          },
          "shapedefaults": {
           "line": {
            "color": "#2a3f5f"
           }
          },
          "ternary": {
           "aaxis": {
            "gridcolor": "white",
            "linecolor": "white",
            "ticks": ""
           },
           "baxis": {
            "gridcolor": "white",
            "linecolor": "white",
            "ticks": ""
           },
           "bgcolor": "#E5ECF6",
           "caxis": {
            "gridcolor": "white",
            "linecolor": "white",
            "ticks": ""
           }
          },
          "title": {
           "x": 0.05
          },
          "xaxis": {
           "automargin": true,
           "gridcolor": "white",
           "linecolor": "white",
           "ticks": "",
           "title": {
            "standoff": 15
           },
           "zerolinecolor": "white",
           "zerolinewidth": 2
          },
          "yaxis": {
           "automargin": true,
           "gridcolor": "white",
           "linecolor": "white",
           "ticks": "",
           "title": {
            "standoff": 15
           },
           "zerolinecolor": "white",
           "zerolinewidth": 2
          }
         }
        },
        "title": {
         "text": "choropleth Map showing World Population in 2022"
        }
       }
      },
      "text/html": [
       "<div>                            <div id=\"ba9eca98-2c6d-4ff1-b18a-b8562c884b25\" class=\"plotly-graph-div\" style=\"height:525px; width:100%;\"></div>            <script type=\"text/javascript\">                require([\"plotly\"], function(Plotly) {                    window.PLOTLYENV=window.PLOTLYENV || {};                                    if (document.getElementById(\"ba9eca98-2c6d-4ff1-b18a-b8562c884b25\")) {                    Plotly.newPlot(                        \"ba9eca98-2c6d-4ff1-b18a-b8562c884b25\",                        [{\"coloraxis\":\"coloraxis\",\"customdata\":[[2,\"IND\",\"India\",\"New Delhi\",\"Asia\",1417173173,1396387127,1322866505,1240613620,1059633675,870452165,696828385,557501301,3287590,431.0675,1.0068,17.77,null]],\"geo\":\"geo\",\"hovertemplate\":\"\\u003cb\\u003e%{hovertext}\\u003c\\u002fb\\u003e\\u003cbr\\u003e\\u003cbr\\u003eCCA3=%{customdata[1]}\\u003cbr\\u003eRank=%{customdata[0]}\\u003cbr\\u003eCountry\\u002fTerritory=%{customdata[2]}\\u003cbr\\u003eCapital=%{customdata[3]}\\u003cbr\\u003eContinent=%{customdata[4]}\\u003cbr\\u003e2022 Population=%{z}\\u003cbr\\u003e2020 Population=%{customdata[6]}\\u003cbr\\u003e2015 Population=%{customdata[7]}\\u003cbr\\u003e2010 Population=%{customdata[8]}\\u003cbr\\u003e2000 Population=%{customdata[9]}\\u003cbr\\u003e1990 Population=%{customdata[10]}\\u003cbr\\u003e1980 Population=%{customdata[11]}\\u003cbr\\u003e1970 Population=%{customdata[12]}\\u003cbr\\u003eArea (km\\u00b2)=%{customdata[13]}\\u003cbr\\u003eDensity (per km\\u00b2)=%{customdata[14]}\\u003cbr\\u003eGrowth Rate=%{customdata[15]}\\u003cbr\\u003eWorld Population Percentage=%{customdata[16]}\\u003cbr\\u003eAverage_pop=%{customdata[17]}\\u003cextra\\u003e\\u003c\\u002fextra\\u003e\",\"hovertext\":[\"India\"],\"locations\":[\"IND\"],\"name\":\"\",\"z\":[1417173173],\"type\":\"choropleth\"}],                        {\"template\":{\"data\":{\"histogram2dcontour\":[{\"type\":\"histogram2dcontour\",\"colorbar\":{\"outlinewidth\":0,\"ticks\":\"\"},\"colorscale\":[[0.0,\"#0d0887\"],[0.1111111111111111,\"#46039f\"],[0.2222222222222222,\"#7201a8\"],[0.3333333333333333,\"#9c179e\"],[0.4444444444444444,\"#bd3786\"],[0.5555555555555556,\"#d8576b\"],[0.6666666666666666,\"#ed7953\"],[0.7777777777777778,\"#fb9f3a\"],[0.8888888888888888,\"#fdca26\"],[1.0,\"#f0f921\"]]}],\"choropleth\":[{\"type\":\"choropleth\",\"colorbar\":{\"outlinewidth\":0,\"ticks\":\"\"}}],\"histogram2d\":[{\"type\":\"histogram2d\",\"colorbar\":{\"outlinewidth\":0,\"ticks\":\"\"},\"colorscale\":[[0.0,\"#0d0887\"],[0.1111111111111111,\"#46039f\"],[0.2222222222222222,\"#7201a8\"],[0.3333333333333333,\"#9c179e\"],[0.4444444444444444,\"#bd3786\"],[0.5555555555555556,\"#d8576b\"],[0.6666666666666666,\"#ed7953\"],[0.7777777777777778,\"#fb9f3a\"],[0.8888888888888888,\"#fdca26\"],[1.0,\"#f0f921\"]]}],\"heatmap\":[{\"type\":\"heatmap\",\"colorbar\":{\"outlinewidth\":0,\"ticks\":\"\"},\"colorscale\":[[0.0,\"#0d0887\"],[0.1111111111111111,\"#46039f\"],[0.2222222222222222,\"#7201a8\"],[0.3333333333333333,\"#9c179e\"],[0.4444444444444444,\"#bd3786\"],[0.5555555555555556,\"#d8576b\"],[0.6666666666666666,\"#ed7953\"],[0.7777777777777778,\"#fb9f3a\"],[0.8888888888888888,\"#fdca26\"],[1.0,\"#f0f921\"]]}],\"heatmapgl\":[{\"type\":\"heatmapgl\",\"colorbar\":{\"outlinewidth\":0,\"ticks\":\"\"},\"colorscale\":[[0.0,\"#0d0887\"],[0.1111111111111111,\"#46039f\"],[0.2222222222222222,\"#7201a8\"],[0.3333333333333333,\"#9c179e\"],[0.4444444444444444,\"#bd3786\"],[0.5555555555555556,\"#d8576b\"],[0.6666666666666666,\"#ed7953\"],[0.7777777777777778,\"#fb9f3a\"],[0.8888888888888888,\"#fdca26\"],[1.0,\"#f0f921\"]]}],\"contourcarpet\":[{\"type\":\"contourcarpet\",\"colorbar\":{\"outlinewidth\":0,\"ticks\":\"\"}}],\"contour\":[{\"type\":\"contour\",\"colorbar\":{\"outlinewidth\":0,\"ticks\":\"\"},\"colorscale\":[[0.0,\"#0d0887\"],[0.1111111111111111,\"#46039f\"],[0.2222222222222222,\"#7201a8\"],[0.3333333333333333,\"#9c179e\"],[0.4444444444444444,\"#bd3786\"],[0.5555555555555556,\"#d8576b\"],[0.6666666666666666,\"#ed7953\"],[0.7777777777777778,\"#fb9f3a\"],[0.8888888888888888,\"#fdca26\"],[1.0,\"#f0f921\"]]}],\"surface\":[{\"type\":\"surface\",\"colorbar\":{\"outlinewidth\":0,\"ticks\":\"\"},\"colorscale\":[[0.0,\"#0d0887\"],[0.1111111111111111,\"#46039f\"],[0.2222222222222222,\"#7201a8\"],[0.3333333333333333,\"#9c179e\"],[0.4444444444444444,\"#bd3786\"],[0.5555555555555556,\"#d8576b\"],[0.6666666666666666,\"#ed7953\"],[0.7777777777777778,\"#fb9f3a\"],[0.8888888888888888,\"#fdca26\"],[1.0,\"#f0f921\"]]}],\"mesh3d\":[{\"type\":\"mesh3d\",\"colorbar\":{\"outlinewidth\":0,\"ticks\":\"\"}}],\"scatter\":[{\"fillpattern\":{\"fillmode\":\"overlay\",\"size\":10,\"solidity\":0.2},\"type\":\"scatter\"}],\"parcoords\":[{\"type\":\"parcoords\",\"line\":{\"colorbar\":{\"outlinewidth\":0,\"ticks\":\"\"}}}],\"scatterpolargl\":[{\"type\":\"scatterpolargl\",\"marker\":{\"colorbar\":{\"outlinewidth\":0,\"ticks\":\"\"}}}],\"bar\":[{\"error_x\":{\"color\":\"#2a3f5f\"},\"error_y\":{\"color\":\"#2a3f5f\"},\"marker\":{\"line\":{\"color\":\"#E5ECF6\",\"width\":0.5},\"pattern\":{\"fillmode\":\"overlay\",\"size\":10,\"solidity\":0.2}},\"type\":\"bar\"}],\"scattergeo\":[{\"type\":\"scattergeo\",\"marker\":{\"colorbar\":{\"outlinewidth\":0,\"ticks\":\"\"}}}],\"scatterpolar\":[{\"type\":\"scatterpolar\",\"marker\":{\"colorbar\":{\"outlinewidth\":0,\"ticks\":\"\"}}}],\"histogram\":[{\"marker\":{\"pattern\":{\"fillmode\":\"overlay\",\"size\":10,\"solidity\":0.2}},\"type\":\"histogram\"}],\"scattergl\":[{\"type\":\"scattergl\",\"marker\":{\"colorbar\":{\"outlinewidth\":0,\"ticks\":\"\"}}}],\"scatter3d\":[{\"type\":\"scatter3d\",\"line\":{\"colorbar\":{\"outlinewidth\":0,\"ticks\":\"\"}},\"marker\":{\"colorbar\":{\"outlinewidth\":0,\"ticks\":\"\"}}}],\"scattermapbox\":[{\"type\":\"scattermapbox\",\"marker\":{\"colorbar\":{\"outlinewidth\":0,\"ticks\":\"\"}}}],\"scatterternary\":[{\"type\":\"scatterternary\",\"marker\":{\"colorbar\":{\"outlinewidth\":0,\"ticks\":\"\"}}}],\"scattercarpet\":[{\"type\":\"scattercarpet\",\"marker\":{\"colorbar\":{\"outlinewidth\":0,\"ticks\":\"\"}}}],\"carpet\":[{\"aaxis\":{\"endlinecolor\":\"#2a3f5f\",\"gridcolor\":\"white\",\"linecolor\":\"white\",\"minorgridcolor\":\"white\",\"startlinecolor\":\"#2a3f5f\"},\"baxis\":{\"endlinecolor\":\"#2a3f5f\",\"gridcolor\":\"white\",\"linecolor\":\"white\",\"minorgridcolor\":\"white\",\"startlinecolor\":\"#2a3f5f\"},\"type\":\"carpet\"}],\"table\":[{\"cells\":{\"fill\":{\"color\":\"#EBF0F8\"},\"line\":{\"color\":\"white\"}},\"header\":{\"fill\":{\"color\":\"#C8D4E3\"},\"line\":{\"color\":\"white\"}},\"type\":\"table\"}],\"barpolar\":[{\"marker\":{\"line\":{\"color\":\"#E5ECF6\",\"width\":0.5},\"pattern\":{\"fillmode\":\"overlay\",\"size\":10,\"solidity\":0.2}},\"type\":\"barpolar\"}],\"pie\":[{\"automargin\":true,\"type\":\"pie\"}]},\"layout\":{\"autotypenumbers\":\"strict\",\"colorway\":[\"#636efa\",\"#EF553B\",\"#00cc96\",\"#ab63fa\",\"#FFA15A\",\"#19d3f3\",\"#FF6692\",\"#B6E880\",\"#FF97FF\",\"#FECB52\"],\"font\":{\"color\":\"#2a3f5f\"},\"hovermode\":\"closest\",\"hoverlabel\":{\"align\":\"left\"},\"paper_bgcolor\":\"white\",\"plot_bgcolor\":\"#E5ECF6\",\"polar\":{\"bgcolor\":\"#E5ECF6\",\"angularaxis\":{\"gridcolor\":\"white\",\"linecolor\":\"white\",\"ticks\":\"\"},\"radialaxis\":{\"gridcolor\":\"white\",\"linecolor\":\"white\",\"ticks\":\"\"}},\"ternary\":{\"bgcolor\":\"#E5ECF6\",\"aaxis\":{\"gridcolor\":\"white\",\"linecolor\":\"white\",\"ticks\":\"\"},\"baxis\":{\"gridcolor\":\"white\",\"linecolor\":\"white\",\"ticks\":\"\"},\"caxis\":{\"gridcolor\":\"white\",\"linecolor\":\"white\",\"ticks\":\"\"}},\"coloraxis\":{\"colorbar\":{\"outlinewidth\":0,\"ticks\":\"\"}},\"colorscale\":{\"sequential\":[[0.0,\"#0d0887\"],[0.1111111111111111,\"#46039f\"],[0.2222222222222222,\"#7201a8\"],[0.3333333333333333,\"#9c179e\"],[0.4444444444444444,\"#bd3786\"],[0.5555555555555556,\"#d8576b\"],[0.6666666666666666,\"#ed7953\"],[0.7777777777777778,\"#fb9f3a\"],[0.8888888888888888,\"#fdca26\"],[1.0,\"#f0f921\"]],\"sequentialminus\":[[0.0,\"#0d0887\"],[0.1111111111111111,\"#46039f\"],[0.2222222222222222,\"#7201a8\"],[0.3333333333333333,\"#9c179e\"],[0.4444444444444444,\"#bd3786\"],[0.5555555555555556,\"#d8576b\"],[0.6666666666666666,\"#ed7953\"],[0.7777777777777778,\"#fb9f3a\"],[0.8888888888888888,\"#fdca26\"],[1.0,\"#f0f921\"]],\"diverging\":[[0,\"#8e0152\"],[0.1,\"#c51b7d\"],[0.2,\"#de77ae\"],[0.3,\"#f1b6da\"],[0.4,\"#fde0ef\"],[0.5,\"#f7f7f7\"],[0.6,\"#e6f5d0\"],[0.7,\"#b8e186\"],[0.8,\"#7fbc41\"],[0.9,\"#4d9221\"],[1,\"#276419\"]]},\"xaxis\":{\"gridcolor\":\"white\",\"linecolor\":\"white\",\"ticks\":\"\",\"title\":{\"standoff\":15},\"zerolinecolor\":\"white\",\"automargin\":true,\"zerolinewidth\":2},\"yaxis\":{\"gridcolor\":\"white\",\"linecolor\":\"white\",\"ticks\":\"\",\"title\":{\"standoff\":15},\"zerolinecolor\":\"white\",\"automargin\":true,\"zerolinewidth\":2},\"scene\":{\"xaxis\":{\"backgroundcolor\":\"#E5ECF6\",\"gridcolor\":\"white\",\"linecolor\":\"white\",\"showbackground\":true,\"ticks\":\"\",\"zerolinecolor\":\"white\",\"gridwidth\":2},\"yaxis\":{\"backgroundcolor\":\"#E5ECF6\",\"gridcolor\":\"white\",\"linecolor\":\"white\",\"showbackground\":true,\"ticks\":\"\",\"zerolinecolor\":\"white\",\"gridwidth\":2},\"zaxis\":{\"backgroundcolor\":\"#E5ECF6\",\"gridcolor\":\"white\",\"linecolor\":\"white\",\"showbackground\":true,\"ticks\":\"\",\"zerolinecolor\":\"white\",\"gridwidth\":2}},\"shapedefaults\":{\"line\":{\"color\":\"#2a3f5f\"}},\"annotationdefaults\":{\"arrowcolor\":\"#2a3f5f\",\"arrowhead\":0,\"arrowwidth\":1},\"geo\":{\"bgcolor\":\"white\",\"landcolor\":\"#E5ECF6\",\"subunitcolor\":\"white\",\"showland\":true,\"showlakes\":true,\"lakecolor\":\"white\"},\"title\":{\"x\":0.05},\"mapbox\":{\"style\":\"light\"}}},\"geo\":{\"domain\":{\"x\":[0.0,1.0],\"y\":[0.0,1.0]},\"projection\":{\"type\":\"natural earth\"},\"center\":{}},\"coloraxis\":{\"colorbar\":{\"title\":{\"text\":\"2022 Population\"}},\"colorscale\":[[0.0,\"#0d0887\"],[0.1111111111111111,\"#46039f\"],[0.2222222222222222,\"#7201a8\"],[0.3333333333333333,\"#9c179e\"],[0.4444444444444444,\"#bd3786\"],[0.5555555555555556,\"#d8576b\"],[0.6666666666666666,\"#ed7953\"],[0.7777777777777778,\"#fb9f3a\"],[0.8888888888888888,\"#fdca26\"],[1.0,\"#f0f921\"]]},\"legend\":{\"tracegroupgap\":0},\"title\":{\"text\":\"choropleth Map showing World Population in 2022\"}},                        {\"responsive\": true}                    ).then(function(){\n",
       "                            \n",
       "var gd = document.getElementById('ba9eca98-2c6d-4ff1-b18a-b8562c884b25');\n",
       "var x = new MutationObserver(function (mutations, observer) {{\n",
       "        var display = window.getComputedStyle(gd).display;\n",
       "        if (!display || display === 'none') {{\n",
       "            console.log([gd, 'removed!']);\n",
       "            Plotly.purge(gd);\n",
       "            observer.disconnect();\n",
       "        }}\n",
       "}});\n",
       "\n",
       "// Listen for the removal of the full notebook cells\n",
       "var notebookContainer = gd.closest('#notebook-container');\n",
       "if (notebookContainer) {{\n",
       "    x.observe(notebookContainer, {childList: true});\n",
       "}}\n",
       "\n",
       "// Listen for the clearing of the current output cell\n",
       "var outputEl = gd.closest('.output');\n",
       "if (outputEl) {{\n",
       "    x.observe(outputEl, {childList: true});\n",
       "}}\n",
       "\n",
       "                        })                };                });            </script>        </div>"
      ]
     },
     "metadata": {},
     "output_type": "display_data"
    }
   ],
   "source": [
    "india_population = world_pop.loc[world_pop['Country/Territory'] == 'India']\n",
    "\n",
    "# Create a DataFrame\n",
    "world_pop_rc2022 = pd.DataFrame(india_population)\n",
    "\n",
    "# Create the choropleth plot\n",
    "fig = px.choropleth(world_pop_rc2022, locations=\"CCA3\",\n",
    "                    hover_name=\"Country/Territory\",\n",
    "                    hover_data=world_pop_rc2022.columns,\n",
    "                    color=\"2022 Population\",\n",
    "                    projection=\"natural earth\",\n",
    "                    title='choropleth Map showing World Population in 2022')\n",
    "                \n",
    "\n",
    "# Show the plot \n",
    "fig.show()"
   ]
  },
  {
   "cell_type": "code",
   "execution_count": null,
   "metadata": {},
   "outputs": [],
   "source": []
  },
  {
   "cell_type": "markdown",
   "metadata": {},
   "source": [
    "Let us save and upload our work to Jovian before continuing."
   ]
  },
  {
   "cell_type": "code",
   "execution_count": 132,
   "metadata": {},
   "outputs": [],
   "source": [
    "import jovian"
   ]
  },
  {
   "cell_type": "code",
   "execution_count": 133,
   "metadata": {},
   "outputs": [
    {
     "data": {
      "application/javascript": [
       "window.require && require([\"base/js/namespace\"],function(Jupyter){Jupyter.notebook.save_checkpoint()})"
      ],
      "text/plain": [
       "<IPython.core.display.Javascript object>"
      ]
     },
     "metadata": {},
     "output_type": "display_data"
    },
    {
     "name": "stdout",
     "output_type": "stream",
     "text": [
      "[jovian] Updating notebook \"eektafoudar/world-population\" on https://jovian.com\u001b[0m\n",
      "[jovian] Committed successfully! https://jovian.com/eektafoudar/world-population\u001b[0m\n"
     ]
    },
    {
     "data": {
      "text/plain": [
       "'https://jovian.com/eektafoudar/world-population'"
      ]
     },
     "execution_count": 133,
     "metadata": {},
     "output_type": "execute_result"
    }
   ],
   "source": [
    "jovian.commit()"
   ]
  },
  {
   "cell_type": "markdown",
   "metadata": {},
   "source": [
    "## Inferences and Conclusion\n",
    "\n",
    "we draw many graph and explain many question by I am much focusing on India.\n",
    "In that graph I explain the current population future population of different different countries.\n",
    "\n",
    "\n",
    "## Conclusion \n",
    "We saw how much the population of the world has increased and predictions show that future increase is to be expected, albeit at a slower rate than what was observed 50 years ago. With such predictions, governments can plan ahead, e.g. in terms of estimating basic human needs like food, water, power, transport, housing, etc. Population planning methods, as is already in place in some of the most populated countries in the world, can be employed to control the growth rate of the population."
   ]
  },
  {
   "cell_type": "code",
   "execution_count": 134,
   "metadata": {},
   "outputs": [],
   "source": [
    "import jovian"
   ]
  },
  {
   "cell_type": "code",
   "execution_count": 135,
   "metadata": {},
   "outputs": [
    {
     "data": {
      "application/javascript": [
       "window.require && require([\"base/js/namespace\"],function(Jupyter){Jupyter.notebook.save_checkpoint()})"
      ],
      "text/plain": [
       "<IPython.core.display.Javascript object>"
      ]
     },
     "metadata": {},
     "output_type": "display_data"
    },
    {
     "name": "stdout",
     "output_type": "stream",
     "text": [
      "[jovian] Updating notebook \"eektafoudar/world-population\" on https://jovian.com\u001b[0m\n",
      "[jovian] Committed successfully! https://jovian.com/eektafoudar/world-population\u001b[0m\n"
     ]
    },
    {
     "data": {
      "text/plain": [
       "'https://jovian.com/eektafoudar/world-population'"
      ]
     },
     "execution_count": 135,
     "metadata": {},
     "output_type": "execute_result"
    }
   ],
   "source": [
    "jovian.commit()"
   ]
  },
  {
   "cell_type": "markdown",
   "metadata": {},
   "source": [
    "## References and Future Work\n",
    "\n",
    "In my next project I will focusing on road accident dataset in which i will explain how accident is increasing day by day and what is the reason behind it.\n",
    "\n",
    "some references is given below:\n",
    "\n",
    "1. https://www.kaggle.com/\n",
    "\n",
    "2. 'https://www.kaggle.com/datasets/iamsouravbanerjee/world-population-dataset'\n",
    "\n",
    "3. https://www.kaggle.com/code/baptistemartin/population-growth-prediction\n",
    "\n",
    "4. https://www.worldometers.info/world-population/russia-population/"
   ]
  },
  {
   "cell_type": "code",
   "execution_count": 136,
   "metadata": {},
   "outputs": [],
   "source": [
    "import jovian"
   ]
  },
  {
   "cell_type": "code",
   "execution_count": 137,
   "metadata": {
    "scrolled": true
   },
   "outputs": [
    {
     "data": {
      "application/javascript": [
       "window.require && require([\"base/js/namespace\"],function(Jupyter){Jupyter.notebook.save_checkpoint()})"
      ],
      "text/plain": [
       "<IPython.core.display.Javascript object>"
      ]
     },
     "metadata": {},
     "output_type": "display_data"
    },
    {
     "name": "stdout",
     "output_type": "stream",
     "text": [
      "[jovian] Updating notebook \"eektafoudar/world-population\" on https://jovian.com\u001b[0m\n",
      "[jovian] Committed successfully! https://jovian.com/eektafoudar/world-population\u001b[0m\n"
     ]
    },
    {
     "data": {
      "text/plain": [
       "'https://jovian.com/eektafoudar/world-population'"
      ]
     },
     "execution_count": 137,
     "metadata": {},
     "output_type": "execute_result"
    }
   ],
   "source": [
    "jovian.commit()"
   ]
  },
  {
   "cell_type": "code",
   "execution_count": null,
   "metadata": {},
   "outputs": [],
   "source": []
  }
 ],
 "metadata": {
  "kernelspec": {
   "display_name": "Python 3 (ipykernel)",
   "language": "python",
   "name": "python3"
  },
  "language_info": {
   "codemirror_mode": {
    "name": "ipython",
    "version": 3
   },
   "file_extension": ".py",
   "mimetype": "text/x-python",
   "name": "python",
   "nbconvert_exporter": "python",
   "pygments_lexer": "ipython3",
   "version": "3.9.7"
  }
 },
 "nbformat": 4,
 "nbformat_minor": 4
}
